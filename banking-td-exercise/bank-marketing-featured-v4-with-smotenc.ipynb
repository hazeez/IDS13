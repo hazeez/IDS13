{
 "cells": [
  {
   "cell_type": "code",
   "execution_count": 1,
   "metadata": {},
   "outputs": [],
   "source": [
    "import pandas as pd\n",
    "import numpy as np\n",
    "import warnings\n",
    "\n",
    "from sklearn.linear_model import LogisticRegression\n",
    "from sklearn.tree import DecisionTreeClassifier\n",
    "from sklearn.ensemble import RandomForestClassifier\n",
    "from sklearn.model_selection import train_test_split, GridSearchCV\n",
    "from sklearn.metrics import accuracy_score, confusion_matrix, classification_report\n",
    "\n",
    "from sklearn.preprocessing import StandardScaler, PolynomialFeatures\n",
    "from imblearn.over_sampling import SMOTE, SMOTENC\n",
    "warnings.filterwarnings(\"ignore\")\n",
    "np.random.seed(42)"
   ]
  },
  {
   "cell_type": "code",
   "execution_count": 2,
   "metadata": {},
   "outputs": [],
   "source": [
    "from yellowbrick.classifier import ClassificationReport\n",
    "from yellowbrick.features import rank2d"
   ]
  },
  {
   "cell_type": "code",
   "execution_count": 3,
   "metadata": {},
   "outputs": [],
   "source": [
    "grid_search_enable = True\n",
    "dt_grid_search_enable = True\n",
    "rf_grid_search_enable = True\n",
    "ada_grid_search_enable = False\n",
    "gb_grid_search_enable = False\n",
    "lgbm_grid_search_enable = True\n",
    "xg_grid_search_enable = False\n",
    "\n",
    "cv = 2\n",
    "verbose = 3\n",
    "number_of_jobs = -1\n",
    "rand_state = 101\n",
    "test_size = 0.25"
   ]
  },
  {
   "cell_type": "code",
   "execution_count": 4,
   "metadata": {},
   "outputs": [],
   "source": [
    "bdf = pd.read_csv(\"featured_bank_imputed_wo_duration_pattern.csv\")"
   ]
  },
  {
   "cell_type": "markdown",
   "metadata": {},
   "source": [
    "### Feature engineering"
   ]
  },
  {
   "cell_type": "code",
   "execution_count": 5,
   "metadata": {},
   "outputs": [],
   "source": [
    "def euribor3m_bup(rate):\n",
    "    if rate >0 and rate <= 0.25:\n",
    "        return 'euri_000_025'\n",
    "    if rate >0.25 and rate <= 0.5:\n",
    "        return 'euri_025_050'\n",
    "    if rate >0.5 and rate <= 0.75:\n",
    "        return 'euri_050_075'\n",
    "    if rate >0.75 and rate <= 1:\n",
    "        return 'euri_075_100'\n",
    "    if rate >1 and rate <= 1.25:\n",
    "        return 'euri_100_125'\n",
    "    if rate >1.25 and rate <= 1.5:\n",
    "        return 'euri_125_150'\n",
    "    if rate >1.5 and rate <= 1.75:\n",
    "        return 'euri_150_175'\n",
    "    if rate >1.75 and rate <= 2:\n",
    "        return 'euri_175_200'\n",
    "    if rate >2 and rate <= 2.25:\n",
    "        return 'euri_200_225'\n",
    "    if rate >2.25 and rate <= 2.5:\n",
    "        return 'euri_225_250'\n",
    "    if rate >2.5 and rate <= 2.75:\n",
    "        return 'euri_250_275'\n",
    "    if rate >2.75 and rate <= 3:\n",
    "        return 'euri_275_300'\n",
    "    if rate >3 and rate <= 3.25:\n",
    "        return 'euri_300_325'\n",
    "    if rate >3.25 and rate <= 3.5:\n",
    "        return 'euri_325_350'\n",
    "    if rate >3.5 and rate <= 3.75:\n",
    "        return 'euri_350_375'\n",
    "    if rate >3.75 and rate <= 4:\n",
    "        return 'euri_375_400'\n",
    "    if rate >4 and rate <= 4.25:\n",
    "        return 'euri_400_425'\n",
    "    if rate >4.25 and rate <= 4.5:\n",
    "        return 'euri_425_450'\n",
    "    if rate >4.5 and rate <= 4.75:\n",
    "        return 'euri_450_475'\n",
    "    if rate >4.75 and rate <= 5:\n",
    "        return 'euri_475_500'\n",
    "    if rate > 5:\n",
    "        return 'euri_500'"
   ]
  },
  {
   "cell_type": "code",
   "execution_count": 6,
   "metadata": {},
   "outputs": [],
   "source": [
    "bdf['f.euribor']=bdf['euribor3m'].apply(euribor3m_bup)"
   ]
  },
  {
   "cell_type": "code",
   "execution_count": 7,
   "metadata": {},
   "outputs": [],
   "source": [
    "def age_group(age):\n",
    "    if age >= 16 and age <=20:\n",
    "        return '16_20'\n",
    "    if age > 20 and age <=25:\n",
    "        return '20_25'\n",
    "    if age > 25 and age <=30:\n",
    "        return '25_30'\n",
    "    if age > 30 and age <=35:\n",
    "        return '30_35'\n",
    "    if age > 35 and age <=40:\n",
    "        return '35_40'\n",
    "    if age > 40 and age <=45:\n",
    "        return '40_45'\n",
    "    if age > 45 and age <=50:\n",
    "        return '45_50'\n",
    "    if age > 50 and age <=55:\n",
    "        return '50_55'\n",
    "    if age > 55 and age <=60:\n",
    "        return '55_60'\n",
    "    if age > 60 and age <=65:\n",
    "        return '60_65'\n",
    "    if age > 65:\n",
    "        return '65_'"
   ]
  },
  {
   "cell_type": "code",
   "execution_count": 8,
   "metadata": {},
   "outputs": [],
   "source": [
    "bdf['f.age_group']=bdf['age'].apply(age_group)"
   ]
  },
  {
   "cell_type": "code",
   "execution_count": 9,
   "metadata": {},
   "outputs": [],
   "source": [
    "def emp_var(rate):\n",
    "    if rate >= -0.1:\n",
    "        return 'high'\n",
    "    if rate <-0.1 and rate <= -1.8:\n",
    "        return 'medium'\n",
    "    if rate < -1.8:\n",
    "        return 'low'"
   ]
  },
  {
   "cell_type": "code",
   "execution_count": 10,
   "metadata": {},
   "outputs": [],
   "source": [
    "bdf['f.emp_var_rate'] = bdf['emp.var.rate'].apply(emp_var)"
   ]
  },
  {
   "cell_type": "code",
   "execution_count": 11,
   "metadata": {},
   "outputs": [],
   "source": [
    "def festivals(month):\n",
    "    # imputing festivals - apr: easter; jun:carnival; dec:christmas\n",
    "    if month == 'apr' or month == 'jun' or month == 'dec':\n",
    "        return 'yes'\n",
    "    else:\n",
    "        return 'no'"
   ]
  },
  {
   "cell_type": "code",
   "execution_count": 12,
   "metadata": {},
   "outputs": [],
   "source": [
    "bdf['f.festivals'] = bdf['month'].apply(festivals)"
   ]
  },
  {
   "cell_type": "code",
   "execution_count": 13,
   "metadata": {},
   "outputs": [],
   "source": [
    "def bonus_months(month):\n",
    "    # bonus paid twice in a year - may and nov\n",
    "    if month == 'jun' or month == 'dec':\n",
    "        return 'yes'\n",
    "    else:\n",
    "        return 'no'"
   ]
  },
  {
   "cell_type": "code",
   "execution_count": 14,
   "metadata": {},
   "outputs": [],
   "source": [
    "bdf['f.bonus_months']= bdf['month'].apply(bonus_months)"
   ]
  },
  {
   "cell_type": "code",
   "execution_count": 15,
   "metadata": {},
   "outputs": [],
   "source": [
    "def commitment(housing, personal, marital):\n",
    "    # if a person is married and has housing and personal loans, flag it as high commitment\n",
    "    if housing == 'yes' and personal == 'yes' and marital == 'married':\n",
    "        return 'high'\n",
    "    if housing == 'no' and personal == 'no' and marital in ['single']:\n",
    "        return 'low'\n",
    "    else:\n",
    "        return 'medium'"
   ]
  },
  {
   "cell_type": "code",
   "execution_count": 16,
   "metadata": {},
   "outputs": [],
   "source": [
    "bdf['f.commitment'] = bdf.apply(lambda x: commitment(x.housing, x.loan, x.marital), axis=1)"
   ]
  },
  {
   "cell_type": "code",
   "execution_count": 17,
   "metadata": {},
   "outputs": [],
   "source": [
    "def seasons(month):\n",
    "    if month in ['mar','apr','may']:\n",
    "        return 'spring'\n",
    "    if month in ['jun','jul','aug']:\n",
    "        return 'summer'\n",
    "    if month in ['sep','oct','nov']:\n",
    "        return 'autumn'\n",
    "    if month in ['dec','jan','feb']:\n",
    "        return 'winter'"
   ]
  },
  {
   "cell_type": "code",
   "execution_count": 18,
   "metadata": {},
   "outputs": [],
   "source": [
    "bdf['f.seasons'] = bdf['month'].apply(lambda mon: seasons(mon))"
   ]
  },
  {
   "cell_type": "code",
   "execution_count": 19,
   "metadata": {},
   "outputs": [],
   "source": [
    "def seasons_weightage(season):\n",
    "    if season == 'autumn':\n",
    "        return 21\n",
    "    if season == 'spring':\n",
    "        return 36\n",
    "    if season == 'summer':\n",
    "        return 40\n",
    "    if season == \"winter\":\n",
    "        return 2"
   ]
  },
  {
   "cell_type": "code",
   "execution_count": 20,
   "metadata": {},
   "outputs": [],
   "source": [
    "#bdf ['f.season_weight'] = bdf['f.seasons'].apply(lambda season: seasons_weightage(season))"
   ]
  },
  {
   "cell_type": "code",
   "execution_count": 21,
   "metadata": {},
   "outputs": [],
   "source": [
    "def retired(age):\n",
    "    if age >= 65:\n",
    "        return 'retired'\n",
    "    else:\n",
    "        return 'not-retired'"
   ]
  },
  {
   "cell_type": "code",
   "execution_count": 22,
   "metadata": {},
   "outputs": [],
   "source": [
    "bdf['f.retired_status'] = bdf['age'].apply(lambda age: retired(age))"
   ]
  },
  {
   "cell_type": "code",
   "execution_count": 23,
   "metadata": {},
   "outputs": [],
   "source": [
    "def marital_weightage(marital):\n",
    "    if marital == 'divorced':\n",
    "        return 1\n",
    "    if marital == 'single':\n",
    "        return 35\n",
    "    if marital == 'married':\n",
    "        return 54"
   ]
  },
  {
   "cell_type": "code",
   "execution_count": 24,
   "metadata": {},
   "outputs": [],
   "source": [
    "#bdf['f.marital_weightage'] = bdf['marital'].apply(lambda status: marital_weightage(status))"
   ]
  },
  {
   "cell_type": "code",
   "execution_count": 25,
   "metadata": {},
   "outputs": [],
   "source": [
    "def age_weightage(age):\n",
    "    if age == '11_to_20':\n",
    "        return 0.01\n",
    "    if age == '21_to_30':\n",
    "        return 0.23\n",
    "    if age == '31_to_40':\n",
    "        return 0.34\n",
    "    if age == '41_to_50':\n",
    "        return 0.18\n",
    "    if age == '51_to_60':\n",
    "        return 0.14\n",
    "    if age == '61_to_70':\n",
    "        return 0.04\n",
    "    if age == '71_to_80':\n",
    "        return 0.03\n",
    "    if age == '81_to_90':\n",
    "        return 0.01\n",
    "    if age == '91_to_100':\n",
    "        return 0.00\n",
    "        "
   ]
  },
  {
   "cell_type": "code",
   "execution_count": 26,
   "metadata": {},
   "outputs": [],
   "source": [
    "#bdf['f.age_weightage'] = bdf['f.age'].apply(lambda age: age_weightage(age))"
   ]
  },
  {
   "cell_type": "code",
   "execution_count": 27,
   "metadata": {},
   "outputs": [],
   "source": [
    "def previous_user(previous):\n",
    "    if previous == 0:\n",
    "        return 'new user'\n",
    "    else:\n",
    "        return 'existing user'"
   ]
  },
  {
   "cell_type": "code",
   "execution_count": 28,
   "metadata": {},
   "outputs": [],
   "source": [
    "bdf['f.user_type'] = bdf['previous'].apply(lambda previous: previous_user(previous))"
   ]
  },
  {
   "cell_type": "code",
   "execution_count": 29,
   "metadata": {},
   "outputs": [],
   "source": [
    "def previous_no_of_times(previous):\n",
    "    # if a user is part of the previous campaign, bin them\n",
    "    if previous == 0:\n",
    "        return 'no previous'\n",
    "    if previous >= 1 and previous <= 3:\n",
    "        return '1_to_3'\n",
    "    if previous > 3:\n",
    "        return 'gt_3'\n",
    "    "
   ]
  },
  {
   "cell_type": "code",
   "execution_count": 30,
   "metadata": {},
   "outputs": [],
   "source": [
    "bdf['f.previous_campaigns'] = bdf['previous'].apply(lambda previous: previous_no_of_times(previous))"
   ]
  },
  {
   "cell_type": "code",
   "execution_count": 31,
   "metadata": {},
   "outputs": [],
   "source": [
    "def current_campaign_calls(calls):\n",
    "    # how many times a user is called\n",
    "    if calls == 1:\n",
    "        return 'once'\n",
    "    if calls >= 2 and calls <= 3:\n",
    "        return 'twice to thrice '\n",
    "    if calls > 3 and calls <= 6:\n",
    "        return 'four to six times'\n",
    "    if calls >= 7 and calls <= 10:\n",
    "        return 'seven to ten times'\n",
    "    if calls > 10:\n",
    "        return 'more than ten times'\n",
    "    "
   ]
  },
  {
   "cell_type": "code",
   "execution_count": 32,
   "metadata": {},
   "outputs": [],
   "source": [
    "bdf['f.current_campaign_calls'] = bdf['campaign'].apply(lambda calls: current_campaign_calls(calls))"
   ]
  },
  {
   "cell_type": "code",
   "execution_count": 33,
   "metadata": {},
   "outputs": [],
   "source": [
    "def first_time_user_calls(previous, campaigns):\n",
    "    # first time user - not a part of previous campaign\n",
    "    # first time the user is speaking - what's the conversion rate\n",
    "    if previous == 0:\n",
    "        if campaigns == 1:\n",
    "            return 'first time called'\n",
    "        if campaigns >= 2 and campaigns <= 3:\n",
    "            return 'called atleast twice'\n",
    "        if campaigns > 3:\n",
    "            return 'called atleast thrice'\n",
    "        else:\n",
    "            return 'more than thrice'\n",
    "    else:\n",
    "        return 'returning user'"
   ]
  },
  {
   "cell_type": "code",
   "execution_count": 34,
   "metadata": {},
   "outputs": [],
   "source": [
    "bdf['f.first_time_user_calls'] = bdf.apply(lambda x: first_time_user_calls(x.previous, x.campaign), axis=1)"
   ]
  },
  {
   "cell_type": "code",
   "execution_count": 35,
   "metadata": {},
   "outputs": [],
   "source": [
    "def savings_intention(job):\n",
    "    if job in ['admin.','blue-collar','technician']:\n",
    "        return 100\n",
    "    elif job in ['retired','management','services']:\n",
    "        return 50\n",
    "    else:\n",
    "        return 25"
   ]
  },
  {
   "cell_type": "code",
   "execution_count": 36,
   "metadata": {},
   "outputs": [],
   "source": [
    "bdf['f.savings_intent_factor'] = bdf['job'].apply(lambda job: savings_intention(job))"
   ]
  },
  {
   "cell_type": "code",
   "execution_count": 37,
   "metadata": {},
   "outputs": [],
   "source": [
    "def age_range_weightage(age):\n",
    "    if age <= 24:\n",
    "        return 0.15\n",
    "    if age >=25 and age <= 69:\n",
    "        return 0.61\n",
    "    if age >= 70 and age <= 80:\n",
    "        return 0.13\n",
    "    if age > 80:\n",
    "        return 0.04"
   ]
  },
  {
   "cell_type": "code",
   "execution_count": 38,
   "metadata": {},
   "outputs": [],
   "source": [
    "bdf['f.age_range_weightage'] = bdf['age'].apply(lambda age: age_range_weightage(age))"
   ]
  },
  {
   "cell_type": "code",
   "execution_count": 39,
   "metadata": {},
   "outputs": [],
   "source": [
    "def avg_income_distribution(salary, marital):\n",
    "    if marital == 'married':\n",
    "        return round((salary/3),2)\n",
    "    if marital == 'single':\n",
    "        return salary\n",
    "    if marital == 'divorced':\n",
    "        return round((salary/2),2)\n",
    "    "
   ]
  },
  {
   "cell_type": "code",
   "execution_count": 40,
   "metadata": {},
   "outputs": [],
   "source": [
    "#bdf['f.avg_income_dist'] = bdf.apply(lambda x: avg_income_distribution(x['f.salary'], x['marital']), axis=1)"
   ]
  },
  {
   "cell_type": "code",
   "execution_count": 41,
   "metadata": {},
   "outputs": [],
   "source": [
    "def p_days_bin(pdays):\n",
    "    if pdays >=0 and pdays <=6:\n",
    "        return 'within a week'\n",
    "    if pdays >=7 and pdays <=13:\n",
    "        return 'within two weeks'\n",
    "    if pdays >= 14 and pdays <=20:\n",
    "        return 'within three weeks'\n",
    "    if pdays > 20:\n",
    "        return 'more than three weeks'"
   ]
  },
  {
   "cell_type": "code",
   "execution_count": 42,
   "metadata": {},
   "outputs": [],
   "source": [
    "bdf['f.pdays'] = bdf['pdays'].apply(lambda days: p_days_bin(days))"
   ]
  },
  {
   "cell_type": "code",
   "execution_count": 43,
   "metadata": {},
   "outputs": [],
   "source": [
    "def year_weightage(year):\n",
    "    if year == \"Y2008\":\n",
    "        return 5\n",
    "    if year == \"Y2009\":\n",
    "        return 14\n",
    "    if year == \"Y2010\":\n",
    "        return 52"
   ]
  },
  {
   "cell_type": "code",
   "execution_count": 44,
   "metadata": {},
   "outputs": [],
   "source": [
    "#bdf['f.year_weightage'] = bdf['f.year'].apply(lambda year: year_weightage(year))"
   ]
  },
  {
   "cell_type": "code",
   "execution_count": 45,
   "metadata": {},
   "outputs": [],
   "source": [
    "def recession_strength(year, month):\n",
    "    if year == \"Y2008\":\n",
    "        if month in ['mar','apr','may','jun','jul','aug','sep','oct','nov','dec']:\n",
    "            return 'peak'\n",
    "    elif year == \"Y2009\":\n",
    "        if month in ['mar','apr','may']:\n",
    "            return 'peak'\n",
    "        else:\n",
    "            return 'non-peak'\n",
    "    else:\n",
    "        return 'non-peak'\n",
    "    "
   ]
  },
  {
   "cell_type": "code",
   "execution_count": 46,
   "metadata": {},
   "outputs": [],
   "source": [
    "bdf['f.recession_strength'] = bdf.apply(lambda x: recession_strength(x['f.year'],x['month']), axis=1)"
   ]
  },
  {
   "cell_type": "code",
   "execution_count": 47,
   "metadata": {},
   "outputs": [],
   "source": [
    "# To be removed\n",
    "def week_breakup(day):\n",
    "    if day == \"mon\":\n",
    "        return 'week_start'\n",
    "    if day in ['tue','wed','thu']:\n",
    "        return 'week_mid'\n",
    "    if day in ['fri']:\n",
    "        return 'week_end'"
   ]
  },
  {
   "cell_type": "code",
   "execution_count": 48,
   "metadata": {},
   "outputs": [],
   "source": [
    "bdf['f.week_breakup'] = bdf['day_of_week'].apply(week_breakup)"
   ]
  },
  {
   "cell_type": "code",
   "execution_count": 49,
   "metadata": {},
   "outputs": [],
   "source": [
    "# to be removed\n",
    "def week_day_weightage(weekday):\n",
    "    if weekday == 'week_start':\n",
    "        return 14\n",
    "    if weekday == 'week_mid':\n",
    "        return 38\n",
    "    if weekday == 'week_end':\n",
    "        return 14"
   ]
  },
  {
   "cell_type": "code",
   "execution_count": 50,
   "metadata": {},
   "outputs": [],
   "source": [
    "#bdf['f.week_day_weightage'] = bdf['f.week_breakup'].apply(week_day_weightage)"
   ]
  },
  {
   "cell_type": "code",
   "execution_count": 51,
   "metadata": {},
   "outputs": [],
   "source": [
    "def emp_rate_change(rate):\n",
    "    if rate > 0:\n",
    "        return 'positive'\n",
    "    else:\n",
    "        return 'negative'"
   ]
  },
  {
   "cell_type": "code",
   "execution_count": 52,
   "metadata": {},
   "outputs": [],
   "source": [
    "#bdf['f.emp_var_rate_1'] = bdf['emp.var.rate'].apply(emp_rate_change)"
   ]
  },
  {
   "cell_type": "code",
   "execution_count": 53,
   "metadata": {},
   "outputs": [],
   "source": [
    "def cons_price_bin(index):\n",
    "\tif index >=92 and index <=92.5:\n",
    "\t\treturn 'gt_92_lt_92.5'\n",
    "\tif index >92.5 and index <= 93:\n",
    "\t\treturn 'gt_925_lt_93'\n",
    "\tif index >93 and index <= 93.5:\n",
    "\t\treturn 'gt_93_lt_935'\n",
    "\tif index >93.5 and index <= 94:\n",
    "\t\treturn 'gt_935_lt_94'\n",
    "\tif index >94 and index <= 94.5:\n",
    "\t\treturn 'gt_94_lt_94.5'\n",
    "\tif index >94.5 and index <= 95:\n",
    "\t\treturn 'gt_945_lt_95'\n",
    "\tif index <92:\n",
    "\t\treturn 'lt_92'\n",
    "\tif index >95:\n",
    "\t\treturn 'gt_95'"
   ]
  },
  {
   "cell_type": "code",
   "execution_count": 54,
   "metadata": {},
   "outputs": [],
   "source": [
    "bdf['f.cons.price.bin'] = bdf['cons.price.idx'].apply(cons_price_bin)"
   ]
  },
  {
   "cell_type": "code",
   "execution_count": 55,
   "metadata": {},
   "outputs": [],
   "source": [
    "def emp_var_bin(index):\n",
    "\tif index < -3.5:\n",
    "\t\treturn 'lt_min_3.5'\n",
    "\tif index >= -3.5 and index <= -3:\n",
    "\t\treturn 'gt_min_35_lt_3'\n",
    "\tif index > -3 and index <= -2.5:\n",
    "\t\treturn 'gt_min_3_lt_25'\n",
    "\tif index >-25 and index <= -2:\n",
    "\t\treturn 'gt_min_25_lt_2'\n",
    "\tif index >-2 and index <= -1.5:\n",
    "\t\treturn 'gt_min_2_lt_15'\n",
    "\tif index >-1.5 and index <= -1:\n",
    "\t\treturn 'gt_min_15_lt_1'\n",
    "\tif index >-1 and index <= -0.5:\n",
    "\t\treturn 'gt_min_1_lt_point5'\n",
    "\tif index >-0.5 and index <= 0:\n",
    "\t\treturn 'gt_min_05_lt_0'\n",
    "\tif index >0 and index <= 0.5:\n",
    "\t\treturn 'gt_0_lt_05'\n",
    "\tif index >0.5 and index <= 1:\n",
    "\t\treturn 'gt_05_lt_05'\n",
    "\tif index > 1:\n",
    "\t\treturn 'gt_1'"
   ]
  },
  {
   "cell_type": "code",
   "execution_count": 56,
   "metadata": {},
   "outputs": [],
   "source": [
    "bdf['f.emp.var.bin'] = bdf['emp.var.rate'].apply(emp_var_bin)"
   ]
  },
  {
   "cell_type": "code",
   "execution_count": 57,
   "metadata": {},
   "outputs": [],
   "source": [
    "def cons_conf_bin(index):\n",
    "\tif index < -51:\n",
    "\t\treturn 'lt_51'\n",
    "\tif index >= -51 and index <= -46:\n",
    "\t\treturn 'gt_51_lt_46'\n",
    "\tif index > -46 and index <= -41:\n",
    "\t\treturn 'gt_46_lt_41'\n",
    "\tif index > -41 and index <= -36:\n",
    "\t\treturn 'gt_41_lt_36'\n",
    "\tif index > -36 and index <= -31:\n",
    "\t\treturn 'gt_36_lt_31'\n",
    "\tif index > -31 and index <= -26:\n",
    "\t\treturn 'gt_31_lt_26'\n",
    "\tif index > -26:\n",
    "\t\treturn 'gt_26'"
   ]
  },
  {
   "cell_type": "code",
   "execution_count": 58,
   "metadata": {},
   "outputs": [],
   "source": [
    "bdf['f.cons.conf.bin'] = bdf['cons.conf.idx'].apply(cons_conf_bin)"
   ]
  },
  {
   "cell_type": "code",
   "execution_count": 59,
   "metadata": {},
   "outputs": [],
   "source": [
    "def buy_prob_user_job(user_type, job):\n",
    "    if user_type == \"existing user\":\n",
    "        if job in ['admin.','housemaid','management','retired','student','technician','unemployed']:\n",
    "            return 'high'\n",
    "        else:\n",
    "            return 'low'\n",
    "    else:\n",
    "        return 'low'"
   ]
  },
  {
   "cell_type": "code",
   "execution_count": 60,
   "metadata": {},
   "outputs": [],
   "source": [
    "#bdf['f.userjob_buy.prob'] = bdf.apply(lambda x: buy_prob_user_job(x['f.user_type'], x['job']), axis=1)"
   ]
  },
  {
   "cell_type": "code",
   "execution_count": 61,
   "metadata": {},
   "outputs": [],
   "source": [
    "def salaried_or_not(job):\n",
    "    if job in ['admin.','blue-collar','management','services','technician']:\n",
    "        return 'salaried'\n",
    "    else:\n",
    "        return 'not salaried'"
   ]
  },
  {
   "cell_type": "code",
   "execution_count": 62,
   "metadata": {},
   "outputs": [],
   "source": [
    "bdf['f.sal_or_not'] = bdf['job'].apply(salaried_or_not)"
   ]
  },
  {
   "cell_type": "code",
   "execution_count": 63,
   "metadata": {},
   "outputs": [],
   "source": [
    "def quarter(month):\n",
    "    if month in ['apr','may','jun']:\n",
    "        return 'Q1'\n",
    "    if month in ['jul','aug','sep']:\n",
    "        return 'Q2'\n",
    "    if month in ['oct','nov','dec']:\n",
    "        return 'Q3'\n",
    "    if month in ['jan','feb','mar']:\n",
    "        return 'Q4'"
   ]
  },
  {
   "cell_type": "code",
   "execution_count": 64,
   "metadata": {},
   "outputs": [],
   "source": [
    "bdf['f.quarter'] = bdf['month'].apply(quarter)"
   ]
  },
  {
   "cell_type": "code",
   "execution_count": 65,
   "metadata": {},
   "outputs": [],
   "source": [
    "def into_loans(housing, personal):\n",
    "    if housing == 'no' and personal == \"no\":\n",
    "        return 'not_into_loans'\n",
    "    else:\n",
    "        return 'into_loans'"
   ]
  },
  {
   "cell_type": "code",
   "execution_count": 66,
   "metadata": {},
   "outputs": [],
   "source": [
    "bdf['f.into_loans'] = bdf.apply(lambda x: into_loans(x.housing, x.loan), axis=1)"
   ]
  },
  {
   "cell_type": "code",
   "execution_count": 67,
   "metadata": {},
   "outputs": [],
   "source": [
    "base_sal = {\n",
    "    'housemaid' : 500,\n",
    "    'services' : 700,\n",
    "    'admin.' : 600,\n",
    "    'blue-collar' : 500,\n",
    "    'technician' : 600,\n",
    "    'retired' : 500,\n",
    "    'management' : 1600,\n",
    "    'unemployed' : 400,\n",
    "    'self-employed' : 800,\n",
    "    'entrepreneur' : 1200,\n",
    "    'student' : 400\n",
    "}"
   ]
  },
  {
   "cell_type": "code",
   "execution_count": 68,
   "metadata": {},
   "outputs": [],
   "source": [
    "edu_sal = {\n",
    "    'basic.4y' : 1,\n",
    "    'high.school' : 1.6,\n",
    "    'basic.6y' : 1.2,\n",
    "    'basic.9y' : 1.4,\n",
    "    'professional.course' : 1.6,\n",
    "    'university.degree' : 2,\n",
    "    'illiterate' : 1\n",
    "}"
   ]
  },
  {
   "cell_type": "code",
   "execution_count": 69,
   "metadata": {},
   "outputs": [],
   "source": [
    "def salary_job_education(job, education):\n",
    "    job_base_sal = base_sal[job]\n",
    "    edu_factor = edu_sal[education]\n",
    "    if job in ['retired','unemployed','self-employed','entrepreneur']:\n",
    "        sal = job_base_sal * edu_factor * 12\n",
    "    else:\n",
    "        sal = job_base_sal * edu_factor * 14\n",
    "    return sal"
   ]
  },
  {
   "cell_type": "code",
   "execution_count": 70,
   "metadata": {},
   "outputs": [],
   "source": [
    "bdf['f.income'] = bdf.apply(lambda x: salary_job_education(x.job, x.education), axis=1)"
   ]
  },
  {
   "cell_type": "code",
   "execution_count": 71,
   "metadata": {},
   "outputs": [],
   "source": [
    "def income_tax(salary):\n",
    "    if salary >=0 and salary <=7112:\n",
    "        return 14.5\n",
    "    if salary >=7113 and salary <=10732:\n",
    "        return 23\n",
    "    if salary >=10733 and salary <=20322:\n",
    "        return 28.5\n",
    "    if salary >=20323 and salary <=25075:\n",
    "        return 35\n",
    "    if salary >=25076 and salary <=36967:\n",
    "        return 37\n",
    "    if salary >=36968:\n",
    "        return 45"
   ]
  },
  {
   "cell_type": "code",
   "execution_count": 72,
   "metadata": {},
   "outputs": [],
   "source": [
    "bdf['f.income_tax'] = bdf['f.income'].apply(lambda salary: income_tax(salary))"
   ]
  },
  {
   "cell_type": "code",
   "execution_count": 73,
   "metadata": {},
   "outputs": [],
   "source": [
    "def econ_status(income):\n",
    "    if income <= 7800:\n",
    "        return 'lower class'\n",
    "    if income >7800 and income <= 26400:\n",
    "        return 'middle class'\n",
    "    if income > 26400:\n",
    "        return 'upper class'"
   ]
  },
  {
   "cell_type": "code",
   "execution_count": 74,
   "metadata": {},
   "outputs": [],
   "source": [
    "bdf['f.econ_status'] = bdf['f.income'].apply(econ_status)"
   ]
  },
  {
   "cell_type": "code",
   "execution_count": 75,
   "metadata": {},
   "outputs": [],
   "source": [
    "def buy_prob_status_marital(marital_status):\n",
    "    if marital_status in ['married','single']:\n",
    "        return 'high'\n",
    "    else:\n",
    "        return 'low'"
   ]
  },
  {
   "cell_type": "code",
   "execution_count": 76,
   "metadata": {},
   "outputs": [],
   "source": [
    "bdf['f.user.buy.prob'] = bdf['marital'].apply(buy_prob_status_marital)"
   ]
  },
  {
   "cell_type": "code",
   "execution_count": 77,
   "metadata": {},
   "outputs": [],
   "source": [
    "def bailout_period(year):\n",
    "    if year == \"Y2010\":\n",
    "        return \"bailout\"\n",
    "    else:\n",
    "        return \"non-bailout\""
   ]
  },
  {
   "cell_type": "code",
   "execution_count": 78,
   "metadata": {},
   "outputs": [],
   "source": [
    "#bdf['f.bailout_status'] = bdf['f.year'].apply(bailout_period)"
   ]
  },
  {
   "cell_type": "code",
   "execution_count": 79,
   "metadata": {},
   "outputs": [],
   "source": [
    "def education_level(education):\n",
    "    if education in ['illiterate','basic.4y','basic.6y','basic.9y']:\n",
    "        return 'basic-education'\n",
    "    if education in ['high.school','professional.course']:\n",
    "        return 'medium-education'\n",
    "    if education in ['university.degree']:\n",
    "        return 'high-education'"
   ]
  },
  {
   "cell_type": "code",
   "execution_count": 80,
   "metadata": {},
   "outputs": [],
   "source": [
    "bdf['f.education'] = bdf['education'].apply(education_level)"
   ]
  },
  {
   "cell_type": "code",
   "execution_count": 81,
   "metadata": {},
   "outputs": [],
   "source": [
    "def age_to_retirement(age):\n",
    "    if age < 65:\n",
    "        return 65 - age\n",
    "    else:\n",
    "        return 0"
   ]
  },
  {
   "cell_type": "code",
   "execution_count": 82,
   "metadata": {},
   "outputs": [],
   "source": [
    "bdf['f.age_to_retire'] = bdf['age'].apply(age_to_retirement)"
   ]
  },
  {
   "cell_type": "code",
   "execution_count": 83,
   "metadata": {},
   "outputs": [],
   "source": [
    "def age_range_to_retire(diff_age):\n",
    "    if diff_age == 0:\n",
    "        return 0\n",
    "    if diff_age >=1 and diff_age <=5:\n",
    "        return 0.3\n",
    "    if diff_age >=6 and diff_age <=35:\n",
    "        return 0.1\n",
    "    if diff_age >= 36 and diff_age <= 40:\n",
    "        return 0.14\n",
    "    if diff_age >= 41 and diff_age <= 45:\n",
    "        return 0.22\n",
    "    if diff_age >= 46:\n",
    "        return 0.45"
   ]
  },
  {
   "cell_type": "code",
   "execution_count": 84,
   "metadata": {},
   "outputs": [],
   "source": [
    "bdf['f.age_to_retire_weight'] = bdf['f.age_to_retire'].apply(age_range_to_retire)"
   ]
  },
  {
   "cell_type": "code",
   "execution_count": 85,
   "metadata": {},
   "outputs": [],
   "source": [
    "def age_to_eol(age):\n",
    "    if age < 80:\n",
    "        return 80 - age\n",
    "    else:\n",
    "        return 0"
   ]
  },
  {
   "cell_type": "code",
   "execution_count": 86,
   "metadata": {},
   "outputs": [],
   "source": [
    "bdf['f.age_to_death'] = bdf['age'].apply(age_to_eol)"
   ]
  },
  {
   "cell_type": "code",
   "execution_count": 87,
   "metadata": {},
   "outputs": [],
   "source": [
    "def age_range_to_death(diff_age):\n",
    "    if diff_age >=0 and diff_age <= 19:\n",
    "        return '0_to_19'\n",
    "    if diff_age >=20 and diff_age <= 39:\n",
    "        return '20_to_39'\n",
    "    if diff_age >=40 and diff_age <=59:\n",
    "        return '40_to_59'\n",
    "    if diff_age >=60:\n",
    "        return '60_to_'"
   ]
  },
  {
   "cell_type": "code",
   "execution_count": 88,
   "metadata": {},
   "outputs": [],
   "source": [
    "bdf['f.remaining_age'] = bdf['f.age_to_death'].apply(age_range_to_death)"
   ]
  },
  {
   "cell_type": "code",
   "execution_count": 89,
   "metadata": {},
   "outputs": [],
   "source": [
    "def unemployment_rate(recession_strength, age_range, salaried):\n",
    "    if recession_strength == \"peak\":\n",
    "        if age_range in ['21_to_30','31_to_40']:\n",
    "            return -30\n",
    "        else:\n",
    "            return -8\n",
    "    else:\n",
    "        return -10"
   ]
  },
  {
   "cell_type": "code",
   "execution_count": 90,
   "metadata": {},
   "outputs": [],
   "source": [
    "bdf['f.unemployment'] = bdf.apply(lambda x: unemployment_rate(x['f.recession_strength'],x['f.age'],x['f.sal_or_not']), axis=1)"
   ]
  },
  {
   "cell_type": "code",
   "execution_count": 91,
   "metadata": {},
   "outputs": [],
   "source": [
    "#bdf.to_csv('testv6-before-dropped.csv')"
   ]
  },
  {
   "cell_type": "markdown",
   "metadata": {},
   "source": [
    "### Feature Analysis"
   ]
  },
  {
   "cell_type": "code",
   "execution_count": 92,
   "metadata": {},
   "outputs": [],
   "source": [
    "dropped_columns= ['s.no','nr.employed','default',\n",
    "                  'f.quarter','f.income_tax', 'f.bonus_months',\n",
    "                  'f.unemployment', 'f.income','f.interest_rate','f.age','f.user.buy.prob',\n",
    "                  'f.econ_status','f.remaining_age','f.education','f.seasons','f.recession_strength',\n",
    "                  'f.pattern_bkp','f.pattern', 'f.savings_intent_factor','f.age_range_weightage'\n",
    "    \n",
    "                 ]\n",
    "categorical_columns=['job','marital','housing','loan','education','contact','month','day_of_week',\n",
    "                     'poutcome','f.euribor','f.age_group','f.week_breakup', \n",
    "                    'f.retired_status', 'f.user_type','f.previous_campaigns','f.current_campaign_calls',\n",
    "                     'f.first_time_user_calls','f.pdays', 'f.emp_var_rate','f.cons.price.bin','f.sal_or_not',\n",
    "                     'f.cons.conf.bin','f.into_loans','f.emp.var.bin','f.commitment','f.year','f.festivals',\\\n",
    "                     \n",
    "                    ]"
   ]
  },
  {
   "cell_type": "code",
   "execution_count": 93,
   "metadata": {},
   "outputs": [],
   "source": [
    "# drop the columns\n",
    "bdf.drop(dropped_columns, axis=1, inplace=True)"
   ]
  },
  {
   "cell_type": "code",
   "execution_count": 94,
   "metadata": {},
   "outputs": [],
   "source": [
    "#convert columns of object type to categorical columns\n",
    "bdf_cat = bdf[categorical_columns].astype('category')"
   ]
  },
  {
   "cell_type": "code",
   "execution_count": 95,
   "metadata": {},
   "outputs": [],
   "source": [
    "bdf[categorical_columns] = bdf[categorical_columns].astype('category')"
   ]
  },
  {
   "cell_type": "code",
   "execution_count": 96,
   "metadata": {
    "scrolled": true
   },
   "outputs": [],
   "source": [
    "# drop bdf categorical columns from the dataframe\n",
    "bdf_noncat = bdf.drop(categorical_columns,axis=1)"
   ]
  },
  {
   "cell_type": "code",
   "execution_count": 97,
   "metadata": {},
   "outputs": [
    {
     "data": {
      "text/plain": [
       "Index(['age', 'campaign', 'pdays', 'previous', 'emp.var.rate',\n",
       "       'cons.price.idx', 'cons.conf.idx', 'euribor3m', 'y', 'f.age_to_retire',\n",
       "       'f.age_to_retire_weight', 'f.age_to_death'],\n",
       "      dtype='object')"
      ]
     },
     "execution_count": 97,
     "metadata": {},
     "output_type": "execute_result"
    }
   ],
   "source": [
    "bdf_noncat.columns"
   ]
  },
  {
   "cell_type": "code",
   "execution_count": 98,
   "metadata": {},
   "outputs": [],
   "source": [
    "bdf.to_csv('testv6-dropped.csv')"
   ]
  },
  {
   "cell_type": "code",
   "execution_count": 99,
   "metadata": {},
   "outputs": [
    {
     "data": {
      "text/html": [
       "<div>\n",
       "<style scoped>\n",
       "    .dataframe tbody tr th:only-of-type {\n",
       "        vertical-align: middle;\n",
       "    }\n",
       "\n",
       "    .dataframe tbody tr th {\n",
       "        vertical-align: top;\n",
       "    }\n",
       "\n",
       "    .dataframe thead th {\n",
       "        text-align: right;\n",
       "    }\n",
       "</style>\n",
       "<table border=\"1\" class=\"dataframe\">\n",
       "  <thead>\n",
       "    <tr style=\"text-align: right;\">\n",
       "      <th></th>\n",
       "      <th>age</th>\n",
       "      <th>campaign</th>\n",
       "      <th>pdays</th>\n",
       "      <th>previous</th>\n",
       "      <th>emp.var.rate</th>\n",
       "      <th>cons.price.idx</th>\n",
       "      <th>cons.conf.idx</th>\n",
       "      <th>euribor3m</th>\n",
       "      <th>f.age_to_retire</th>\n",
       "      <th>f.age_to_retire_weight</th>\n",
       "      <th>f.age_to_death</th>\n",
       "    </tr>\n",
       "  </thead>\n",
       "  <tbody>\n",
       "    <tr>\n",
       "      <th>age</th>\n",
       "      <td>1.000000</td>\n",
       "      <td>0.004594</td>\n",
       "      <td>0.008509</td>\n",
       "      <td>0.024365</td>\n",
       "      <td>-0.000371</td>\n",
       "      <td>0.000857</td>\n",
       "      <td>0.129372</td>\n",
       "      <td>0.010767</td>\n",
       "      <td>-0.991360</td>\n",
       "      <td>-0.313468</td>\n",
       "      <td>-0.999510</td>\n",
       "    </tr>\n",
       "    <tr>\n",
       "      <th>campaign</th>\n",
       "      <td>0.004594</td>\n",
       "      <td>1.000000</td>\n",
       "      <td>-0.081635</td>\n",
       "      <td>-0.079141</td>\n",
       "      <td>0.150754</td>\n",
       "      <td>0.127836</td>\n",
       "      <td>-0.013733</td>\n",
       "      <td>0.135133</td>\n",
       "      <td>-0.008105</td>\n",
       "      <td>-0.013824</td>\n",
       "      <td>-0.004934</td>\n",
       "    </tr>\n",
       "    <tr>\n",
       "      <th>pdays</th>\n",
       "      <td>0.008509</td>\n",
       "      <td>-0.081635</td>\n",
       "      <td>1.000000</td>\n",
       "      <td>0.826164</td>\n",
       "      <td>-0.440586</td>\n",
       "      <td>-0.271217</td>\n",
       "      <td>-0.101447</td>\n",
       "      <td>-0.462637</td>\n",
       "      <td>0.001642</td>\n",
       "      <td>0.041734</td>\n",
       "      <td>-0.007914</td>\n",
       "    </tr>\n",
       "    <tr>\n",
       "      <th>previous</th>\n",
       "      <td>0.024365</td>\n",
       "      <td>-0.079141</td>\n",
       "      <td>0.826164</td>\n",
       "      <td>1.000000</td>\n",
       "      <td>-0.420489</td>\n",
       "      <td>-0.203130</td>\n",
       "      <td>-0.050936</td>\n",
       "      <td>-0.454494</td>\n",
       "      <td>-0.010044</td>\n",
       "      <td>0.048344</td>\n",
       "      <td>-0.023117</td>\n",
       "    </tr>\n",
       "    <tr>\n",
       "      <th>emp.var.rate</th>\n",
       "      <td>-0.000371</td>\n",
       "      <td>0.150754</td>\n",
       "      <td>-0.440586</td>\n",
       "      <td>-0.420489</td>\n",
       "      <td>1.000000</td>\n",
       "      <td>0.775334</td>\n",
       "      <td>0.196041</td>\n",
       "      <td>0.972245</td>\n",
       "      <td>-0.021770</td>\n",
       "      <td>-0.073123</td>\n",
       "      <td>-0.001629</td>\n",
       "    </tr>\n",
       "    <tr>\n",
       "      <th>cons.price.idx</th>\n",
       "      <td>0.000857</td>\n",
       "      <td>0.127836</td>\n",
       "      <td>-0.271217</td>\n",
       "      <td>-0.203130</td>\n",
       "      <td>0.775334</td>\n",
       "      <td>1.000000</td>\n",
       "      <td>0.058986</td>\n",
       "      <td>0.688230</td>\n",
       "      <td>-0.011777</td>\n",
       "      <td>-0.023679</td>\n",
       "      <td>-0.001839</td>\n",
       "    </tr>\n",
       "    <tr>\n",
       "      <th>cons.conf.idx</th>\n",
       "      <td>0.129372</td>\n",
       "      <td>-0.013733</td>\n",
       "      <td>-0.101447</td>\n",
       "      <td>-0.050936</td>\n",
       "      <td>0.196041</td>\n",
       "      <td>0.058986</td>\n",
       "      <td>1.000000</td>\n",
       "      <td>0.277686</td>\n",
       "      <td>-0.123685</td>\n",
       "      <td>-0.036240</td>\n",
       "      <td>-0.129510</td>\n",
       "    </tr>\n",
       "    <tr>\n",
       "      <th>euribor3m</th>\n",
       "      <td>0.010767</td>\n",
       "      <td>0.135133</td>\n",
       "      <td>-0.462637</td>\n",
       "      <td>-0.454494</td>\n",
       "      <td>0.972245</td>\n",
       "      <td>0.688230</td>\n",
       "      <td>0.277686</td>\n",
       "      <td>1.000000</td>\n",
       "      <td>-0.033813</td>\n",
       "      <td>-0.081841</td>\n",
       "      <td>-0.012920</td>\n",
       "    </tr>\n",
       "    <tr>\n",
       "      <th>f.age_to_retire</th>\n",
       "      <td>-0.991360</td>\n",
       "      <td>-0.008105</td>\n",
       "      <td>0.001642</td>\n",
       "      <td>-0.010044</td>\n",
       "      <td>-0.021770</td>\n",
       "      <td>-0.011777</td>\n",
       "      <td>-0.123685</td>\n",
       "      <td>-0.033813</td>\n",
       "      <td>1.000000</td>\n",
       "      <td>0.284742</td>\n",
       "      <td>0.993662</td>\n",
       "    </tr>\n",
       "    <tr>\n",
       "      <th>f.age_to_retire_weight</th>\n",
       "      <td>-0.313468</td>\n",
       "      <td>-0.013824</td>\n",
       "      <td>0.041734</td>\n",
       "      <td>0.048344</td>\n",
       "      <td>-0.073123</td>\n",
       "      <td>-0.023679</td>\n",
       "      <td>-0.036240</td>\n",
       "      <td>-0.081841</td>\n",
       "      <td>0.284742</td>\n",
       "      <td>1.000000</td>\n",
       "      <td>0.311179</td>\n",
       "    </tr>\n",
       "    <tr>\n",
       "      <th>f.age_to_death</th>\n",
       "      <td>-0.999510</td>\n",
       "      <td>-0.004934</td>\n",
       "      <td>-0.007914</td>\n",
       "      <td>-0.023117</td>\n",
       "      <td>-0.001629</td>\n",
       "      <td>-0.001839</td>\n",
       "      <td>-0.129510</td>\n",
       "      <td>-0.012920</td>\n",
       "      <td>0.993662</td>\n",
       "      <td>0.311179</td>\n",
       "      <td>1.000000</td>\n",
       "    </tr>\n",
       "  </tbody>\n",
       "</table>\n",
       "</div>"
      ],
      "text/plain": [
       "                             age  campaign     pdays  previous  emp.var.rate  \\\n",
       "age                     1.000000  0.004594  0.008509  0.024365     -0.000371   \n",
       "campaign                0.004594  1.000000 -0.081635 -0.079141      0.150754   \n",
       "pdays                   0.008509 -0.081635  1.000000  0.826164     -0.440586   \n",
       "previous                0.024365 -0.079141  0.826164  1.000000     -0.420489   \n",
       "emp.var.rate           -0.000371  0.150754 -0.440586 -0.420489      1.000000   \n",
       "cons.price.idx          0.000857  0.127836 -0.271217 -0.203130      0.775334   \n",
       "cons.conf.idx           0.129372 -0.013733 -0.101447 -0.050936      0.196041   \n",
       "euribor3m               0.010767  0.135133 -0.462637 -0.454494      0.972245   \n",
       "f.age_to_retire        -0.991360 -0.008105  0.001642 -0.010044     -0.021770   \n",
       "f.age_to_retire_weight -0.313468 -0.013824  0.041734  0.048344     -0.073123   \n",
       "f.age_to_death         -0.999510 -0.004934 -0.007914 -0.023117     -0.001629   \n",
       "\n",
       "                        cons.price.idx  cons.conf.idx  euribor3m  \\\n",
       "age                           0.000857       0.129372   0.010767   \n",
       "campaign                      0.127836      -0.013733   0.135133   \n",
       "pdays                        -0.271217      -0.101447  -0.462637   \n",
       "previous                     -0.203130      -0.050936  -0.454494   \n",
       "emp.var.rate                  0.775334       0.196041   0.972245   \n",
       "cons.price.idx                1.000000       0.058986   0.688230   \n",
       "cons.conf.idx                 0.058986       1.000000   0.277686   \n",
       "euribor3m                     0.688230       0.277686   1.000000   \n",
       "f.age_to_retire              -0.011777      -0.123685  -0.033813   \n",
       "f.age_to_retire_weight       -0.023679      -0.036240  -0.081841   \n",
       "f.age_to_death               -0.001839      -0.129510  -0.012920   \n",
       "\n",
       "                        f.age_to_retire  f.age_to_retire_weight  \\\n",
       "age                           -0.991360               -0.313468   \n",
       "campaign                      -0.008105               -0.013824   \n",
       "pdays                          0.001642                0.041734   \n",
       "previous                      -0.010044                0.048344   \n",
       "emp.var.rate                  -0.021770               -0.073123   \n",
       "cons.price.idx                -0.011777               -0.023679   \n",
       "cons.conf.idx                 -0.123685               -0.036240   \n",
       "euribor3m                     -0.033813               -0.081841   \n",
       "f.age_to_retire                1.000000                0.284742   \n",
       "f.age_to_retire_weight         0.284742                1.000000   \n",
       "f.age_to_death                 0.993662                0.311179   \n",
       "\n",
       "                        f.age_to_death  \n",
       "age                          -0.999510  \n",
       "campaign                     -0.004934  \n",
       "pdays                        -0.007914  \n",
       "previous                     -0.023117  \n",
       "emp.var.rate                 -0.001629  \n",
       "cons.price.idx               -0.001839  \n",
       "cons.conf.idx                -0.129510  \n",
       "euribor3m                    -0.012920  \n",
       "f.age_to_retire               0.993662  \n",
       "f.age_to_retire_weight        0.311179  \n",
       "f.age_to_death                1.000000  "
      ]
     },
     "execution_count": 99,
     "metadata": {},
     "output_type": "execute_result"
    }
   ],
   "source": [
    "bdf.corr()"
   ]
  },
  {
   "cell_type": "code",
   "execution_count": 100,
   "metadata": {},
   "outputs": [],
   "source": [
    "# use one hot encoding for categorical columns\n",
    "bdf_cat_one_hot = pd.get_dummies(bdf_cat)"
   ]
  },
  {
   "cell_type": "code",
   "execution_count": 101,
   "metadata": {},
   "outputs": [
    {
     "data": {
      "text/plain": [
       "(41188, 124)"
      ]
     },
     "execution_count": 101,
     "metadata": {},
     "output_type": "execute_result"
    }
   ],
   "source": [
    "bdf_cat_one_hot.shape"
   ]
  },
  {
   "cell_type": "code",
   "execution_count": 102,
   "metadata": {},
   "outputs": [],
   "source": [
    "#concat categorical df with non categorical df\n",
    "bdf_master = pd.concat([bdf_noncat, bdf_cat_one_hot], axis=1)"
   ]
  },
  {
   "cell_type": "code",
   "execution_count": 103,
   "metadata": {},
   "outputs": [],
   "source": [
    "# store only the target variable column\n",
    "y = bdf_master.pop('y')"
   ]
  },
  {
   "cell_type": "code",
   "execution_count": 104,
   "metadata": {},
   "outputs": [],
   "source": [
    "# remove the target variable column from the master dataset\n",
    "X = bdf_master"
   ]
  },
  {
   "cell_type": "code",
   "execution_count": 105,
   "metadata": {},
   "outputs": [],
   "source": [
    "#sm = SMOTE()"
   ]
  },
  {
   "cell_type": "code",
   "execution_count": 106,
   "metadata": {},
   "outputs": [],
   "source": [
    "X_train, X_test, y_train, y_test = train_test_split(\n",
    "    X, y, test_size=test_size, random_state=101, stratify=y)"
   ]
  },
  {
   "cell_type": "code",
   "execution_count": 107,
   "metadata": {},
   "outputs": [],
   "source": [
    "#X_train_sm, y_train_sm = sm.fit_sample(X_train, y_train)"
   ]
  },
  {
   "cell_type": "code",
   "execution_count": 108,
   "metadata": {},
   "outputs": [
    {
     "data": {
      "text/plain": [
       "(30891, 135)"
      ]
     },
     "execution_count": 108,
     "metadata": {},
     "output_type": "execute_result"
    }
   ],
   "source": [
    "X_train.shape"
   ]
  },
  {
   "cell_type": "code",
   "execution_count": 109,
   "metadata": {},
   "outputs": [],
   "source": [
    "#X_train_sm.shape"
   ]
  },
  {
   "cell_type": "code",
   "execution_count": 110,
   "metadata": {},
   "outputs": [],
   "source": [
    "# the propotion of yes and no looks the same"
   ]
  },
  {
   "cell_type": "markdown",
   "metadata": {},
   "source": [
    "### Visualizing classification report"
   ]
  },
  {
   "cell_type": "code",
   "execution_count": 111,
   "metadata": {},
   "outputs": [],
   "source": [
    "def show_classification_rpt(model):\n",
    "    visualizer = ClassificationReport(model, classes=['no','yes'], cmap=\"YlGn\", size=(600,300))\n",
    "    visualizer.fit(X_train, y_train)\n",
    "    visualizer.score(X_test, y_test)\n",
    "    visualizer.show()"
   ]
  },
  {
   "cell_type": "markdown",
   "metadata": {},
   "source": [
    "# Model Building"
   ]
  },
  {
   "cell_type": "code",
   "execution_count": 112,
   "metadata": {},
   "outputs": [],
   "source": [
    "# function that fits and predicts\n",
    "def fit_predict(algo,X_train, X_test, y_train, y_test):\n",
    "    algo.fit(X_train, y_train)\n",
    "    y_pred = algo.predict(X_test)\n",
    "    return y_pred"
   ]
  },
  {
   "cell_type": "markdown",
   "metadata": {},
   "source": [
    "## Logistic Regression"
   ]
  },
  {
   "cell_type": "code",
   "execution_count": 113,
   "metadata": {},
   "outputs": [],
   "source": [
    "logit = LogisticRegression()"
   ]
  },
  {
   "cell_type": "code",
   "execution_count": 114,
   "metadata": {},
   "outputs": [
    {
     "name": "stdout",
     "output_type": "stream",
     "text": [
      "Accuracy with Logistic Regression: 0.8967660483636011\n"
     ]
    }
   ],
   "source": [
    "print(\"Accuracy with Logistic Regression\", end=': ')\n",
    "y_pred_logit = fit_predict(logit, X_train, X_test, y_train, y_test)\n",
    "logit_accuracy = accuracy_score(y_test, y_pred_logit)\n",
    "print(logit_accuracy)"
   ]
  },
  {
   "cell_type": "code",
   "execution_count": 115,
   "metadata": {},
   "outputs": [
    {
     "data": {
      "image/png": "[encoded data removed]",
      "text/plain": [
       "<Figure size 600x300 with 2 Axes>"
      ]
     },
     "metadata": {},
     "output_type": "display_data"
    }
   ],
   "source": [
    "show_classification_rpt(logit)"
   ]
  },
  {
   "cell_type": "code",
   "execution_count": 116,
   "metadata": {},
   "outputs": [
    {
     "name": "stdout",
     "output_type": "stream",
     "text": [
      "              precision    recall  f1-score   support\n",
      "\n",
      "          no       0.91      0.98      0.94      9137\n",
      "         yes       0.61      0.24      0.34      1160\n",
      "\n",
      "    accuracy                           0.90     10297\n",
      "   macro avg       0.76      0.61      0.64     10297\n",
      "weighted avg       0.88      0.90      0.88     10297\n",
      "\n"
     ]
    }
   ],
   "source": [
    "print(classification_report(y_test, y_pred_logit))"
   ]
  },
  {
   "cell_type": "code",
   "execution_count": 117,
   "metadata": {},
   "outputs": [
    {
     "name": "stdout",
     "output_type": "stream",
     "text": [
      "Confusion Matrix:\n",
      "[[8955  182]\n",
      " [ 881  279]]\n"
     ]
    }
   ],
   "source": [
    "print(\"Confusion Matrix:\")\n",
    "print(confusion_matrix(y_test,y_pred_logit))"
   ]
  },
  {
   "cell_type": "markdown",
   "metadata": {},
   "source": [
    "## Decision Tree"
   ]
  },
  {
   "cell_type": "code",
   "execution_count": 118,
   "metadata": {},
   "outputs": [],
   "source": [
    "tree = DecisionTreeClassifier(random_state=rand_state)"
   ]
  },
  {
   "cell_type": "code",
   "execution_count": 119,
   "metadata": {},
   "outputs": [
    {
     "name": "stdout",
     "output_type": "stream",
     "text": [
      "Accuracy with Decision Tree: 0.8434495484121589\n"
     ]
    }
   ],
   "source": [
    "print(\"Accuracy with Decision Tree\", end=': ')\n",
    "y_pred_tree = fit_predict(tree, X_train, X_test, y_train, y_test)\n",
    "tree_accuracy = accuracy_score(y_test, y_pred_tree)\n",
    "print(tree_accuracy)"
   ]
  },
  {
   "cell_type": "code",
   "execution_count": 120,
   "metadata": {},
   "outputs": [
    {
     "data": {
      "image/png": "[encoded data removed]",
      "text/plain": [
       "<Figure size 600x300 with 2 Axes>"
      ]
     },
     "metadata": {},
     "output_type": "display_data"
    }
   ],
   "source": [
    "show_classification_rpt(tree)"
   ]
  },
  {
   "cell_type": "code",
   "execution_count": 121,
   "metadata": {},
   "outputs": [
    {
     "name": "stdout",
     "output_type": "stream",
     "text": [
      "Confusion Matrix:\n",
      "[[8283  854]\n",
      " [ 758  402]]\n"
     ]
    }
   ],
   "source": [
    "print(\"Confusion Matrix:\")\n",
    "print(confusion_matrix(y_test,y_pred_tree))"
   ]
  },
  {
   "cell_type": "markdown",
   "metadata": {},
   "source": [
    "### Hyper Parameter Tuning"
   ]
  },
  {
   "cell_type": "code",
   "execution_count": 122,
   "metadata": {},
   "outputs": [],
   "source": [
    "def fit_predict_dt(train, test, y_train, y_test, scaler, max_depth,\n",
    "               criterion = 'entropy', max_features=1, min_samples_split=4):\n",
    "    #print(\"criterion used:\", criterion)\n",
    "    train_scaled = scaler.fit_transform(train)\n",
    "    test_scaled = scaler.transform(test)\n",
    "    dt = DecisionTreeClassifier(criterion = criterion, max_depth=max_depth,\n",
    "                               random_state= 101, max_features=max_features,\n",
    "                               min_samples_split=min_samples_split)\n",
    "    dt.fit(train_scaled, y_train)\n",
    "    y_pred = dt.predict(test_scaled)\n",
    "    return y_pred"
   ]
  },
  {
   "cell_type": "markdown",
   "metadata": {},
   "source": [
    "### Max depth parameter tuning"
   ]
  },
  {
   "cell_type": "code",
   "execution_count": 123,
   "metadata": {},
   "outputs": [],
   "source": [
    "list_max_depth = []"
   ]
  },
  {
   "cell_type": "code",
   "execution_count": 124,
   "metadata": {},
   "outputs": [
    {
     "name": "stdout",
     "output_type": "stream",
     "text": [
      "Accuracy score using max_depth =  5:0.8898708361658736\n",
      "Accuracy score using max_depth =  6:0.8884141011945227\n",
      "Accuracy score using max_depth =  7:0.8881227542002526\n",
      "Accuracy score using max_depth =  8:0.8895794891716033\n",
      "Accuracy score using max_depth =  9:0.8896766048363601\n",
      "Accuracy score using max_depth =  10:0.8909391084781976\n",
      "Accuracy score using max_depth =  11:0.8892881421773332\n",
      "Accuracy score using max_depth =  12:0.8878314072059823\n",
      "Accuracy score using max_depth =  13:0.8889967951830631\n",
      "Accuracy score using max_depth =  14:0.8858890939108478\n",
      "Accuracy score using max_depth =  15:0.8862775565698747\n",
      "Accuracy score using max_depth =  16:0.8864717878993882\n",
      "Accuracy score using max_depth =  17:0.8820044673205788\n",
      "Accuracy score using max_depth =  18:0.8795765757016607\n",
      "Accuracy score using max_depth =  19:0.8755948334466349\n",
      "Accuracy score using max_depth =  20:0.8814217733320384\n",
      "Accuracy score using max_depth =  21:0.8721957851801495\n",
      "Accuracy score using max_depth =  22:0.8694765465669613\n",
      "Accuracy score using max_depth =  23:0.8748179081285812\n",
      "Accuracy score using max_depth =  24:0.8699621248907449\n",
      "Accuracy score using max_depth =  25:0.8729727104982034\n",
      "Accuracy score using max_depth =  26:0.8694765465669613\n",
      "Accuracy score using max_depth =  27:0.8733611731572303\n",
      "Accuracy score using max_depth =  28:0.8706419345440419\n",
      "Accuracy score using max_depth =  29:0.8686996212489074\n",
      "Accuracy score using max_depth =  30:0.870253471885015\n",
      "Accuracy score using max_depth =  31:0.8748179081285812\n",
      "Accuracy score using max_depth =  32:0.865689035641449\n",
      "Accuracy score using max_depth =  33:0.8730698261629601\n",
      "Accuracy score using max_depth =  34:0.8687967369136642\n",
      "Accuracy score using max_depth =  35:0.8683111585898805\n",
      "Accuracy score using max_depth =  36:0.8707390502087987\n",
      "Accuracy score using max_depth =  37:0.8708361658735554\n",
      "Accuracy score using max_depth =  38:0.8703505875497718\n",
      "Accuracy score using max_depth =  39:0.8709332815383122\n",
      "Accuracy score using max_depth =  40:0.8699621248907449\n",
      "Accuracy score using max_depth =  41:0.8693794309022045\n",
      "Accuracy score using max_depth =  42:0.8689909682431777\n",
      "Accuracy score using max_depth =  43:0.8689909682431777\n",
      "Accuracy score using max_depth =  44:0.8689909682431777\n",
      "Accuracy score using max_depth =  45:0.8689909682431777\n",
      "Accuracy score using max_depth =  46:0.8689909682431777\n",
      "Accuracy score using max_depth =  47:0.8689909682431777\n",
      "Accuracy score using max_depth =  48:0.8689909682431777\n",
      "Accuracy score using max_depth =  49:0.8689909682431777\n",
      "6\n"
     ]
    }
   ],
   "source": [
    "for i in range(5,50):\n",
    "    print(\"Accuracy score using max_depth = \", i, end = ':')\n",
    "    y_pred_tree_hpt = fit_predict_dt(X_train, X_test, y_train, y_test, StandardScaler(), i)\n",
    "    dt_max_depth = accuracy_score(y_test, y_pred_tree_hpt)\n",
    "    print(dt_max_depth)\n",
    "    list_max_depth.append(dt_max_depth)\n",
    "    \n",
    "max_depth_tuned = list_max_depth.index(max(list_max_depth))+1\n",
    "print(max_depth_tuned)"
   ]
  },
  {
   "cell_type": "markdown",
   "metadata": {},
   "source": [
    "### Max features tuning"
   ]
  },
  {
   "cell_type": "code",
   "execution_count": 125,
   "metadata": {},
   "outputs": [],
   "source": [
    "dict_max_features = {}"
   ]
  },
  {
   "cell_type": "code",
   "execution_count": 126,
   "metadata": {},
   "outputs": [
    {
     "name": "stdout",
     "output_type": "stream",
     "text": [
      "Accuracy score using max features = 0.1:0.892201612120035\n",
      "Accuracy score using max features = 0.2:0.8998737496358162\n",
      "Accuracy score using max features = 0.30000000000000004:0.898902592988249\n",
      "Accuracy score using max features = 0.4:0.8986112459939788\n",
      "Accuracy score using max features = 0.5:0.8976400893464116\n",
      "Accuracy score using max features = 0.6:0.8970573953578712\n",
      "Accuracy score using max features = 0.7000000000000001:0.8979314363406817\n",
      "Accuracy score using max features = 0.8:0.8984170146644653\n",
      "Accuracy score using max features = 0.9:0.8985141303292221\n",
      "0.2\n"
     ]
    }
   ],
   "source": [
    "for i in np.arange(0.1,1.0,0.1):\n",
    "    print('Accuracy score using max features =', i, end = \":\")\n",
    "    y_pred_max_features = fit_predict_dt(X_train, X_test, y_train, y_test, StandardScaler(), max_depth=max_depth_tuned, max_features=i)\n",
    "    dt_max_features = accuracy_score(y_test, y_pred_max_features)\n",
    "    print(dt_max_features)\n",
    "    dict_max_features[i]=dt_max_features\n",
    "\n",
    "max_feature_tuned = max(dict_max_features, key=dict_max_features.get)\n",
    "print(max_feature_tuned)"
   ]
  },
  {
   "cell_type": "markdown",
   "metadata": {},
   "source": [
    "### Min samples split tuning"
   ]
  },
  {
   "cell_type": "code",
   "execution_count": 127,
   "metadata": {},
   "outputs": [],
   "source": [
    "dict_min_samples_split = {}"
   ]
  },
  {
   "cell_type": "code",
   "execution_count": 128,
   "metadata": {},
   "outputs": [
    {
     "name": "stdout",
     "output_type": "stream",
     "text": [
      "Accuracy score using min samples split= 2:0.8998737496358162\n",
      "Accuracy score using min samples split= 3:0.8998737496358162\n",
      "Accuracy score using min samples split= 4:0.8998737496358162\n",
      "Accuracy score using min samples split= 5:0.8998737496358162\n",
      "Accuracy score using min samples split= 6:0.8998737496358162\n",
      "Accuracy score using min samples split= 7:0.8996795183063028\n",
      "Accuracy score using min samples split= 8:0.8996795183063028\n",
      "Accuracy score using min samples split= 9:0.8981256676701952\n",
      "Accuracy score using min samples split= 10:0.8981256676701952\n",
      "Accuracy score using min samples split= 11:0.8981256676701952\n",
      "Accuracy score using min samples split= 12:0.8981256676701952\n",
      "Accuracy score using min samples split= 13:0.8981256676701952\n",
      "Accuracy score using min samples split= 14:0.8981256676701952\n",
      "2\n"
     ]
    }
   ],
   "source": [
    "for i in range(2,15):\n",
    "    print('Accuracy score using min samples split=', i, end=\":\")\n",
    "    y_pred_min_split = fit_predict_dt(X_train, X_test, y_train, y_test, StandardScaler(), max_depth=max_depth_tuned, max_features=max_feature_tuned, min_samples_split=i)\n",
    "    dt_min_sample_split = accuracy_score(y_test, y_pred_min_split)\n",
    "    print(dt_min_sample_split)\n",
    "    dict_min_samples_split[i] = dt_min_sample_split\n",
    "    \n",
    "min_sample_split_tuned = max(dict_min_samples_split, key=dict_min_samples_split.get)\n",
    "print(min_sample_split_tuned)"
   ]
  },
  {
   "cell_type": "markdown",
   "metadata": {},
   "source": [
    "### Criterion tuning"
   ]
  },
  {
   "cell_type": "code",
   "execution_count": 129,
   "metadata": {},
   "outputs": [],
   "source": [
    "dict_index_tuned = {}"
   ]
  },
  {
   "cell_type": "code",
   "execution_count": 130,
   "metadata": {},
   "outputs": [
    {
     "name": "stdout",
     "output_type": "stream",
     "text": [
      "Accuracy score using criterion:  gini:0.8978343206759251\n",
      "Accuracy score using criterion:  entropy:0.8998737496358162\n",
      "entropy\n"
     ]
    }
   ],
   "source": [
    "for i in ['gini','entropy']:\n",
    "    print(\"Accuracy score using criterion: \", i, end = ':')\n",
    "    y_pred_index_score = fit_predict_dt(X_train, X_test, y_train, y_test, StandardScaler(), max_depth=max_depth_tuned, max_features = max_feature_tuned, min_samples_split=min_sample_split_tuned, criterion= i)\n",
    "    dt_index_score = accuracy_score(y_test, y_pred_index_score)\n",
    "    print(dt_index_score)\n",
    "    dict_index_tuned[i] = dt_index_score\n",
    "\n",
    "dt_index_tuned = max(dict_index_tuned, key=dict_index_tuned.get)\n",
    "print(dt_index_tuned)"
   ]
  },
  {
   "cell_type": "markdown",
   "metadata": {},
   "source": [
    "### Rerunning decision tree with best parameters"
   ]
  },
  {
   "cell_type": "code",
   "execution_count": 131,
   "metadata": {},
   "outputs": [
    {
     "name": "stdout",
     "output_type": "stream",
     "text": [
      "Accuracy score for decision tree using best param: :0.8998737496358162\n"
     ]
    }
   ],
   "source": [
    "tree_best_pred  =  fit_predict_dt(X_train, X_test, y_train, y_test, StandardScaler(), max_depth=max_depth_tuned, max_features = max_feature_tuned, min_samples_split=min_sample_split_tuned, criterion= dt_index_tuned)\n",
    "dt_best_param_score = accuracy_score(y_test, tree_best_pred)\n",
    "print(\"Accuracy score for decision tree using best param: \", end = ':')\n",
    "print(dt_best_param_score)"
   ]
  },
  {
   "cell_type": "code",
   "execution_count": 132,
   "metadata": {},
   "outputs": [],
   "source": [
    "tree1 = DecisionTreeClassifier(criterion = dt_index_tuned, max_depth=max_depth_tuned,\n",
    "                               random_state= rand_state, max_features=max_feature_tuned,\n",
    "                               min_samples_split=min_sample_split_tuned)"
   ]
  },
  {
   "cell_type": "code",
   "execution_count": 133,
   "metadata": {},
   "outputs": [
    {
     "data": {
      "image/png": "[encoded data removed]",
      "text/plain": [
       "<Figure size 600x300 with 2 Axes>"
      ]
     },
     "metadata": {},
     "output_type": "display_data"
    }
   ],
   "source": [
    "show_classification_rpt(tree1)"
   ]
  },
  {
   "cell_type": "code",
   "execution_count": 134,
   "metadata": {},
   "outputs": [
    {
     "name": "stdout",
     "output_type": "stream",
     "text": [
      "Confusion Matrix:\n",
      "[[9001  136]\n",
      " [ 895  265]]\n"
     ]
    }
   ],
   "source": [
    "print(\"Confusion Matrix:\")\n",
    "print(confusion_matrix(y_test, tree_best_pred))"
   ]
  },
  {
   "cell_type": "markdown",
   "metadata": {},
   "source": [
    "## Random Forest"
   ]
  },
  {
   "cell_type": "code",
   "execution_count": 135,
   "metadata": {},
   "outputs": [],
   "source": [
    "forest = RandomForestClassifier(criterion='entropy', oob_score=True)"
   ]
  },
  {
   "cell_type": "code",
   "execution_count": 136,
   "metadata": {},
   "outputs": [
    {
     "name": "stdout",
     "output_type": "stream",
     "text": [
      "Accuracy with Random Forest: 0.8928814217733321\n"
     ]
    }
   ],
   "source": [
    "print(\"Accuracy with Random Forest\", end=': ')\n",
    "rf_pred = fit_predict(forest, X_train, X_test, y_train, y_test)\n",
    "rf_accuracy = accuracy_score(y_test, rf_pred)\n",
    "print(rf_accuracy)"
   ]
  },
  {
   "cell_type": "code",
   "execution_count": 137,
   "metadata": {
    "scrolled": true
   },
   "outputs": [
    {
     "data": {
      "image/png": "[encoded data removed]",
      "text/plain": [
       "<Figure size 600x300 with 2 Axes>"
      ]
     },
     "metadata": {},
     "output_type": "display_data"
    }
   ],
   "source": [
    "show_classification_rpt(forest)"
   ]
  },
  {
   "cell_type": "code",
   "execution_count": 138,
   "metadata": {},
   "outputs": [
    {
     "name": "stdout",
     "output_type": "stream",
     "text": [
      "Confusion Matrix:\n",
      "[[8865  272]\n",
      " [ 831  329]]\n"
     ]
    }
   ],
   "source": [
    "print(\"Confusion Matrix:\")\n",
    "print(confusion_matrix(y_test,rf_pred))"
   ]
  },
  {
   "cell_type": "markdown",
   "metadata": {},
   "source": [
    "### Parameter tuning using Grid Search"
   ]
  },
  {
   "cell_type": "code",
   "execution_count": 139,
   "metadata": {},
   "outputs": [],
   "source": [
    "params = {\n",
    "    'n_estimators': [100,300,500],\n",
    "    'max_depth': [10,15,20,25],\n",
    "    'min_samples_leaf': [3,5,7]\n",
    "}"
   ]
  },
  {
   "cell_type": "code",
   "execution_count": 140,
   "metadata": {},
   "outputs": [],
   "source": [
    "gs = GridSearchCV(forest, params, cv=cv, verbose=verbose, n_jobs=number_of_jobs)"
   ]
  },
  {
   "cell_type": "code",
   "execution_count": 141,
   "metadata": {},
   "outputs": [
    {
     "name": "stdout",
     "output_type": "stream",
     "text": [
      "Fitting 2 folds for each of 36 candidates, totalling 72 fits\n"
     ]
    },
    {
     "name": "stderr",
     "output_type": "stream",
     "text": [
      "[Parallel(n_jobs=-1)]: Using backend LokyBackend with 4 concurrent workers.\n",
      "[Parallel(n_jobs=-1)]: Done  24 tasks      | elapsed:  1.9min\n",
      "[Parallel(n_jobs=-1)]: Done  72 out of  72 | elapsed:  6.5min finished\n"
     ]
    }
   ],
   "source": [
    "if rf_grid_search_enable == True:\n",
    "    gs.fit(X_train, y_train)"
   ]
  },
  {
   "cell_type": "code",
   "execution_count": 142,
   "metadata": {},
   "outputs": [
    {
     "name": "stdout",
     "output_type": "stream",
     "text": [
      "{'max_depth': 10, 'min_samples_leaf': 5, 'n_estimators': 100}\n"
     ]
    }
   ],
   "source": [
    "if rf_grid_search_enable == True:\n",
    "    print(gs.best_params_)"
   ]
  },
  {
   "cell_type": "code",
   "execution_count": 143,
   "metadata": {},
   "outputs": [],
   "source": [
    "if rf_grid_search_enable == True:\n",
    "    forest_best_max_depth = gs.best_params_['max_depth']\n",
    "    forest_best_min_samples = gs.best_params_['min_samples_leaf']\n",
    "    forest_best_n_estimators = gs.best_params_['n_estimators']\n",
    "    #forest_best_criterion = gs.best_params_['criterion']"
   ]
  },
  {
   "cell_type": "code",
   "execution_count": 144,
   "metadata": {},
   "outputs": [
    {
     "name": "stdout",
     "output_type": "stream",
     "text": [
      "RandomForestClassifier(criterion='entropy', max_depth=10, min_samples_leaf=5,\n",
      "                       oob_score=True)\n"
     ]
    }
   ],
   "source": [
    "if rf_grid_search_enable == True:\n",
    "    print(gs.best_estimator_)"
   ]
  },
  {
   "cell_type": "markdown",
   "metadata": {},
   "source": [
    "### Retraining with best estimators"
   ]
  },
  {
   "cell_type": "code",
   "execution_count": 145,
   "metadata": {},
   "outputs": [],
   "source": [
    "if rf_grid_search_enable == True:\n",
    "    forest1 = RandomForestClassifier(bootstrap=True, ccp_alpha=0.0, class_weight=None,\n",
    "                       criterion='entropy', max_depth=forest_best_max_depth, max_features='auto',\n",
    "                       max_leaf_nodes=None, max_samples=None,\n",
    "                       min_impurity_decrease=0.0, min_impurity_split=None,\n",
    "                       min_samples_leaf=forest_best_min_samples, min_samples_split=2,\n",
    "                       min_weight_fraction_leaf=0.0, n_estimators=forest_best_n_estimators,\n",
    "                       n_jobs=number_of_jobs, oob_score=True, random_state=rand_state,\n",
    "                       verbose=0, warm_start=False)"
   ]
  },
  {
   "cell_type": "code",
   "execution_count": 146,
   "metadata": {},
   "outputs": [],
   "source": [
    "if rf_grid_search_enable == True:\n",
    "   forest1.fit(X_train, y_train)"
   ]
  },
  {
   "cell_type": "code",
   "execution_count": 147,
   "metadata": {},
   "outputs": [],
   "source": [
    "if rf_grid_search_enable == True:\n",
    "    pred_forest1 = forest1.predict(X_test)"
   ]
  },
  {
   "cell_type": "code",
   "execution_count": 148,
   "metadata": {},
   "outputs": [
    {
     "name": "stdout",
     "output_type": "stream",
     "text": [
      "Accuracy with Random Forest after Hyper Parameter Tuning: 0.8996795183063028\n"
     ]
    }
   ],
   "source": [
    "if rf_grid_search_enable == True:\n",
    "    print(\"Accuracy with Random Forest after Hyper Parameter Tuning\", end=': ')\n",
    "    rf_hyper_accuracy = accuracy_score(y_test, pred_forest1)\n",
    "    print(rf_hyper_accuracy)"
   ]
  },
  {
   "cell_type": "code",
   "execution_count": 149,
   "metadata": {},
   "outputs": [
    {
     "name": "stdout",
     "output_type": "stream",
     "text": [
      "(0.11632430022541103, 'euribor3m')\n",
      "(0.07528543015495921, 'emp.var.rate')\n",
      "(0.048992144775954746, 'f.year_Y2008')\n",
      "(0.04557862087896284, 'f.emp_var_rate_high')\n",
      "(0.03450339214944283, 'poutcome_success')\n",
      "(0.03404344393054367, 'f.emp.var.bin_gt_1')\n",
      "(0.034012269778197976, 'cons.conf.idx')\n",
      "(0.03279054563947937, 'poutcome_failure')\n",
      "(0.03233475756181548, 'cons.price.idx')\n",
      "(0.031797755363268475, 'f.euribor_euri_475_500')\n",
      "(0.026378244799086518, 'f.year_Y2010')\n",
      "(0.02489506653495637, 'f.euribor_euri_050_075')\n",
      "(0.020316047082908892, 'age')\n",
      "(0.01978367784810523, 'f.age_to_retire')\n",
      "(0.01817582457346925, 'f.age_to_death')\n",
      "(0.01796216563556808, 'f.euribor_euri_075_100')\n",
      "(0.016155017002502166, 'f.user_type_new user')\n",
      "(0.01578693387589053, 'f.cons.conf.bin_gt_51_lt_46')\n",
      "(0.015600809145138044, 'month_may')\n",
      "(0.01251738476115853, 'pdays')\n",
      "(0.01217108959639371, 'f.emp_var_rate_medium')\n",
      "(0.01071793651126305, 'contact_telephone')\n",
      "(0.009769753469161284, 'campaign')\n",
      "(0.008955252381154103, 'f.cons.conf.bin_gt_36_lt_31')\n",
      "(0.0084577612677489, 'previous')\n",
      "(0.008204725121713935, 'f.emp.var.bin_gt_min_2_lt_15')\n",
      "(0.008093794599162759, 'contact_cellular')\n",
      "(0.0078939562405232, 'f.first_time_user_calls_returning user')\n",
      "(0.00755593447224023, 'f.year_Y2009')\n",
      "(0.007460642838509549, 'f.euribor_euri_125_150')\n",
      "(0.007390796781595366, 'f.user_type_existing user')\n",
      "(0.007018028266100529, 'f.emp.var.bin_gt_min_3_lt_25')\n",
      "(0.006638545426302353, 'month_oct')\n",
      "(0.006502528679021382, 'f.previous_campaigns_1_to_3')\n",
      "(0.006359362141436024, 'f.cons.conf.bin_gt_41_lt_36')\n",
      "(0.006119101698906369, 'f.previous_campaigns_no previous')\n",
      "(0.0055741861325466005, 'f.age_to_retire_weight')\n",
      "(0.0055069881855616485, 'f.week_breakup_week_mid')\n",
      "(0.0055004145861858676, 'f.cons.conf.bin_gt_46_lt_41')\n",
      "(0.004792727598196384, 'f.euribor_euri_400_425')\n",
      "(0.004575387907530639, 'f.cons.price.bin_gt_925_lt_93')\n",
      "(0.004524999315838321, 'month_mar')\n",
      "(0.004340997849635003, 'f.festivals_no')\n",
      "(0.003953960422444402, 'f.week_breakup_week_start')\n",
      "(0.00383441855843161, 'f.emp.var.bin_gt_min_05_lt_0')\n",
      "(0.003777662659224157, 'day_of_week_mon')\n",
      "(0.0037653081564949565, 'f.cons.price.bin_gt_935_lt_94')\n",
      "(0.0035700907561524277, 'job_blue-collar')\n",
      "(0.0035263418020203786, 'f.festivals_yes')\n",
      "(0.003518320019084406, 'f.first_time_user_calls_first time called')\n",
      "(0.0034677393223821918, 'f.emp.var.bin_gt_min_35_lt_3')\n",
      "(0.003467360117088596, 'education_university.degree')\n",
      "(0.00333789709798534, 'day_of_week_fri')\n",
      "(0.0033073392918303466, 'f.current_campaign_calls_once')\n",
      "(0.00320729939248872, 'f.current_campaign_calls_twice to thrice ')\n",
      "(0.003140224097636358, 'marital_married')\n",
      "(0.003084161206037332, 'job_admin.')\n",
      "(0.0030499102804949245, 'day_of_week_thu')\n",
      "(0.002810483851849016, 'f.week_breakup_week_end')\n",
      "(0.002802127700176257, 'month_apr')\n",
      "(0.002784387442267343, 'housing_yes')\n",
      "(0.002758931234840042, 'marital_single')\n",
      "(0.0027319564582024545, 'housing_no')\n",
      "(0.002707964134764867, 'day_of_week_tue')\n",
      "(0.0026834643795020196, 'f.into_loans_into_loans')\n",
      "(0.002683092747325686, 'f.cons.price.bin_gt_93_lt_935')\n",
      "(0.0025799429640866733, 'f.sal_or_not_not salaried')\n",
      "(0.002573798998213797, 'f.sal_or_not_salaried')\n",
      "(0.002564617042748729, 'f.into_loans_not_into_loans')\n",
      "(0.0025543239427110952, 'education_basic.9y')\n",
      "(0.0025200583610267215, 'day_of_week_wed')\n",
      "(0.0024568547045595176, 'education_professional.course')\n",
      "(0.0023790309769226173, 'education_high.school')\n",
      "(0.002338101981536625, 'job_technician')\n",
      "(0.002160322686467435, 'f.retired_status_retired')\n",
      "(0.0021365635065131415, 'f.commitment_medium')\n",
      "(0.0020998237441670837, 'f.first_time_user_calls_called atleast twice')\n",
      "(0.0020748725630271355, 'f.emp.var.bin_gt_min_15_lt_1')\n",
      "(0.0019506030588174084, 'f.commitment_low')\n",
      "(0.001937981381205827, 'loan_yes')\n",
      "(0.0019356120404986183, 'loan_no')\n",
      "(0.0019326328609472706, 'education_basic.4y')\n",
      "(0.0019317103190977286, 'marital_divorced')\n",
      "(0.0019226633500282176, 'f.age_group_25_30')\n",
      "(0.0019136107196965012, 'f.pdays_within two weeks')\n",
      "(0.001911039686269925, 'job_retired')\n",
      "(0.0018124563403671729, 'job_services')\n",
      "(0.0017268716454209247, 'f.pdays_within a week')\n",
      "(0.0016858559074489094, 'f.retired_status_not-retired')\n",
      "(0.0016841036327186298, 'f.age_group_30_35')\n",
      "(0.0016807443634934954, 'f.cons.price.bin_gt_94_lt_94.5')\n",
      "(0.001638763813478494, 'f.age_group_35_40')\n",
      "(0.0015747173590207827, 'f.current_campaign_calls_four to six times')\n",
      "(0.0015390402375430514, 'f.age_group_40_45')\n",
      "(0.0015266505304825763, 'f.cons.price.bin_gt_945_lt_95')\n",
      "(0.0015100999903644454, 'f.first_time_user_calls_called atleast thrice')\n",
      "(0.0014971622328744483, 'job_management')\n",
      "(0.0014141126838558115, 'f.euribor_euri_100_125')\n",
      "(0.0014119876490429723, 'f.cons.price.bin_gt_92_lt_92.5')\n",
      "(0.0013703923270570798, 'f.age_group_45_50')\n",
      "(0.0013180076721220012, 'month_jun')\n",
      "(0.0012863239920853867, 'month_jul')\n",
      "(0.0012076886420679235, 'month_nov')\n",
      "(0.0012003648433167621, 'f.age_group_50_55')\n",
      "(0.0011576987580504585, 'f.age_group_55_60')\n",
      "(0.0011514270643290772, 'f.commitment_high')\n",
      "(0.001091500106614049, 'f.euribor_euri_150_175')\n",
      "(0.0010725587190138488, 'job_entrepreneur')\n",
      "(0.0010717588861752366, 'job_self-employed')\n",
      "(0.001038603326436922, 'f.cons.conf.bin_gt_31_lt_26')\n",
      "(0.0010200623462882162, 'f.current_campaign_calls_seven to ten times')\n",
      "(0.0009764636709862466, 'month_aug')\n",
      "(0.0009663278987222895, 'job_student')\n",
      "(0.0009567466327879416, 'job_unemployed')\n",
      "(0.0008964160536405749, 'f.age_group_20_25')\n",
      "(0.000833641339262327, 'education_basic.6y')\n",
      "(0.0007982159425310773, 'f.euribor_euri_450_475')\n",
      "(0.0007751294396716639, 'job_housemaid')\n",
      "(0.0007236555305194276, 'month_sep')\n",
      "(0.0006416631639079604, 'f.age_group_65_')\n",
      "(0.000511160166183656, 'f.current_campaign_calls_more than ten times')\n",
      "(0.0005011172682786566, 'f.age_group_60_65')\n",
      "(0.00035437012846502747, 'month_dec')\n",
      "(0.0003188156796169357, 'f.euribor_euri_175_200')\n",
      "(0.00030416523311942433, 'f.euribor_euri_425_450')\n",
      "(0.00020813366415548082, 'f.euribor_euri_500')\n",
      "(0.00011574875457641224, 'f.age_group_16_20')\n",
      "(0.00010698163621189054, 'f.previous_campaigns_gt_3')\n",
      "(0.00010066528053642609, 'f.pdays_within three weeks')\n",
      "(1.0685245349848812e-05, 'education_illiterate')\n",
      "(7.595400995705574e-06, 'f.pdays_more than three weeks')\n",
      "(0.0, 'f.euribor_euri_375_400')\n",
      "(0.0, 'f.euribor_euri_350_375')\n",
      "(0.0, 'f.euribor_euri_325_350')\n",
      "(0.0, 'f.euribor_euri_300_325')\n"
     ]
    }
   ],
   "source": [
    "if grid_search_enable == True:\n",
    "    for x in sorted(list(zip(forest1.feature_importances_, X_train.columns)), reverse=True):\n",
    "        print(x)"
   ]
  },
  {
   "cell_type": "code",
   "execution_count": 150,
   "metadata": {},
   "outputs": [
    {
     "data": {
      "image/png": "[encoded data removed]",
      "text/plain": [
       "<Figure size 600x300 with 2 Axes>"
      ]
     },
     "metadata": {},
     "output_type": "display_data"
    }
   ],
   "source": [
    "if rf_grid_search_enable == True:\n",
    "    show_classification_rpt(forest1)"
   ]
  },
  {
   "cell_type": "code",
   "execution_count": 151,
   "metadata": {},
   "outputs": [
    {
     "name": "stdout",
     "output_type": "stream",
     "text": [
      "Confusion Matrix:\n",
      "[[8997  140]\n",
      " [ 893  267]]\n"
     ]
    }
   ],
   "source": [
    "if rf_grid_search_enable == True:\n",
    "    print(\"Confusion Matrix:\")\n",
    "    print(confusion_matrix(y_test, pred_forest1))"
   ]
  },
  {
   "cell_type": "markdown",
   "metadata": {},
   "source": [
    "## Accuracy Summary Without Boosting"
   ]
  },
  {
   "cell_type": "code",
   "execution_count": 152,
   "metadata": {},
   "outputs": [
    {
     "name": "stdout",
     "output_type": "stream",
     "text": [
      "Accuracy with Logistic Regression: 0.8967660483636011\n",
      "Accuracy with Decision Tree: 0.8434495484121589\n",
      "Accuracy of Decision Tree after Hyper Parameter Tuning: :0.8998737496358162\n",
      "Accuracy with Random Forest: 0.8928814217733321\n",
      "Accuracy with Random Forest after Hyper Parameter Tuning: 0.8996795183063028\n"
     ]
    }
   ],
   "source": [
    "print(\"Accuracy with Logistic Regression\", end=': ')\n",
    "print(logit_accuracy)\n",
    "print(\"Accuracy with Decision Tree\", end=': ')\n",
    "print(tree_accuracy)\n",
    "print(\"Accuracy of Decision Tree after Hyper Parameter Tuning: \", end = ':')\n",
    "print(dt_best_param_score)\n",
    "print(\"Accuracy with Random Forest\", end=': ')\n",
    "print(rf_accuracy)\n",
    "if rf_grid_search_enable == True:\n",
    "    print(\"Accuracy with Random Forest after Hyper Parameter Tuning\", end=': ')\n",
    "    print(rf_hyper_accuracy)"
   ]
  },
  {
   "cell_type": "markdown",
   "metadata": {},
   "source": [
    "## LGBM"
   ]
  },
  {
   "cell_type": "code",
   "execution_count": 153,
   "metadata": {},
   "outputs": [],
   "source": [
    "from lightgbm import LGBMClassifier"
   ]
  },
  {
   "cell_type": "code",
   "execution_count": 154,
   "metadata": {},
   "outputs": [
    {
     "data": {
      "text/plain": [
       "LGBMClassifier()"
      ]
     },
     "execution_count": 154,
     "metadata": {},
     "output_type": "execute_result"
    }
   ],
   "source": [
    "LGBM = LGBMClassifier(n_jobs=number_of_jobs, num_leaves=31)\n",
    "LGBM.fit(X_train, y_train)"
   ]
  },
  {
   "cell_type": "code",
   "execution_count": 155,
   "metadata": {},
   "outputs": [],
   "source": [
    "LGBM_predict = LGBM.predict(X_test)"
   ]
  },
  {
   "cell_type": "code",
   "execution_count": 156,
   "metadata": {},
   "outputs": [
    {
     "name": "stdout",
     "output_type": "stream",
     "text": [
      "Accuracy with LGBM: 0.9019131785957075\n"
     ]
    }
   ],
   "source": [
    "print(\"Accuracy with LGBM\", end=': ')\n",
    "lgbm_accuracy = accuracy_score(y_test,LGBM_predict)\n",
    "print(lgbm_accuracy)"
   ]
  },
  {
   "cell_type": "code",
   "execution_count": 157,
   "metadata": {},
   "outputs": [
    {
     "data": {
      "image/png": "[encoded data removed]",
      "text/plain": [
       "<Figure size 600x300 with 2 Axes>"
      ]
     },
     "metadata": {},
     "output_type": "display_data"
    }
   ],
   "source": [
    "show_classification_rpt(LGBM)"
   ]
  },
  {
   "cell_type": "code",
   "execution_count": 158,
   "metadata": {},
   "outputs": [
    {
     "name": "stdout",
     "output_type": "stream",
     "text": [
      "Confusion Matrix:\n",
      "[[8965  172]\n",
      " [ 838  322]]\n"
     ]
    }
   ],
   "source": [
    "print(\"Confusion Matrix:\")\n",
    "print(confusion_matrix(y_test, LGBM_predict))"
   ]
  },
  {
   "cell_type": "markdown",
   "metadata": {},
   "source": [
    "### LGBM With Grid Search"
   ]
  },
  {
   "cell_type": "code",
   "execution_count": 159,
   "metadata": {},
   "outputs": [],
   "source": [
    "lgbm_params = {\n",
    "    'num_leaves': [31,35,41,45],\n",
    "    'n_estimators': [50,75,100,150],\n",
    "    'learning_rate': [0.025,0.05,0.075,1.0]\n",
    "}"
   ]
  },
  {
   "cell_type": "code",
   "execution_count": 160,
   "metadata": {},
   "outputs": [],
   "source": [
    "if lgbm_grid_search_enable == True:\n",
    "    lgbm_gs = GridSearchCV(LGBM, lgbm_params, cv=cv, n_jobs=number_of_jobs)\n",
    "    lgbm_gs.fit(X_train, y_train)"
   ]
  },
  {
   "cell_type": "code",
   "execution_count": 161,
   "metadata": {},
   "outputs": [
    {
     "name": "stdout",
     "output_type": "stream",
     "text": [
      "{'learning_rate': 0.05, 'n_estimators': 50, 'num_leaves': 31}\n"
     ]
    }
   ],
   "source": [
    "if lgbm_grid_search_enable == True:\n",
    "    lgbm_best_estimator = lgbm_gs.best_params_['n_estimators']\n",
    "    lgbm_best_num_leaves = lgbm_gs.best_params_['num_leaves']\n",
    "    lgbm_learning_rate = lgbm_gs.best_params_['learning_rate']\n",
    "    print(lgbm_gs.best_params_)"
   ]
  },
  {
   "cell_type": "code",
   "execution_count": 162,
   "metadata": {},
   "outputs": [
    {
     "data": {
      "image/png": "[encoded data removed]",
      "text/plain": [
       "<Figure size 600x300 with 2 Axes>"
      ]
     },
     "metadata": {},
     "output_type": "display_data"
    }
   ],
   "source": [
    "if lgbm_grid_search_enable == True:\n",
    "    show_classification_rpt(lgbm_gs)"
   ]
  },
  {
   "cell_type": "markdown",
   "metadata": {},
   "source": [
    "### LGBM With Best Parameters"
   ]
  },
  {
   "cell_type": "code",
   "execution_count": 163,
   "metadata": {},
   "outputs": [],
   "source": [
    "if lgbm_grid_search_enable == True:\n",
    "    LGBM_best = LGBMClassifier(n_jobs=number_of_jobs, num_leaves=lgbm_best_num_leaves, \n",
    "                               n_estimators=lgbm_best_estimator,learning_rate=lgbm_learning_rate)\n",
    "    LGBM_best.fit(X_train, y_train)"
   ]
  },
  {
   "cell_type": "code",
   "execution_count": 164,
   "metadata": {},
   "outputs": [],
   "source": [
    "if lgbm_grid_search_enable == True:\n",
    "    LGBM_best_predict = LGBM_best.predict(X_test)\n",
    "    LGBM_accuracy_score = accuracy_score(y_test,LGBM_best_predict)"
   ]
  },
  {
   "cell_type": "code",
   "execution_count": 165,
   "metadata": {},
   "outputs": [
    {
     "name": "stdout",
     "output_type": "stream",
     "text": [
      "Accuracy with LGBM with Hyper Parameter Tuning: 0.9001650966300865\n"
     ]
    }
   ],
   "source": [
    "if lgbm_grid_search_enable == True:\n",
    "    print(\"Accuracy with LGBM with Hyper Parameter Tuning\", end=': ')\n",
    "    print(LGBM_accuracy_score)"
   ]
  },
  {
   "cell_type": "code",
   "execution_count": 166,
   "metadata": {},
   "outputs": [
    {
     "data": {
      "image/png": "[encoded data removed]",
      "text/plain": [
       "<Figure size 600x300 with 2 Axes>"
      ]
     },
     "metadata": {},
     "output_type": "display_data"
    }
   ],
   "source": [
    "if lgbm_grid_search_enable == True:\n",
    "    show_classification_rpt(LGBM_best)"
   ]
  },
  {
   "cell_type": "code",
   "execution_count": 167,
   "metadata": {},
   "outputs": [
    {
     "name": "stdout",
     "output_type": "stream",
     "text": [
      "Confusion Matrix:\n",
      "[[9009  128]\n",
      " [ 900  260]]\n"
     ]
    }
   ],
   "source": [
    "if lgbm_grid_search_enable == True:\n",
    "    print(\"Confusion Matrix:\")\n",
    "    print(confusion_matrix(y_test, LGBM_best_predict))"
   ]
  },
  {
   "cell_type": "markdown",
   "metadata": {},
   "source": [
    "## Accuracy Summary With Boosting"
   ]
  },
  {
   "cell_type": "code",
   "execution_count": 168,
   "metadata": {},
   "outputs": [
    {
     "name": "stdout",
     "output_type": "stream",
     "text": [
      "Accuracy with Logistic Regression: 0.8967660483636011\n",
      "Accuracy with Decision Tree: 0.8434495484121589\n",
      "Accuracy with Decision Tree after Hyper Parameter Tuning: 0.8998737496358162\n",
      "Accuracy with Random Forest: 0.8928814217733321\n",
      "Accuracy with Random Forest after Hyper Parameter Tuning: 0.8996795183063028\n",
      "Accuracy with LGBM: 0.9019131785957075\n",
      "Accuracy with LGBM after Hyper Parameter Tuning: 0.9001650966300865\n"
     ]
    }
   ],
   "source": [
    "print(\"Accuracy with Logistic Regression\", end=': ')\n",
    "print(logit_accuracy)\n",
    "\n",
    "print(\"Accuracy with Decision Tree\", end=': ')\n",
    "print(tree_accuracy)\n",
    "print(\"Accuracy with Decision Tree after Hyper Parameter Tuning\", end = ': ')\n",
    "print(dt_best_param_score)\n",
    "\n",
    "print(\"Accuracy with Random Forest\", end=': ')\n",
    "print(rf_accuracy)\n",
    "if rf_grid_search_enable == True:\n",
    "    print(\"Accuracy with Random Forest after Hyper Parameter Tuning\", end=': ')\n",
    "    print(rf_hyper_accuracy)\n",
    "    \n",
    "print(\"Accuracy with LGBM\", end=': ')\n",
    "print(lgbm_accuracy)\n",
    "if lgbm_grid_search_enable == True:\n",
    "    print(\"Accuracy with LGBM after Hyper Parameter Tuning\", end=': ')\n",
    "    print(LGBM_accuracy_score)"
   ]
  },
  {
   "cell_type": "markdown",
   "metadata": {},
   "source": [
    "## Voting Classifiers Optimization Technique"
   ]
  },
  {
   "cell_type": "code",
   "execution_count": 169,
   "metadata": {},
   "outputs": [],
   "source": [
    "from sklearn.model_selection import cross_val_score\n",
    "from sklearn.ensemble import VotingClassifier"
   ]
  },
  {
   "cell_type": "code",
   "execution_count": 170,
   "metadata": {},
   "outputs": [],
   "source": [
    "# estimators = []\n",
    "# estimators.append(('logistic', logit))\n",
    "# estimators.append(('dtree', tree))\n",
    "# estimators.append(('randomforest', forest1))\n",
    "# estimators.append(('lgbm', LGBM))\n",
    "# estimators.append(('xgboost', xgb_fit))\n",
    "# ensemble = VotingClassifier(estimators, voting='soft', weights=[1,2,2,2,1])\n",
    "# #results = cross_val_score(ensemble, X, y, cv=5, scoring='accuracy', )\n",
    "# #print(results.mean())\n",
    "# ensemble.fit(X_train, y_train)\n",
    "# y_pred1 = ensemble.predict(X_test)\n",
    "# print(accuracy_score(y_test, y_pred1))"
   ]
  },
  {
   "cell_type": "code",
   "execution_count": 171,
   "metadata": {},
   "outputs": [],
   "source": [
    "cat_cols = X.select_dtypes(exclude=[\"int64\",\"float64\"])"
   ]
  },
  {
   "cell_type": "code",
   "execution_count": 172,
   "metadata": {},
   "outputs": [
    {
     "data": {
      "text/plain": [
       "Index(['job_admin.', 'job_blue-collar', 'job_entrepreneur', 'job_housemaid',\n",
       "       'job_management', 'job_retired', 'job_self-employed', 'job_services',\n",
       "       'job_student', 'job_technician',\n",
       "       ...\n",
       "       'f.emp.var.bin_gt_min_35_lt_3', 'f.emp.var.bin_gt_min_3_lt_25',\n",
       "       'f.commitment_high', 'f.commitment_low', 'f.commitment_medium',\n",
       "       'f.year_Y2008', 'f.year_Y2009', 'f.year_Y2010', 'f.festivals_no',\n",
       "       'f.festivals_yes'],\n",
       "      dtype='object', length=124)"
      ]
     },
     "execution_count": 172,
     "metadata": {},
     "output_type": "execute_result"
    }
   ],
   "source": [
    "cat_cols.columns"
   ]
  },
  {
   "cell_type": "code",
   "execution_count": 173,
   "metadata": {},
   "outputs": [],
   "source": [
    "idx = pd.Index(X.columns)"
   ]
  },
  {
   "cell_type": "code",
   "execution_count": 174,
   "metadata": {},
   "outputs": [
    {
     "data": {
      "text/plain": [
       "135"
      ]
     },
     "execution_count": 174,
     "metadata": {},
     "output_type": "execute_result"
    }
   ],
   "source": [
    "cat_range_max = len(idx)\n",
    "cat_range_max"
   ]
  },
  {
   "cell_type": "code",
   "execution_count": 175,
   "metadata": {},
   "outputs": [
    {
     "data": {
      "text/plain": [
       "10"
      ]
     },
     "execution_count": 175,
     "metadata": {},
     "output_type": "execute_result"
    }
   ],
   "source": [
    "cat_columns_idx = idx.difference(cat_cols.columns)\n",
    "cat_range_min = len(cat_columns_idx) - 1\n",
    "cat_range_min"
   ]
  },
  {
   "cell_type": "code",
   "execution_count": 176,
   "metadata": {},
   "outputs": [],
   "source": [
    "cat_cols_index_list = []\n",
    "for x in range(cat_range_min, cat_range_max):\n",
    "    cat_cols_index_list.append(x)"
   ]
  },
  {
   "cell_type": "markdown",
   "metadata": {},
   "source": [
    "# SMOTENC"
   ]
  },
  {
   "cell_type": "code",
   "execution_count": 177,
   "metadata": {},
   "outputs": [],
   "source": [
    "smnc = SMOTENC(random_state=rand_state, categorical_features=cat_cols_index_list)"
   ]
  },
  {
   "cell_type": "code",
   "execution_count": 178,
   "metadata": {},
   "outputs": [],
   "source": [
    "X_train_smnc, y_train_smnc = smnc.fit_resample(X_train, y_train)"
   ]
  },
  {
   "cell_type": "code",
   "execution_count": 179,
   "metadata": {},
   "outputs": [
    {
     "data": {
      "text/plain": [
       "LGBMClassifier()"
      ]
     },
     "execution_count": 179,
     "metadata": {},
     "output_type": "execute_result"
    }
   ],
   "source": [
    "LGBM_NC = LGBMClassifier(n_jobs=number_of_jobs, num_leaves=31)\n",
    "LGBM_NC.fit(X_train_smnc, y_train_smnc)"
   ]
  },
  {
   "cell_type": "code",
   "execution_count": 180,
   "metadata": {},
   "outputs": [],
   "source": [
    "LGBM_predict_nc = LGBM.predict(X_test)"
   ]
  },
  {
   "cell_type": "code",
   "execution_count": 181,
   "metadata": {},
   "outputs": [
    {
     "name": "stdout",
     "output_type": "stream",
     "text": [
      "Accuracy with LGBM: 0.9019131785957075\n"
     ]
    }
   ],
   "source": [
    "print(\"Accuracy with LGBM\", end=': ')\n",
    "lgbm_accuracy_nc = accuracy_score(y_test,LGBM_predict_nc)\n",
    "print(lgbm_accuracy_nc)"
   ]
  },
  {
   "cell_type": "code",
   "execution_count": 183,
   "metadata": {},
   "outputs": [
    {
     "data": {
      "image/png": "[encoded data removed]",
      "text/plain": [
       "<Figure size 600x300 with 2 Axes>"
      ]
     },
     "metadata": {},
     "output_type": "display_data"
    }
   ],
   "source": [
    "show_classification_rpt(LGBM_NC)"
   ]
  },
  {
   "cell_type": "code",
   "execution_count": 184,
   "metadata": {},
   "outputs": [
    {
     "name": "stdout",
     "output_type": "stream",
     "text": [
      "Confusion Matrix:\n",
      "[[8965  172]\n",
      " [ 838  322]]\n"
     ]
    }
   ],
   "source": [
    "print(\"Confusion Matrix:\")\n",
    "print(confusion_matrix(y_test, LGBM_predict_nc))"
   ]
  },
  {
   "cell_type": "markdown",
   "metadata": {},
   "source": [
    "## Random Forest"
   ]
  },
  {
   "cell_type": "code",
   "execution_count": 185,
   "metadata": {},
   "outputs": [],
   "source": [
    "forest = RandomForestClassifier(criterion='entropy', oob_score=True)"
   ]
  },
  {
   "cell_type": "code",
   "execution_count": 187,
   "metadata": {},
   "outputs": [
    {
     "name": "stdout",
     "output_type": "stream",
     "text": [
      "Accuracy with Random Forest: 0.8844323589394969\n"
     ]
    }
   ],
   "source": [
    "print(\"Accuracy with Random Forest\", end=': ')\n",
    "rf_pred_nc = fit_predict(forest, X_train_smnc, X_test, y_train_smnc, y_test)\n",
    "rf_accuracy = accuracy_score(y_test, rf_pred_nc)\n",
    "print(rf_accuracy)"
   ]
  },
  {
   "cell_type": "code",
   "execution_count": 188,
   "metadata": {
    "scrolled": true
   },
   "outputs": [
    {
     "data": {
      "image/png": "[encoded data removed]",
      "text/plain": [
       "<Figure size 600x300 with 2 Axes>"
      ]
     },
     "metadata": {},
     "output_type": "display_data"
    }
   ],
   "source": [
    "show_classification_rpt(forest)"
   ]
  },
  {
   "cell_type": "code",
   "execution_count": 189,
   "metadata": {},
   "outputs": [
    {
     "name": "stdout",
     "output_type": "stream",
     "text": [
      "Confusion Matrix:\n",
      "[[8712  425]\n",
      " [ 765  395]]\n"
     ]
    }
   ],
   "source": [
    "print(\"Confusion Matrix:\")\n",
    "print(confusion_matrix(y_test,rf_pred_nc))"
   ]
  },
  {
   "cell_type": "markdown",
   "metadata": {},
   "source": [
    "### Parameter tuning using Grid Search"
   ]
  },
  {
   "cell_type": "code",
   "execution_count": 190,
   "metadata": {},
   "outputs": [],
   "source": [
    "params = {\n",
    "    'n_estimators': [100,300,500],\n",
    "    'max_depth': [10,15,20,25],\n",
    "    'min_samples_leaf': [3,5,7]\n",
    "}"
   ]
  },
  {
   "cell_type": "code",
   "execution_count": 191,
   "metadata": {},
   "outputs": [],
   "source": [
    "gs = GridSearchCV(forest, params, cv=cv, verbose=verbose, n_jobs=number_of_jobs)"
   ]
  },
  {
   "cell_type": "code",
   "execution_count": 192,
   "metadata": {},
   "outputs": [
    {
     "name": "stdout",
     "output_type": "stream",
     "text": [
      "Fitting 2 folds for each of 36 candidates, totalling 72 fits\n"
     ]
    },
    {
     "name": "stderr",
     "output_type": "stream",
     "text": [
      "[Parallel(n_jobs=-1)]: Using backend LokyBackend with 4 concurrent workers.\n",
      "[Parallel(n_jobs=-1)]: Done  24 tasks      | elapsed:  2.7min\n",
      "[Parallel(n_jobs=-1)]: Done  72 out of  72 | elapsed: 11.2min finished\n"
     ]
    }
   ],
   "source": [
    "if rf_grid_search_enable == True:\n",
    "    gs.fit(X_train_smnc, y_train_smnc)"
   ]
  },
  {
   "cell_type": "code",
   "execution_count": 193,
   "metadata": {},
   "outputs": [
    {
     "name": "stdout",
     "output_type": "stream",
     "text": [
      "{'max_depth': 25, 'min_samples_leaf': 3, 'n_estimators': 100}\n"
     ]
    }
   ],
   "source": [
    "if rf_grid_search_enable == True:\n",
    "    print(gs.best_params_)"
   ]
  },
  {
   "cell_type": "code",
   "execution_count": 194,
   "metadata": {},
   "outputs": [],
   "source": [
    "if rf_grid_search_enable == True:\n",
    "    forest_best_max_depth = gs.best_params_['max_depth']\n",
    "    forest_best_min_samples = gs.best_params_['min_samples_leaf']\n",
    "    forest_best_n_estimators = gs.best_params_['n_estimators']\n",
    "    #forest_best_criterion = gs.best_params_['criterion']"
   ]
  },
  {
   "cell_type": "code",
   "execution_count": 195,
   "metadata": {},
   "outputs": [
    {
     "name": "stdout",
     "output_type": "stream",
     "text": [
      "RandomForestClassifier(criterion='entropy', max_depth=25, min_samples_leaf=3,\n",
      "                       oob_score=True)\n"
     ]
    }
   ],
   "source": [
    "if rf_grid_search_enable == True:\n",
    "    print(gs.best_estimator_)"
   ]
  },
  {
   "cell_type": "markdown",
   "metadata": {},
   "source": [
    "### Retraining with best estimators"
   ]
  },
  {
   "cell_type": "code",
   "execution_count": 196,
   "metadata": {},
   "outputs": [],
   "source": [
    "if rf_grid_search_enable == True:\n",
    "    forest1 = RandomForestClassifier(bootstrap=True, ccp_alpha=0.0, class_weight=None,\n",
    "                       criterion='entropy', max_depth=forest_best_max_depth, max_features='auto',\n",
    "                       max_leaf_nodes=None, max_samples=None,\n",
    "                       min_impurity_decrease=0.0, min_impurity_split=None,\n",
    "                       min_samples_leaf=forest_best_min_samples, min_samples_split=2,\n",
    "                       min_weight_fraction_leaf=0.0, n_estimators=forest_best_n_estimators,\n",
    "                       n_jobs=number_of_jobs, oob_score=True, random_state=rand_state,\n",
    "                       verbose=0, warm_start=False)"
   ]
  },
  {
   "cell_type": "code",
   "execution_count": 197,
   "metadata": {},
   "outputs": [],
   "source": [
    "if rf_grid_search_enable == True:\n",
    "   forest1.fit(X_train_smnc, y_train_smnc)"
   ]
  },
  {
   "cell_type": "code",
   "execution_count": 198,
   "metadata": {},
   "outputs": [],
   "source": [
    "if rf_grid_search_enable == True:\n",
    "    pred_forest1 = forest1.predict(X_test)"
   ]
  },
  {
   "cell_type": "code",
   "execution_count": 199,
   "metadata": {},
   "outputs": [
    {
     "name": "stdout",
     "output_type": "stream",
     "text": [
      "Accuracy with Random Forest after Hyper Parameter Tuning: 0.8836554336214432\n"
     ]
    }
   ],
   "source": [
    "if rf_grid_search_enable == True:\n",
    "    print(\"Accuracy with Random Forest after Hyper Parameter Tuning\", end=': ')\n",
    "    rf_hyper_accuracy = accuracy_score(y_test, pred_forest1)\n",
    "    print(rf_hyper_accuracy)"
   ]
  },
  {
   "cell_type": "code",
   "execution_count": 200,
   "metadata": {
    "scrolled": false
   },
   "outputs": [
    {
     "name": "stdout",
     "output_type": "stream",
     "text": [
      "(0.07717805603159726, 'euribor3m')\n",
      "(0.043225094602359765, 'emp.var.rate')\n",
      "(0.03465014344261687, 'f.age_to_death')\n",
      "(0.03287281625640209, 'age')\n",
      "(0.032097349303805034, 'f.age_to_retire')\n",
      "(0.027137556718452988, 'cons.conf.idx')\n",
      "(0.02386828024506551, 'f.year_Y2008')\n",
      "(0.022961691914210606, 'cons.price.idx')\n",
      "(0.0202103856621739, 'education_basic.9y')\n",
      "(0.01946972723703611, 'f.emp_var_rate_high')\n",
      "(0.019383804431342435, 'day_of_week_thu')\n",
      "(0.017943735721971596, 'day_of_week_tue')\n",
      "(0.017813549213115086, 'contact_telephone')\n",
      "(0.017422961477305588, 'job_blue-collar')\n",
      "(0.017232300736830002, 'f.emp.var.bin_gt_1')\n",
      "(0.016372563561878377, 'education_university.degree')\n",
      "(0.016334796932298012, 'education_professional.course')\n",
      "(0.016125064383284236, 'campaign')\n",
      "(0.01587171580992352, 'day_of_week_wed')\n",
      "(0.01587018603497148, 'education_high.school')\n",
      "(0.015849566591325366, 'job_admin.')\n",
      "(0.015400255872766756, 'f.euribor_euri_475_500')\n",
      "(0.014456967242050298, 'job_services')\n",
      "(0.013253394442834283, 'day_of_week_mon')\n",
      "(0.013217692271862794, 'f.week_breakup_week_start')\n",
      "(0.01293658614175136, 'job_technician')\n",
      "(0.011914956730962996, 'f.week_breakup_week_mid')\n",
      "(0.011672143414352071, 'education_basic.4y')\n",
      "(0.011159087219961783, 'loan_no')\n",
      "(0.010799390125999656, 'job_management')\n",
      "(0.010621391571576135, 'month_may')\n",
      "(0.01061843193466929, 'day_of_week_fri')\n",
      "(0.010566389519248383, 'f.week_breakup_week_end')\n",
      "(0.01045102864741401, 'contact_cellular')\n",
      "(0.010409996566172645, 'loan_yes')\n",
      "(0.009430146153071937, 'poutcome_success')\n",
      "(0.009051328374438485, 'poutcome_failure')\n",
      "(0.008657083070301334, 'f.year_Y2010')\n",
      "(0.008518413196303856, 'education_basic.6y')\n",
      "(0.008300328415644759, 'f.sal_or_not_not salaried')\n",
      "(0.008207774192709362, 'marital_divorced')\n",
      "(0.008066277457065603, 'pdays')\n",
      "(0.007714431667297668, 'marital_married')\n",
      "(0.007704118083810164, 'f.sal_or_not_salaried')\n",
      "(0.0074948693570632535, 'f.euribor_euri_050_075')\n",
      "(0.006916086142465043, 'f.current_campaign_calls_twice to thrice ')\n",
      "(0.0067693504517445284, 'f.current_campaign_calls_once')\n",
      "(0.006596606977357259, 'f.age_to_retire_weight')\n",
      "(0.006579209222494637, 'housing_no')\n",
      "(0.006511102666455565, 'f.age_group_30_35')\n",
      "(0.0063795348344190825, 'housing_yes')\n",
      "(0.006303892560879422, 'marital_single')\n",
      "(0.006232790704785207, 'f.into_loans_not_into_loans')\n",
      "(0.006007855725525335, 'f.first_time_user_calls_first time called')\n",
      "(0.005761856627524713, 'f.first_time_user_calls_called atleast twice')\n",
      "(0.005735367783086751, 'f.user_type_new user')\n",
      "(0.0057286299808581, 'f.cons.conf.bin_gt_51_lt_46')\n",
      "(0.005527767338070858, 'f.euribor_euri_075_100')\n",
      "(0.00549555790174761, 'f.into_loans_into_loans')\n",
      "(0.005122066609139395, 'f.age_group_35_40')\n",
      "(0.005027369269036695, 'f.emp_var_rate_medium')\n",
      "(0.004772563888716594, 'f.first_time_user_calls_called atleast thrice')\n",
      "(0.004748304740843691, 'f.age_group_40_45')\n",
      "(0.004714359932603642, 'f.commitment_medium')\n",
      "(0.004274988409798316, 'f.euribor_euri_125_150')\n",
      "(0.004121945178079541, 'f.first_time_user_calls_returning user')\n",
      "(0.004067177927680123, 'f.cons.price.bin_gt_935_lt_94')\n",
      "(0.003957555910388524, 'f.cons.conf.bin_gt_41_lt_36')\n",
      "(0.003945578000987283, 'f.age_group_25_30')\n",
      "(0.0038424535381784506, 'f.current_campaign_calls_four to six times')\n",
      "(0.0037086865381779238, 'f.cons.price.bin_gt_93_lt_935')\n",
      "(0.0035624115042245134, 'f.commitment_low')\n",
      "(0.0035210127537489374, 'f.cons.conf.bin_gt_46_lt_41')\n",
      "(0.0034756701295048757, 'f.user_type_existing user')\n",
      "(0.0034751436902284447, 'f.age_group_45_50')\n",
      "(0.003267516669299307, 'f.year_Y2009')\n",
      "(0.0031958078330557244, 'f.festivals_no')\n",
      "(0.003053761511700543, 'f.age_group_50_55')\n",
      "(0.003020655952644236, 'f.emp.var.bin_gt_min_2_lt_15')\n",
      "(0.0029351974650051005, 'job_entrepreneur')\n",
      "(0.0029223298013751568, 'f.festivals_yes')\n",
      "(0.002727377246151525, 'previous')\n",
      "(0.0027112786965537545, 'job_self-employed')\n",
      "(0.002516213621909193, 'f.previous_campaigns_no previous')\n",
      "(0.0024751832801319282, 'f.previous_campaigns_1_to_3')\n",
      "(0.0024609845341136156, 'f.age_group_55_60')\n",
      "(0.0024000510925099947, 'f.cons.price.bin_gt_925_lt_93')\n",
      "(0.0023803693228494818, 'month_aug')\n",
      "(0.002349033349970189, 'month_jul')\n",
      "(0.0023016685038044654, 'f.cons.conf.bin_gt_36_lt_31')\n",
      "(0.002264758242816514, 'f.commitment_high')\n",
      "(0.002227533865090075, 'f.emp.var.bin_gt_min_05_lt_0')\n",
      "(0.0021011205424980007, 'f.euribor_euri_100_125')\n",
      "(0.0019193129356794116, 'month_oct')\n",
      "(0.0018605597495215806, 'month_nov')\n",
      "(0.001829951874647695, 'f.euribor_euri_400_425')\n",
      "(0.0018047173506710247, 'job_housemaid')\n",
      "(0.0018029519244860594, 'month_jun')\n",
      "(0.0017648425936618328, 'f.emp.var.bin_gt_min_3_lt_25')\n",
      "(0.001472224219410288, 'f.age_group_20_25')\n",
      "(0.0013819345580456627, 'job_retired')\n",
      "(0.0013487461931282546, 'f.current_campaign_calls_seven to ten times')\n",
      "(0.0012800051510016763, 'f.cons.price.bin_gt_94_lt_94.5')\n",
      "(0.0012339631317807157, 'month_apr')\n",
      "(0.0012332543802363162, 'job_unemployed')\n",
      "(0.0012297336797593768, 'f.emp.var.bin_gt_min_35_lt_3')\n",
      "(0.0009046892523603819, 'month_mar')\n",
      "(0.0008061235296724244, 'job_student')\n",
      "(0.0008003267165886602, 'f.cons.price.bin_gt_92_lt_92.5')\n",
      "(0.0007356751512826012, 'f.current_campaign_calls_more than ten times')\n",
      "(0.0006258091659583055, 'month_sep')\n",
      "(0.000607645247489346, 'f.retired_status_retired')\n",
      "(0.0005625868802864392, 'f.cons.conf.bin_gt_31_lt_26')\n",
      "(0.0004592589916933806, 'f.retired_status_not-retired')\n",
      "(0.0004396526055057973, 'f.cons.price.bin_gt_945_lt_95')\n",
      "(0.00043329879229220383, 'f.emp.var.bin_gt_min_15_lt_1')\n",
      "(0.0004212694578175428, 'f.pdays_within two weeks')\n",
      "(0.00041192400231574214, 'f.age_group_65_')\n",
      "(0.0004072017085642517, 'f.pdays_within a week')\n",
      "(0.0003930890595412069, 'f.age_group_60_65')\n",
      "(0.00035290953974009446, 'f.euribor_euri_150_175')\n",
      "(0.00020806005283871028, 'f.euribor_euri_175_200')\n",
      "(0.0001886008925304678, 'month_dec')\n",
      "(0.0001684572055693922, 'f.age_group_16_20')\n",
      "(9.773963959556697e-05, 'f.previous_campaigns_gt_3')\n",
      "(7.206091836465479e-05, 'f.pdays_within three weeks')\n",
      "(1.1708643941075007e-05, 'f.euribor_euri_450_475')\n",
      "(7.970876720489223e-06, 'f.euribor_euri_500')\n",
      "(7.544721629290372e-06, 'education_illiterate')\n",
      "(6.632758147663522e-06, 'f.euribor_euri_425_450')\n",
      "(0.0, 'f.pdays_more than three weeks')\n",
      "(0.0, 'f.euribor_euri_375_400')\n",
      "(0.0, 'f.euribor_euri_350_375')\n",
      "(0.0, 'f.euribor_euri_325_350')\n",
      "(0.0, 'f.euribor_euri_300_325')\n"
     ]
    }
   ],
   "source": [
    "if grid_search_enable == True:\n",
    "    for x in sorted(list(zip(forest1.feature_importances_, X_train.columns)), reverse=True):\n",
    "        print(x)"
   ]
  },
  {
   "cell_type": "code",
   "execution_count": 201,
   "metadata": {},
   "outputs": [
    {
     "data": {
      "image/png": "[encoded data removed]",
      "text/plain": [
       "<Figure size 600x300 with 2 Axes>"
      ]
     },
     "metadata": {},
     "output_type": "display_data"
    }
   ],
   "source": [
    "if rf_grid_search_enable == True:\n",
    "    show_classification_rpt(forest1)"
   ]
  },
  {
   "cell_type": "code",
   "execution_count": 202,
   "metadata": {},
   "outputs": [
    {
     "name": "stdout",
     "output_type": "stream",
     "text": [
      "Confusion Matrix:\n",
      "[[8627  510]\n",
      " [ 688  472]]\n"
     ]
    }
   ],
   "source": [
    "if rf_grid_search_enable == True:\n",
    "    print(\"Confusion Matrix:\")\n",
    "    print(confusion_matrix(y_test, pred_forest1))"
   ]
  },
  {
   "cell_type": "markdown",
   "metadata": {},
   "source": [
    "### LGBM With Grid Search"
   ]
  },
  {
   "cell_type": "code",
   "execution_count": 203,
   "metadata": {},
   "outputs": [],
   "source": [
    "lgbm_params = {\n",
    "    'num_leaves': [31,35,41,45],\n",
    "    'n_estimators': [50,75,100,150],\n",
    "    'learning_rate': [0.025,0.05,0.075,1.0]\n",
    "}"
   ]
  },
  {
   "cell_type": "code",
   "execution_count": 204,
   "metadata": {},
   "outputs": [],
   "source": [
    "if lgbm_grid_search_enable == True:\n",
    "    lgbm_gs = GridSearchCV(LGBM, lgbm_params, cv=cv, n_jobs=number_of_jobs)\n",
    "    lgbm_gs.fit(X_train_smnc, y_train_smnc)"
   ]
  },
  {
   "cell_type": "code",
   "execution_count": 205,
   "metadata": {},
   "outputs": [
    {
     "name": "stdout",
     "output_type": "stream",
     "text": [
      "{'learning_rate': 0.075, 'n_estimators': 150, 'num_leaves': 45}\n"
     ]
    }
   ],
   "source": [
    "if lgbm_grid_search_enable == True:\n",
    "    lgbm_best_estimator = lgbm_gs.best_params_['n_estimators']\n",
    "    lgbm_best_num_leaves = lgbm_gs.best_params_['num_leaves']\n",
    "    lgbm_learning_rate = lgbm_gs.best_params_['learning_rate']\n",
    "    print(lgbm_gs.best_params_)"
   ]
  },
  {
   "cell_type": "code",
   "execution_count": 206,
   "metadata": {},
   "outputs": [
    {
     "data": {
      "image/png": "[encoded data removed]",
      "text/plain": [
       "<Figure size 600x300 with 2 Axes>"
      ]
     },
     "metadata": {},
     "output_type": "display_data"
    }
   ],
   "source": [
    "if lgbm_grid_search_enable == True:\n",
    "    show_classification_rpt(lgbm_gs)"
   ]
  },
  {
   "cell_type": "markdown",
   "metadata": {},
   "source": [
    "### LGBM With Best Parameters"
   ]
  },
  {
   "cell_type": "code",
   "execution_count": 207,
   "metadata": {},
   "outputs": [],
   "source": [
    "if lgbm_grid_search_enable == True:\n",
    "    LGBM_best_nc = LGBMClassifier(n_jobs=number_of_jobs, num_leaves=lgbm_best_num_leaves, \n",
    "                               n_estimators=lgbm_best_estimator,learning_rate=lgbm_learning_rate)\n",
    "    LGBM_best_nc.fit(X_train_smnc, y_train_smnc)"
   ]
  },
  {
   "cell_type": "code",
   "execution_count": 208,
   "metadata": {},
   "outputs": [],
   "source": [
    "if lgbm_grid_search_enable == True:\n",
    "    LGBM_best_predict_nc = LGBM_best.predict(X_test)\n",
    "    LGBM_accuracy_score_nc = accuracy_score(y_test,LGBM_best_predict_nc)"
   ]
  },
  {
   "cell_type": "code",
   "execution_count": 209,
   "metadata": {},
   "outputs": [
    {
     "name": "stdout",
     "output_type": "stream",
     "text": [
      "Accuracy with LGBM with Hyper Parameter Tuning: 0.9001650966300865\n"
     ]
    }
   ],
   "source": [
    "if lgbm_grid_search_enable == True:\n",
    "    print(\"Accuracy with LGBM with Hyper Parameter Tuning\", end=': ')\n",
    "    print(LGBM_accuracy_score_nc)"
   ]
  },
  {
   "cell_type": "code",
   "execution_count": 210,
   "metadata": {},
   "outputs": [
    {
     "data": {
      "image/png": "[encoded data removed]",
      "text/plain": [
       "<Figure size 600x300 with 2 Axes>"
      ]
     },
     "metadata": {},
     "output_type": "display_data"
    }
   ],
   "source": [
    "if lgbm_grid_search_enable == True:\n",
    "    show_classification_rpt(LGBM_best)"
   ]
  },
  {
   "cell_type": "code",
   "execution_count": 211,
   "metadata": {},
   "outputs": [
    {
     "name": "stdout",
     "output_type": "stream",
     "text": [
      "Confusion Matrix:\n",
      "[[9009  128]\n",
      " [ 900  260]]\n"
     ]
    }
   ],
   "source": [
    "if lgbm_grid_search_enable == True:\n",
    "    print(\"Confusion Matrix:\")\n",
    "    print(confusion_matrix(y_test, LGBM_best_predict_nc))"
   ]
  },
  {
   "cell_type": "code",
   "execution_count": null,
   "metadata": {},
   "outputs": [],
   "source": []
  }
 ],
 "metadata": {
  "kernelspec": {
   "display_name": "Python 3",
   "language": "python",
   "name": "python3"
  },
  "language_info": {
   "codemirror_mode": {
    "name": "ipython",
    "version": 3
   },
   "file_extension": ".py",
   "mimetype": "text/x-python",
   "name": "python",
   "nbconvert_exporter": "python",
   "pygments_lexer": "ipython3",
   "version": "3.7.7"
  }
 },
 "nbformat": 4,
 "nbformat_minor": 4
}
