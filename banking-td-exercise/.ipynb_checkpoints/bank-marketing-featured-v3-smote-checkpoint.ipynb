{
 "cells": [
  {
   "cell_type": "code",
   "execution_count": 1,
   "metadata": {},
   "outputs": [],
   "source": [
    "import pandas as pd\n",
    "import numpy as np\n",
    "import warnings\n",
    "\n",
    "from sklearn.linear_model import LogisticRegression\n",
    "from sklearn.tree import DecisionTreeClassifier\n",
    "from sklearn.ensemble import RandomForestClassifier\n",
    "from sklearn.model_selection import train_test_split, GridSearchCV\n",
    "from sklearn.metrics import accuracy_score, confusion_matrix, classification_report\n",
    "\n",
    "from sklearn.preprocessing import StandardScaler, PolynomialFeatures\n",
    "from imblearn.over_sampling import SMOTE\n",
    "warnings.filterwarnings(\"ignore\")\n",
    "np.random.seed(42)"
   ]
  },
  {
   "cell_type": "code",
   "execution_count": 2,
   "metadata": {},
   "outputs": [],
   "source": [
    "from yellowbrick.classifier import ClassificationReport\n",
    "from yellowbrick.features import rank2d"
   ]
  },
  {
   "cell_type": "code",
   "execution_count": 3,
   "metadata": {},
   "outputs": [],
   "source": [
    "grid_search_enable = True\n",
    "cv = 2\n",
    "verbose = 3\n",
    "number_of_jobs = -1\n",
    "rand_state = 101\n",
    "test_size = 0.25"
   ]
  },
  {
   "cell_type": "code",
   "execution_count": 4,
   "metadata": {},
   "outputs": [],
   "source": [
    "bdf = pd.read_csv(\"featured_bank_imputed_wo_duration_pattern.csv\")"
   ]
  },
  {
   "cell_type": "markdown",
   "metadata": {},
   "source": [
    "### Feature engineering"
   ]
  },
  {
   "cell_type": "code",
   "execution_count": 5,
   "metadata": {},
   "outputs": [],
   "source": [
    "def euribor3m_bup(rate):\n",
    "    if rate >0 and rate <= 0.25:\n",
    "        return 'euri_000_025'\n",
    "    if rate >0.25 and rate <= 0.5:\n",
    "        return 'euri_025_050'\n",
    "    if rate >0.5 and rate <= 0.75:\n",
    "        return 'euri_050_075'\n",
    "    if rate >0.75 and rate <= 1:\n",
    "        return 'euri_075_100'\n",
    "    if rate >1 and rate <= 1.25:\n",
    "        return 'euri_100_125'\n",
    "    if rate >1.25 and rate <= 1.5:\n",
    "        return 'euri_125_150'\n",
    "    if rate >1.5 and rate <= 1.75:\n",
    "        return 'euri_150_175'\n",
    "    if rate >1.75 and rate <= 2:\n",
    "        return 'euri_175_200'\n",
    "    if rate >2 and rate <= 2.25:\n",
    "        return 'euri_200_225'\n",
    "    if rate >2.25 and rate <= 2.5:\n",
    "        return 'euri_225_250'\n",
    "    if rate >2.5 and rate <= 2.75:\n",
    "        return 'euri_250_275'\n",
    "    if rate >2.75 and rate <= 3:\n",
    "        return 'euri_275_300'\n",
    "    if rate >3 and rate <= 3.25:\n",
    "        return 'euri_300_325'\n",
    "    if rate >3.25 and rate <= 3.5:\n",
    "        return 'euri_325_350'\n",
    "    if rate >3.5 and rate <= 3.75:\n",
    "        return 'euri_350_375'\n",
    "    if rate >4 and rate <= 4.25:\n",
    "        return 'euri_400_425'\n",
    "    if rate >4.25 and rate <= 4.5:\n",
    "        return 'euri_425_450'\n",
    "    if rate >4.5 and rate <= 4.75:\n",
    "        return 'euri_450_475'\n",
    "    if rate >4.75 and rate <= 5:\n",
    "        return 'euri_475_500'\n",
    "    if rate > 5:\n",
    "        return 'euri_500'"
   ]
  },
  {
   "cell_type": "code",
   "execution_count": 6,
   "metadata": {},
   "outputs": [],
   "source": [
    "bdf['f.euribor']=bdf['euribor3m'].apply(euribor3m_bup)"
   ]
  },
  {
   "cell_type": "code",
   "execution_count": 7,
   "metadata": {},
   "outputs": [],
   "source": [
    "def age_group(age):\n",
    "    if age >= 16 and age <=20:\n",
    "        return '16_20'\n",
    "    if age > 20 and age <=25:\n",
    "        return '20_25'\n",
    "    if age > 25 and age <=30:\n",
    "        return '25_30'\n",
    "    if age > 30 and age <=35:\n",
    "        return '30_35'\n",
    "    if age > 35 and age <=40:\n",
    "        return '35_40'\n",
    "    if age > 40 and age <=45:\n",
    "        return '40_45'\n",
    "    if age > 45 and age <=50:\n",
    "        return '45_50'\n",
    "    if age > 50 and age <=55:\n",
    "        return '50_55'\n",
    "    if age > 55 and age <=60:\n",
    "        return '55_60'\n",
    "    if age > 60 and age <=65:\n",
    "        return '60_65'\n",
    "    if age > 65:\n",
    "        return '65_'"
   ]
  },
  {
   "cell_type": "code",
   "execution_count": 8,
   "metadata": {},
   "outputs": [],
   "source": [
    "bdf['f.age_group']=bdf['age'].apply(age_group)"
   ]
  },
  {
   "cell_type": "code",
   "execution_count": 9,
   "metadata": {},
   "outputs": [],
   "source": [
    "def festivals(month):\n",
    "    # imputing festivals - apr: easter; jun:carnival; dec:christmas\n",
    "    if month == 'apr' or month == 'jun' or month == 'dec':\n",
    "        return 1\n",
    "    else:\n",
    "        return 0"
   ]
  },
  {
   "cell_type": "code",
   "execution_count": 10,
   "metadata": {},
   "outputs": [],
   "source": [
    "bdf['f.festivals'] = bdf['month'].apply(festivals)"
   ]
  },
  {
   "cell_type": "code",
   "execution_count": 11,
   "metadata": {},
   "outputs": [],
   "source": [
    "def bonus_months(month):\n",
    "    # bonus paid twice in a year - may and nov\n",
    "    if month == 'jun' or month == 'dec':\n",
    "        return 1\n",
    "    else:\n",
    "        return 0"
   ]
  },
  {
   "cell_type": "code",
   "execution_count": 12,
   "metadata": {},
   "outputs": [],
   "source": [
    "bdf['f.bonus_months']= bdf['month'].apply(bonus_months)"
   ]
  },
  {
   "cell_type": "code",
   "execution_count": 13,
   "metadata": {},
   "outputs": [],
   "source": [
    "def commitment(housing, personal, marital):\n",
    "    # if a person is married and has housing and personal loans, flag it as high commitment\n",
    "    if housing == 'yes' and personal == 'yes' and marital == 'married':\n",
    "        return 'high'\n",
    "    if housing == 'no' and personal == 'no' and marital in ['single']:\n",
    "        return 'low'\n",
    "    else:\n",
    "        return 'medium'"
   ]
  },
  {
   "cell_type": "code",
   "execution_count": 14,
   "metadata": {},
   "outputs": [],
   "source": [
    "bdf['f.commitment'] = bdf.apply(lambda x: commitment(x.housing, x.loan, x.marital), axis=1)"
   ]
  },
  {
   "cell_type": "code",
   "execution_count": 15,
   "metadata": {},
   "outputs": [],
   "source": [
    "def seasons(month):\n",
    "    if month in ['mar','apr','may']:\n",
    "        return 'spring'\n",
    "    if month in ['jun','jul','aug']:\n",
    "        return 'summer'\n",
    "    if month in ['sep','oct','nov']:\n",
    "        return 'autumn'\n",
    "    if month in ['dec','jan','feb']:\n",
    "        return 'winter'"
   ]
  },
  {
   "cell_type": "code",
   "execution_count": 16,
   "metadata": {},
   "outputs": [],
   "source": [
    "bdf['f.seasons'] = bdf['month'].apply(lambda mon: seasons(mon))"
   ]
  },
  {
   "cell_type": "code",
   "execution_count": 17,
   "metadata": {},
   "outputs": [],
   "source": [
    "def seasons_weightage(season):\n",
    "    if season == 'autumn':\n",
    "        return 21\n",
    "    if season == 'spring':\n",
    "        return 36\n",
    "    if season == 'summer':\n",
    "        return 40\n",
    "    if season == \"winter\":\n",
    "        return 2"
   ]
  },
  {
   "cell_type": "code",
   "execution_count": 18,
   "metadata": {},
   "outputs": [],
   "source": [
    "#bdf ['f.season_weight'] = bdf['f.seasons'].apply(lambda season: seasons_weightage(season))"
   ]
  },
  {
   "cell_type": "code",
   "execution_count": 19,
   "metadata": {},
   "outputs": [],
   "source": [
    "def retired(age):\n",
    "    if age >= 65:\n",
    "        return 'retired'\n",
    "    else:\n",
    "        return 'not-retired'"
   ]
  },
  {
   "cell_type": "code",
   "execution_count": 20,
   "metadata": {},
   "outputs": [],
   "source": [
    "bdf['f.retired_status'] = bdf['age'].apply(lambda age: retired(age))"
   ]
  },
  {
   "cell_type": "code",
   "execution_count": 21,
   "metadata": {},
   "outputs": [],
   "source": [
    "def marital_weightage(marital):\n",
    "    if marital == 'divorced':\n",
    "        return 1\n",
    "    if marital == 'single':\n",
    "        return 35\n",
    "    if marital == 'married':\n",
    "        return 54"
   ]
  },
  {
   "cell_type": "code",
   "execution_count": 22,
   "metadata": {},
   "outputs": [],
   "source": [
    "#bdf['f.marital_weightage'] = bdf['marital'].apply(lambda status: marital_weightage(status))"
   ]
  },
  {
   "cell_type": "code",
   "execution_count": 23,
   "metadata": {},
   "outputs": [],
   "source": [
    "def age_weightage(age):\n",
    "    if age == '11_to_20':\n",
    "        return 0.01\n",
    "    if age == '21_to_30':\n",
    "        return 0.23\n",
    "    if age == '31_to_40':\n",
    "        return 0.34\n",
    "    if age == '41_to_50':\n",
    "        return 0.18\n",
    "    if age == '51_to_60':\n",
    "        return 0.14\n",
    "    if age == '61_to_70':\n",
    "        return 0.04\n",
    "    if age == '71_to_80':\n",
    "        return 0.03\n",
    "    if age == '81_to_90':\n",
    "        return 0.01\n",
    "    if age == '91_to_100':\n",
    "        return 0.00\n",
    "        "
   ]
  },
  {
   "cell_type": "code",
   "execution_count": 24,
   "metadata": {},
   "outputs": [],
   "source": [
    "#bdf['f.age_weightage'] = bdf['f.age'].apply(lambda age: age_weightage(age))"
   ]
  },
  {
   "cell_type": "code",
   "execution_count": 25,
   "metadata": {},
   "outputs": [],
   "source": [
    "def previous_user(previous):\n",
    "    if previous == 0:\n",
    "        return 'new user'\n",
    "    else:\n",
    "        return 'existing user'"
   ]
  },
  {
   "cell_type": "code",
   "execution_count": 26,
   "metadata": {},
   "outputs": [],
   "source": [
    "bdf['f.user_type'] = bdf['previous'].apply(lambda previous: previous_user(previous))"
   ]
  },
  {
   "cell_type": "code",
   "execution_count": 27,
   "metadata": {},
   "outputs": [],
   "source": [
    "def previous_no_of_times(previous):\n",
    "    # if a user is part of the previous campaign, bin them\n",
    "    if previous == 0:\n",
    "        return 'no previous'\n",
    "    if previous >= 1 and previous <= 3:\n",
    "        return '1_to_3'\n",
    "    if previous > 3:\n",
    "        return 'gt_3'\n",
    "    "
   ]
  },
  {
   "cell_type": "code",
   "execution_count": 28,
   "metadata": {},
   "outputs": [],
   "source": [
    "bdf['f.previous_campaigns'] = bdf['previous'].apply(lambda previous: previous_no_of_times(previous))"
   ]
  },
  {
   "cell_type": "code",
   "execution_count": 29,
   "metadata": {},
   "outputs": [],
   "source": [
    "def current_campaign_calls(calls):\n",
    "    # how many times a user is called\n",
    "    if calls == 1:\n",
    "        return 'once'\n",
    "    if calls >= 2 and calls <= 3:\n",
    "        return 'twice to thrice '\n",
    "    if calls > 3 and calls <= 6:\n",
    "        return 'four to six times'\n",
    "    if calls >= 7 and calls <= 10:\n",
    "        return 'seven to ten times'\n",
    "    if calls > 10:\n",
    "        return 'more than ten times'\n",
    "    "
   ]
  },
  {
   "cell_type": "code",
   "execution_count": 30,
   "metadata": {},
   "outputs": [],
   "source": [
    "bdf['f.current_campaign_calls'] = bdf['campaign'].apply(lambda calls: current_campaign_calls(calls))"
   ]
  },
  {
   "cell_type": "code",
   "execution_count": 31,
   "metadata": {},
   "outputs": [],
   "source": [
    "def first_time_user_calls(previous, campaigns):\n",
    "    # first time user - not a part of previous campaign\n",
    "    # first time the user is speaking - what's the conversion rate\n",
    "    if previous == 0:\n",
    "        if campaigns == 1:\n",
    "            return 'first time called'\n",
    "        if campaigns >= 2 and campaigns <= 3:\n",
    "            return 'called atleast twice'\n",
    "        if campaigns > 3:\n",
    "            return 'called atleast thrice'\n",
    "        else:\n",
    "            return 'more than thrice'\n",
    "    else:\n",
    "        return 'returning user'"
   ]
  },
  {
   "cell_type": "code",
   "execution_count": 32,
   "metadata": {},
   "outputs": [],
   "source": [
    "bdf['f.first_time_user_calls'] = bdf.apply(lambda x: first_time_user_calls(x.previous, x.campaign), axis=1)"
   ]
  },
  {
   "cell_type": "code",
   "execution_count": 33,
   "metadata": {},
   "outputs": [],
   "source": [
    "def savings_intention(job):\n",
    "    if job in ['admin.','blue-collar','technician']:\n",
    "        return 100\n",
    "    elif job in ['retired','management','services']:\n",
    "        return 50\n",
    "    else:\n",
    "        return 25"
   ]
  },
  {
   "cell_type": "code",
   "execution_count": 34,
   "metadata": {},
   "outputs": [],
   "source": [
    "bdf['f.savings_intent_factor'] = bdf['job'].apply(lambda job: savings_intention(job))"
   ]
  },
  {
   "cell_type": "code",
   "execution_count": 35,
   "metadata": {},
   "outputs": [],
   "source": [
    "def age_range_weightage(age):\n",
    "    if age <= 24:\n",
    "        return 0.15\n",
    "    if age >=25 and age <= 69:\n",
    "        return 0.61\n",
    "    if age >= 70 and age <= 80:\n",
    "        return 0.13\n",
    "    if age > 80:\n",
    "        return 0.04"
   ]
  },
  {
   "cell_type": "code",
   "execution_count": 36,
   "metadata": {},
   "outputs": [],
   "source": [
    "bdf['f.age_range_weightage'] = bdf['age'].apply(lambda age: age_range_weightage(age))"
   ]
  },
  {
   "cell_type": "code",
   "execution_count": 37,
   "metadata": {},
   "outputs": [],
   "source": [
    "def avg_income_distribution(salary, marital):\n",
    "    if marital == 'married':\n",
    "        return round((salary/3),2)\n",
    "    if marital == 'single':\n",
    "        return salary\n",
    "    if marital == 'divorced':\n",
    "        return round((salary/2),2)\n",
    "    "
   ]
  },
  {
   "cell_type": "code",
   "execution_count": 38,
   "metadata": {},
   "outputs": [],
   "source": [
    "#bdf['f.avg_income_dist'] = bdf.apply(lambda x: avg_income_distribution(x['f.salary'], x['marital']), axis=1)"
   ]
  },
  {
   "cell_type": "code",
   "execution_count": 39,
   "metadata": {},
   "outputs": [],
   "source": [
    "def p_days_bin(pdays):\n",
    "    if pdays >=0 and pdays <=6:\n",
    "        return 'within a week'\n",
    "    if pdays >=7 and pdays <=13:\n",
    "        return 'within two weeks'\n",
    "    if pdays >= 14 and pdays <=20:\n",
    "        return 'within three weeks'\n",
    "    if pdays > 20:\n",
    "        return 'more than three weeks'"
   ]
  },
  {
   "cell_type": "code",
   "execution_count": 40,
   "metadata": {},
   "outputs": [],
   "source": [
    "bdf['f.pdays'] = bdf['pdays'].apply(lambda days: p_days_bin(days))"
   ]
  },
  {
   "cell_type": "code",
   "execution_count": 41,
   "metadata": {},
   "outputs": [],
   "source": [
    "def year_weightage(year):\n",
    "    if year == \"Y2008\":\n",
    "        return 5\n",
    "    if year == \"Y2009\":\n",
    "        return 14\n",
    "    if year == \"Y2010\":\n",
    "        return 52"
   ]
  },
  {
   "cell_type": "code",
   "execution_count": 42,
   "metadata": {},
   "outputs": [],
   "source": [
    "#bdf['f.year_weightage'] = bdf['f.year'].apply(lambda year: year_weightage(year))"
   ]
  },
  {
   "cell_type": "code",
   "execution_count": 43,
   "metadata": {},
   "outputs": [],
   "source": [
    "def recession_strength(year, month):\n",
    "    if year == \"Y2008\":\n",
    "        if month in ['mar','apr','may','jun','jul','aug','sep','oct','nov','dec']:\n",
    "            return 'peak'\n",
    "    elif year == \"Y2009\":\n",
    "        if month in ['mar','apr','may']:\n",
    "            return 'peak'\n",
    "        else:\n",
    "            return 'non-peak'\n",
    "    else:\n",
    "        return 'non-peak'\n",
    "    "
   ]
  },
  {
   "cell_type": "code",
   "execution_count": 44,
   "metadata": {},
   "outputs": [],
   "source": [
    "bdf['f.recession_strength'] = bdf.apply(lambda x: recession_strength(x['f.year'],x['month']), axis=1)"
   ]
  },
  {
   "cell_type": "code",
   "execution_count": 45,
   "metadata": {},
   "outputs": [],
   "source": [
    "# To be removed\n",
    "def week_breakup(day):\n",
    "    if day == \"mon\":\n",
    "        return 'week_start'\n",
    "    if day in ['tue','wed','thu']:\n",
    "        return 'week_mid'\n",
    "    if day in ['fri']:\n",
    "        return 'week_end'"
   ]
  },
  {
   "cell_type": "code",
   "execution_count": 46,
   "metadata": {},
   "outputs": [],
   "source": [
    "bdf['f.week_breakup'] = bdf['day_of_week'].apply(week_breakup)"
   ]
  },
  {
   "cell_type": "code",
   "execution_count": 47,
   "metadata": {},
   "outputs": [],
   "source": [
    "# to be removed\n",
    "def week_day_weightage(weekday):\n",
    "    if weekday == 'week_start':\n",
    "        return 14\n",
    "    if weekday == 'week_mid':\n",
    "        return 38\n",
    "    if weekday == 'week_end':\n",
    "        return 14"
   ]
  },
  {
   "cell_type": "code",
   "execution_count": 48,
   "metadata": {},
   "outputs": [],
   "source": [
    "#bdf['f.week_day_weightage'] = bdf['f.week_breakup'].apply(week_day_weightage)"
   ]
  },
  {
   "cell_type": "code",
   "execution_count": 49,
   "metadata": {},
   "outputs": [],
   "source": [
    "def emp_rate_change(rate):\n",
    "    if rate > 0:\n",
    "        return 'positive'\n",
    "    else:\n",
    "        return 'negative'"
   ]
  },
  {
   "cell_type": "code",
   "execution_count": 50,
   "metadata": {},
   "outputs": [],
   "source": [
    "bdf['f.emp_var_rate'] = bdf['emp.var.rate'].apply(emp_rate_change)"
   ]
  },
  {
   "cell_type": "code",
   "execution_count": 51,
   "metadata": {},
   "outputs": [],
   "source": [
    "def cons_price_bin(index):\n",
    "\tif index >=92 and index <=92.5:\n",
    "\t\treturn 'gt_92_lt_92.5'\n",
    "\tif index >92.5 and index <= 93:\n",
    "\t\treturn 'gt_925_lt_93'\n",
    "\tif index >93 and index <= 93.5:\n",
    "\t\treturn 'gt_93_lt_935'\n",
    "\tif index >93.5 and index <= 94:\n",
    "\t\treturn 'gt_935_lt_94'\n",
    "\tif index >94 and index <= 94.5:\n",
    "\t\treturn 'gt_94_lt_94.5'\n",
    "\tif index >94.5 and index <= 95:\n",
    "\t\treturn 'gt_945_lt_95'\n",
    "\tif index <92:\n",
    "\t\treturn 'lt_92'\n",
    "\tif index >95:\n",
    "\t\treturn 'gt_95'"
   ]
  },
  {
   "cell_type": "code",
   "execution_count": 52,
   "metadata": {},
   "outputs": [],
   "source": [
    "bdf['f.cons.price.bin'] = bdf['cons.price.idx'].apply(cons_price_bin)"
   ]
  },
  {
   "cell_type": "code",
   "execution_count": 53,
   "metadata": {},
   "outputs": [],
   "source": [
    "def emp_var_bin(index):\n",
    "\tif index < -3.5:\n",
    "\t\treturn 'lt_min_3.5'\n",
    "\tif index >= -3.5 and index <= -3:\n",
    "\t\treturn 'gt_min_35_lt_3'\n",
    "\tif index > -3 and index <= -2.5:\n",
    "\t\treturn 'gt_min_3_lt_25'\n",
    "\tif index >-25 and index <= -2:\n",
    "\t\treturn 'gt_min_25_lt_2'\n",
    "\tif index >-2 and index <= -1.5:\n",
    "\t\treturn 'gt_min_2_lt_15'\n",
    "\tif index >-1.5 and index <= -1:\n",
    "\t\treturn 'gt_min_15_lt_1'\n",
    "\tif index >-1 and index <= -0.5:\n",
    "\t\treturn 'gt_min_1_lt_point5'\n",
    "\tif index >-0.5 and index <= 0:\n",
    "\t\treturn 'gt_min_05_lt_0'\n",
    "\tif index >0 and index <= 0.5:\n",
    "\t\treturn 'gt_0_lt_05'\n",
    "\tif index >0.5 and index <= 1:\n",
    "\t\treturn 'gt_05_lt_05'\n",
    "\tif index > 1:\n",
    "\t\treturn 'gt_1'"
   ]
  },
  {
   "cell_type": "code",
   "execution_count": 54,
   "metadata": {},
   "outputs": [],
   "source": [
    "bdf['f.emp.var.bin'] = bdf['emp.var.rate'].apply(emp_var_bin)"
   ]
  },
  {
   "cell_type": "code",
   "execution_count": 55,
   "metadata": {},
   "outputs": [],
   "source": [
    "def cons_conf_bin(index):\n",
    "\tif index < -51:\n",
    "\t\treturn 'lt_51'\n",
    "\tif index >= -51 and index <= -46:\n",
    "\t\treturn 'gt_51_lt_46'\n",
    "\tif index > -46 and index <= -41:\n",
    "\t\treturn 'gt_46_lt_41'\n",
    "\tif index > -41 and index <= -36:\n",
    "\t\treturn 'gt_41_lt_36'\n",
    "\tif index > -36 and index <= -31:\n",
    "\t\treturn 'gt_36_lt_31'\n",
    "\tif index > -31 and index <= -26:\n",
    "\t\treturn 'gt_31_lt_26'\n",
    "\tif index > -26:\n",
    "\t\treturn 'gt_26'"
   ]
  },
  {
   "cell_type": "code",
   "execution_count": 56,
   "metadata": {},
   "outputs": [],
   "source": [
    "bdf['f.cons.conf.bin'] = bdf['cons.conf.idx'].apply(cons_conf_bin)"
   ]
  },
  {
   "cell_type": "code",
   "execution_count": 57,
   "metadata": {},
   "outputs": [],
   "source": [
    "def buy_prob_user_job(user_type, job):\n",
    "    if user_type == \"existing user\":\n",
    "        if job in ['admin.','housemaid','management','retired','student','technician','unemployed']:\n",
    "            return 'high'\n",
    "        else:\n",
    "            return 'low'\n",
    "    else:\n",
    "        return 'low'"
   ]
  },
  {
   "cell_type": "code",
   "execution_count": 58,
   "metadata": {},
   "outputs": [],
   "source": [
    "#bdf['f.userjob_buy.prob'] = bdf.apply(lambda x: buy_prob_user_job(x['f.user_type'], x['job']), axis=1)"
   ]
  },
  {
   "cell_type": "code",
   "execution_count": 59,
   "metadata": {},
   "outputs": [],
   "source": [
    "def salaried_or_not(job):\n",
    "    if job in ['admin.','blue-collar', 'housemaid','management','services','retired','technician']:\n",
    "        return 'salaried'\n",
    "    else:\n",
    "        return 'not salaried'"
   ]
  },
  {
   "cell_type": "code",
   "execution_count": 60,
   "metadata": {},
   "outputs": [],
   "source": [
    "bdf['f.sal_or_not'] = bdf['job'].apply(salaried_or_not)"
   ]
  },
  {
   "cell_type": "code",
   "execution_count": 61,
   "metadata": {},
   "outputs": [],
   "source": [
    "def quarter(month):\n",
    "    if month in ['apr','may','jun']:\n",
    "        return 'Q1'\n",
    "    if month in ['jul','aug','sep']:\n",
    "        return 'Q2'\n",
    "    if month in ['oct','nov','dec']:\n",
    "        return 'Q3'\n",
    "    if month in ['jan','feb','mar']:\n",
    "        return 'Q4'"
   ]
  },
  {
   "cell_type": "code",
   "execution_count": 62,
   "metadata": {},
   "outputs": [],
   "source": [
    "bdf['f.quarter'] = bdf['month'].apply(quarter)"
   ]
  },
  {
   "cell_type": "code",
   "execution_count": 63,
   "metadata": {},
   "outputs": [],
   "source": [
    "def into_loans(housing, personal):\n",
    "    if housing == 'no' and personal == \"no\":\n",
    "        return 'not_into_loans'\n",
    "    else:\n",
    "        return 'into_loans'"
   ]
  },
  {
   "cell_type": "code",
   "execution_count": 64,
   "metadata": {},
   "outputs": [],
   "source": [
    "bdf['f.into_loans'] = bdf.apply(lambda x: into_loans(x.housing, x.loan), axis=1)"
   ]
  },
  {
   "cell_type": "code",
   "execution_count": 65,
   "metadata": {},
   "outputs": [],
   "source": [
    "base_sal = {\n",
    "    'housemaid' : 500,\n",
    "    'services' : 700,\n",
    "    'admin.' : 600,\n",
    "    'blue-collar' : 500,\n",
    "    'technician' : 600,\n",
    "    'retired' : 500,\n",
    "    'management' : 1600,\n",
    "    'unemployed' : 400,\n",
    "    'self-employed' : 800,\n",
    "    'entrepreneur' : 1200,\n",
    "    'student' : 400\n",
    "}"
   ]
  },
  {
   "cell_type": "code",
   "execution_count": 66,
   "metadata": {},
   "outputs": [],
   "source": [
    "edu_sal = {\n",
    "    'basic.4y' : 1,\n",
    "    'high.school' : 1.6,\n",
    "    'basic.6y' : 1.2,\n",
    "    'basic.9y' : 1.4,\n",
    "    'professional.course' : 1.6,\n",
    "    'university.degree' : 2,\n",
    "    'illiterate' : 1\n",
    "}"
   ]
  },
  {
   "cell_type": "code",
   "execution_count": 67,
   "metadata": {},
   "outputs": [],
   "source": [
    "def salary_job_education(job, education):\n",
    "    job_base_sal = base_sal[job]\n",
    "    edu_factor = edu_sal[education]\n",
    "    if job in ['retired','unemployed','self-employed','entrepreneur']:\n",
    "        sal = job_base_sal * edu_factor * 12\n",
    "    else:\n",
    "        sal = job_base_sal * edu_factor * 14\n",
    "    return sal"
   ]
  },
  {
   "cell_type": "code",
   "execution_count": 68,
   "metadata": {},
   "outputs": [],
   "source": [
    "bdf['f.income'] = bdf.apply(lambda x: salary_job_education(x.job, x.education), axis=1)"
   ]
  },
  {
   "cell_type": "code",
   "execution_count": 69,
   "metadata": {},
   "outputs": [],
   "source": [
    "def income_tax(salary):\n",
    "    if salary >=0 and salary <=7112:\n",
    "        return 14.5\n",
    "    if salary >=7113 and salary <=10732:\n",
    "        return 23\n",
    "    if salary >=10733 and salary <=20322:\n",
    "        return 28.5\n",
    "    if salary >=20323 and salary <=25075:\n",
    "        return 35\n",
    "    if salary >=25076 and salary <=36967:\n",
    "        return 37\n",
    "    if salary >=36968:\n",
    "        return 45"
   ]
  },
  {
   "cell_type": "code",
   "execution_count": 70,
   "metadata": {},
   "outputs": [],
   "source": [
    "bdf['f.income_tax'] = bdf['f.income'].apply(lambda salary: income_tax(salary))"
   ]
  },
  {
   "cell_type": "code",
   "execution_count": 71,
   "metadata": {},
   "outputs": [],
   "source": [
    "def econ_status(income):\n",
    "    if income <= 7800:\n",
    "        return 'lower class'\n",
    "    if income >7800 and income <= 26400:\n",
    "        return 'middle class'\n",
    "    if income > 26400:\n",
    "        return 'upper class'"
   ]
  },
  {
   "cell_type": "code",
   "execution_count": 72,
   "metadata": {},
   "outputs": [],
   "source": [
    "bdf['f.econ_status'] = bdf['f.income'].apply(econ_status)"
   ]
  },
  {
   "cell_type": "code",
   "execution_count": 73,
   "metadata": {},
   "outputs": [],
   "source": [
    "def buy_prob_status_marital(marital_status):\n",
    "    if marital_status in ['married','single']:\n",
    "        return 'high'\n",
    "    else:\n",
    "        return 'low'"
   ]
  },
  {
   "cell_type": "code",
   "execution_count": 74,
   "metadata": {},
   "outputs": [],
   "source": [
    "bdf['f.user.buy.prob'] = bdf['marital'].apply(buy_prob_status_marital)"
   ]
  },
  {
   "cell_type": "code",
   "execution_count": 75,
   "metadata": {},
   "outputs": [],
   "source": [
    "def bailout_period(year):\n",
    "    if year == \"Y2010\":\n",
    "        return \"bailout\"\n",
    "    else:\n",
    "        return \"non-bailout\""
   ]
  },
  {
   "cell_type": "code",
   "execution_count": 76,
   "metadata": {},
   "outputs": [],
   "source": [
    "#bdf['f.bailout_status'] = bdf['f.year'].apply(bailout_period)"
   ]
  },
  {
   "cell_type": "code",
   "execution_count": 77,
   "metadata": {},
   "outputs": [],
   "source": [
    "def education_level(education):\n",
    "    if education in ['illiterate','basic.4y','basic.6y','basic.9y']:\n",
    "        return 'basic-education'\n",
    "    if education in ['high.school','professional.course']:\n",
    "        return 'medium-education'\n",
    "    if education in ['university.degree']:\n",
    "        return 'high-education'"
   ]
  },
  {
   "cell_type": "code",
   "execution_count": 78,
   "metadata": {},
   "outputs": [],
   "source": [
    "bdf['f.education'] = bdf['education'].apply(education_level)"
   ]
  },
  {
   "cell_type": "code",
   "execution_count": 79,
   "metadata": {},
   "outputs": [],
   "source": [
    "def age_to_retirement(age):\n",
    "    if age < 65:\n",
    "        return 65 - age\n",
    "    else:\n",
    "        return 0"
   ]
  },
  {
   "cell_type": "code",
   "execution_count": 80,
   "metadata": {},
   "outputs": [],
   "source": [
    "bdf['f.age_to_retire'] = bdf['age'].apply(age_to_retirement)"
   ]
  },
  {
   "cell_type": "code",
   "execution_count": 81,
   "metadata": {},
   "outputs": [],
   "source": [
    "def age_range_to_retire(diff_age):\n",
    "    if diff_age == 0:\n",
    "        return 0\n",
    "    if diff_age >=1 and diff_age <=5:\n",
    "        return 0.3\n",
    "    if diff_age >=6 and diff_age <=35:\n",
    "        return 0.1\n",
    "    if diff_age >= 36 and diff_age <= 40:\n",
    "        return 0.14\n",
    "    if diff_age >= 41 and diff_age <= 45:\n",
    "        return 0.22\n",
    "    if diff_age >= 46:\n",
    "        return 0.45"
   ]
  },
  {
   "cell_type": "code",
   "execution_count": 82,
   "metadata": {},
   "outputs": [],
   "source": [
    "bdf['f.age_to_retire_weight'] = bdf['f.age_to_retire'].apply(age_range_to_retire)"
   ]
  },
  {
   "cell_type": "code",
   "execution_count": 83,
   "metadata": {},
   "outputs": [],
   "source": [
    "def age_to_eol(age):\n",
    "    if age < 80:\n",
    "        return 80 - age\n",
    "    else:\n",
    "        return 0"
   ]
  },
  {
   "cell_type": "code",
   "execution_count": 84,
   "metadata": {},
   "outputs": [],
   "source": [
    "bdf['f.age_to_death'] = bdf['age'].apply(age_to_eol)"
   ]
  },
  {
   "cell_type": "code",
   "execution_count": 85,
   "metadata": {},
   "outputs": [],
   "source": [
    "def age_range_to_death(diff_age):\n",
    "    if diff_age >=0 and diff_age <= 19:\n",
    "        return '0_to_19'\n",
    "    if diff_age >=20 and diff_age <= 39:\n",
    "        return '20_to_39'\n",
    "    if diff_age >=40 and diff_age <=59:\n",
    "        return '40_to_59'\n",
    "    if diff_age >=60:\n",
    "        return '60_to_'"
   ]
  },
  {
   "cell_type": "code",
   "execution_count": 86,
   "metadata": {},
   "outputs": [],
   "source": [
    "bdf['f.remaining_age'] = bdf['f.age_to_death'].apply(age_range_to_death)"
   ]
  },
  {
   "cell_type": "code",
   "execution_count": 87,
   "metadata": {},
   "outputs": [],
   "source": [
    "def unemployment_rate(recession_strength, age_range, salaried):\n",
    "    if recession_strength == \"peak\":\n",
    "        if age_range in ['21_to_30','31_to_40']:\n",
    "            return -30\n",
    "        else:\n",
    "            return -8\n",
    "    else:\n",
    "        return -10"
   ]
  },
  {
   "cell_type": "code",
   "execution_count": 88,
   "metadata": {},
   "outputs": [],
   "source": [
    "bdf['f.unemployment'] = bdf.apply(lambda x: unemployment_rate(x['f.recession_strength'],x['f.age'],x['f.sal_or_not']), axis=1)"
   ]
  },
  {
   "cell_type": "markdown",
   "metadata": {},
   "source": [
    "### Feature Analysis"
   ]
  },
  {
   "cell_type": "code",
   "execution_count": 89,
   "metadata": {},
   "outputs": [],
   "source": [
    "dropped_columns= ['s.no', 'age','nr.employed','default','pdays', 'emp.var.rate', 'euribor3m',\n",
    "                  'campaign','cons.price.idx','cons.conf.idx', 'f.quarter','f.income_tax','f.age_to_death', 'f.sal_or_not',\n",
    "                  'f.age_to_retire', 'f.unemployment', 'f.income','f.interest_rate','f.age','f.pattern','f.user.buy.prob',\n",
    "                  'f.econ_status','f.remaining_age','f.education','f.seasons','f.bonus_months',\n",
    "    \n",
    "                 ]\n",
    "categorical_columns=['job','marital','housing','loan','education','contact','month','day_of_week',\n",
    "                     'poutcome','f.euribor','f.age_group', 'f.commitment','f.week_breakup',\n",
    "                    'f.retired_status', 'f.user_type','f.previous_campaigns','f.current_campaign_calls',\n",
    "                     'f.first_time_user_calls','f.pdays', 'f.emp_var_rate','f.year','f.cons.price.bin',\n",
    "                     'f.emp.var.bin','f.cons.conf.bin','f.recession_strength',\n",
    "                     'f.into_loans'\n",
    "                    ]"
   ]
  },
  {
   "cell_type": "code",
   "execution_count": 90,
   "metadata": {},
   "outputs": [],
   "source": [
    "# drop the columns\n",
    "bdf.drop(dropped_columns, axis=1, inplace=True)"
   ]
  },
  {
   "cell_type": "code",
   "execution_count": 91,
   "metadata": {},
   "outputs": [],
   "source": [
    "#convert columns of object type to categorical columns\n",
    "bdf_cat = bdf[categorical_columns].astype('category')"
   ]
  },
  {
   "cell_type": "code",
   "execution_count": 92,
   "metadata": {},
   "outputs": [],
   "source": [
    "bdf[categorical_columns] = bdf[categorical_columns].astype('category')"
   ]
  },
  {
   "cell_type": "code",
   "execution_count": 93,
   "metadata": {
    "scrolled": true
   },
   "outputs": [],
   "source": [
    "# drop bdf categorical columns from the dataframe\n",
    "bdf_noncat = bdf.drop(categorical_columns,axis=1)"
   ]
  },
  {
   "cell_type": "code",
   "execution_count": 94,
   "metadata": {},
   "outputs": [
    {
     "data": {
      "text/plain": [
       "Index(['previous', 'y', 'f.festivals', 'f.savings_intent_factor',\n",
       "       'f.age_range_weightage', 'f.age_to_retire_weight'],\n",
       "      dtype='object')"
      ]
     },
     "execution_count": 94,
     "metadata": {},
     "output_type": "execute_result"
    }
   ],
   "source": [
    "bdf_noncat.columns"
   ]
  },
  {
   "cell_type": "code",
   "execution_count": 95,
   "metadata": {},
   "outputs": [],
   "source": [
    "bdf.to_csv('testv6.csv')"
   ]
  },
  {
   "cell_type": "code",
   "execution_count": 96,
   "metadata": {},
   "outputs": [
    {
     "data": {
      "text/html": [
       "<div>\n",
       "<style scoped>\n",
       "    .dataframe tbody tr th:only-of-type {\n",
       "        vertical-align: middle;\n",
       "    }\n",
       "\n",
       "    .dataframe tbody tr th {\n",
       "        vertical-align: top;\n",
       "    }\n",
       "\n",
       "    .dataframe thead th {\n",
       "        text-align: right;\n",
       "    }\n",
       "</style>\n",
       "<table border=\"1\" class=\"dataframe\">\n",
       "  <thead>\n",
       "    <tr style=\"text-align: right;\">\n",
       "      <th></th>\n",
       "      <th>previous</th>\n",
       "      <th>f.festivals</th>\n",
       "      <th>f.savings_intent_factor</th>\n",
       "      <th>f.age_range_weightage</th>\n",
       "      <th>f.age_to_retire_weight</th>\n",
       "    </tr>\n",
       "  </thead>\n",
       "  <tbody>\n",
       "    <tr>\n",
       "      <th>previous</th>\n",
       "      <td>1.000000</td>\n",
       "      <td>-0.000189</td>\n",
       "      <td>-0.044558</td>\n",
       "      <td>-0.118393</td>\n",
       "      <td>0.048344</td>\n",
       "    </tr>\n",
       "    <tr>\n",
       "      <th>f.festivals</th>\n",
       "      <td>-0.000189</td>\n",
       "      <td>1.000000</td>\n",
       "      <td>-0.025942</td>\n",
       "      <td>-0.020965</td>\n",
       "      <td>0.018492</td>\n",
       "    </tr>\n",
       "    <tr>\n",
       "      <th>f.savings_intent_factor</th>\n",
       "      <td>-0.044558</td>\n",
       "      <td>-0.025942</td>\n",
       "      <td>1.000000</td>\n",
       "      <td>0.139925</td>\n",
       "      <td>-0.058298</td>\n",
       "    </tr>\n",
       "    <tr>\n",
       "      <th>f.age_range_weightage</th>\n",
       "      <td>-0.118393</td>\n",
       "      <td>-0.020965</td>\n",
       "      <td>0.139925</td>\n",
       "      <td>1.000000</td>\n",
       "      <td>-0.271152</td>\n",
       "    </tr>\n",
       "    <tr>\n",
       "      <th>f.age_to_retire_weight</th>\n",
       "      <td>0.048344</td>\n",
       "      <td>0.018492</td>\n",
       "      <td>-0.058298</td>\n",
       "      <td>-0.271152</td>\n",
       "      <td>1.000000</td>\n",
       "    </tr>\n",
       "  </tbody>\n",
       "</table>\n",
       "</div>"
      ],
      "text/plain": [
       "                         previous  f.festivals  f.savings_intent_factor  \\\n",
       "previous                 1.000000    -0.000189                -0.044558   \n",
       "f.festivals             -0.000189     1.000000                -0.025942   \n",
       "f.savings_intent_factor -0.044558    -0.025942                 1.000000   \n",
       "f.age_range_weightage   -0.118393    -0.020965                 0.139925   \n",
       "f.age_to_retire_weight   0.048344     0.018492                -0.058298   \n",
       "\n",
       "                         f.age_range_weightage  f.age_to_retire_weight  \n",
       "previous                             -0.118393                0.048344  \n",
       "f.festivals                          -0.020965                0.018492  \n",
       "f.savings_intent_factor               0.139925               -0.058298  \n",
       "f.age_range_weightage                 1.000000               -0.271152  \n",
       "f.age_to_retire_weight               -0.271152                1.000000  "
      ]
     },
     "execution_count": 96,
     "metadata": {},
     "output_type": "execute_result"
    }
   ],
   "source": [
    "bdf.corr()"
   ]
  },
  {
   "cell_type": "code",
   "execution_count": 97,
   "metadata": {},
   "outputs": [],
   "source": [
    "# use one hot encoding for categorical columns\n",
    "bdf_cat_one_hot = pd.get_dummies(bdf_cat)"
   ]
  },
  {
   "cell_type": "code",
   "execution_count": 98,
   "metadata": {},
   "outputs": [
    {
     "data": {
      "text/plain": [
       "(41188, 126)"
      ]
     },
     "execution_count": 98,
     "metadata": {},
     "output_type": "execute_result"
    }
   ],
   "source": [
    "bdf_cat_one_hot.shape"
   ]
  },
  {
   "cell_type": "code",
   "execution_count": 99,
   "metadata": {},
   "outputs": [],
   "source": [
    "#concat categorical df with non categorical df\n",
    "bdf_master = pd.concat([bdf_noncat, bdf_cat_one_hot], axis=1)"
   ]
  },
  {
   "cell_type": "code",
   "execution_count": 100,
   "metadata": {},
   "outputs": [],
   "source": [
    "# store only the target variable column\n",
    "y = bdf_master.pop('y')"
   ]
  },
  {
   "cell_type": "code",
   "execution_count": 101,
   "metadata": {},
   "outputs": [],
   "source": [
    "# remove the target variable column from the master dataset\n",
    "X = bdf_master"
   ]
  },
  {
   "cell_type": "code",
   "execution_count": 102,
   "metadata": {},
   "outputs": [],
   "source": [
    "sm = SMOTE()"
   ]
  },
  {
   "cell_type": "code",
   "execution_count": 103,
   "metadata": {},
   "outputs": [],
   "source": [
    "X_train, X_test, y_train, y_test = train_test_split(\n",
    "    X, y, test_size=test_size, random_state=101)"
   ]
  },
  {
   "cell_type": "code",
   "execution_count": 104,
   "metadata": {},
   "outputs": [],
   "source": [
    "X_train_sm, y_train_sm = sm.fit_sample(X_train, y_train)"
   ]
  },
  {
   "cell_type": "code",
   "execution_count": 105,
   "metadata": {},
   "outputs": [
    {
     "data": {
      "text/plain": [
       "(24712, 131)"
      ]
     },
     "execution_count": 105,
     "metadata": {},
     "output_type": "execute_result"
    }
   ],
   "source": [
    "X_train.shape"
   ]
  },
  {
   "cell_type": "code",
   "execution_count": 106,
   "metadata": {},
   "outputs": [
    {
     "data": {
      "text/plain": [
       "(43804, 131)"
      ]
     },
     "execution_count": 106,
     "metadata": {},
     "output_type": "execute_result"
    }
   ],
   "source": [
    "X_train_sm.shape"
   ]
  },
  {
   "cell_type": "code",
   "execution_count": 107,
   "metadata": {},
   "outputs": [],
   "source": [
    "# the propotion of yes and no looks the same"
   ]
  },
  {
   "cell_type": "markdown",
   "metadata": {},
   "source": [
    "### Visualizing classification report"
   ]
  },
  {
   "cell_type": "code",
   "execution_count": 108,
   "metadata": {},
   "outputs": [],
   "source": [
    "def show_classification_rpt(model):\n",
    "    visualizer = ClassificationReport(model, classes=['no','yes'], cmap=\"YlGn\", size=(600,300))\n",
    "    visualizer.fit(X_train, y_train)\n",
    "    visualizer.score(X_test, y_test)\n",
    "    visualizer.show()"
   ]
  },
  {
   "cell_type": "markdown",
   "metadata": {},
   "source": [
    "# Model Building"
   ]
  },
  {
   "cell_type": "code",
   "execution_count": 109,
   "metadata": {},
   "outputs": [],
   "source": [
    "# function that fits and predicts\n",
    "def fit_predict(algo,X_train, X_test, y_train, y_test):\n",
    "    algo.fit(X_train, y_train)\n",
    "    y_pred = algo.predict(X_test)\n",
    "    return y_pred"
   ]
  },
  {
   "cell_type": "markdown",
   "metadata": {},
   "source": [
    "## Logistic Regression"
   ]
  },
  {
   "cell_type": "code",
   "execution_count": 110,
   "metadata": {},
   "outputs": [],
   "source": [
    "logit = LogisticRegression()"
   ]
  },
  {
   "cell_type": "code",
   "execution_count": 111,
   "metadata": {},
   "outputs": [
    {
     "name": "stdout",
     "output_type": "stream",
     "text": [
      "Accuracy with Logistic Regression: 0.889900461277009\n"
     ]
    }
   ],
   "source": [
    "print(\"Accuracy with Logistic Regression\", end=': ')\n",
    "y_pred_logit = fit_predict(logit, X_train_sm, X_test, y_train_sm, y_test)\n",
    "logit_accuracy = accuracy_score(y_test, y_pred_logit)\n",
    "print(logit_accuracy)"
   ]
  },
  {
   "cell_type": "code",
   "execution_count": 112,
   "metadata": {},
   "outputs": [
    {
     "data": {
      "image/png": "[encoded data removed]",
      "text/plain": [
       "<Figure size 600x300 with 2 Axes>"
      ]
     },
     "metadata": {},
     "output_type": "display_data"
    }
   ],
   "source": [
    "show_classification_rpt(logit)"
   ]
  },
  {
   "cell_type": "code",
   "execution_count": 113,
   "metadata": {},
   "outputs": [
    {
     "name": "stdout",
     "output_type": "stream",
     "text": [
      "              precision    recall  f1-score   support\n",
      "\n",
      "          no       0.91      0.97      0.94     14646\n",
      "         yes       0.51      0.27      0.35      1830\n",
      "\n",
      "    accuracy                           0.89     16476\n",
      "   macro avg       0.71      0.62      0.64     16476\n",
      "weighted avg       0.87      0.89      0.87     16476\n",
      "\n"
     ]
    }
   ],
   "source": [
    "print(classification_report(y_test, y_pred_logit))"
   ]
  },
  {
   "cell_type": "code",
   "execution_count": 114,
   "metadata": {},
   "outputs": [
    {
     "name": "stdout",
     "output_type": "stream",
     "text": [
      "Confusion Matrix:\n",
      "[[14175   471]\n",
      " [ 1343   487]]\n"
     ]
    }
   ],
   "source": [
    "print(\"Confusion Matrix:\")\n",
    "print(confusion_matrix(y_test,y_pred_logit))"
   ]
  },
  {
   "cell_type": "markdown",
   "metadata": {},
   "source": [
    "## Decision Tree"
   ]
  },
  {
   "cell_type": "code",
   "execution_count": 115,
   "metadata": {},
   "outputs": [],
   "source": [
    "tree = DecisionTreeClassifier(random_state=rand_state)"
   ]
  },
  {
   "cell_type": "code",
   "execution_count": 116,
   "metadata": {},
   "outputs": [
    {
     "name": "stdout",
     "output_type": "stream",
     "text": [
      "Accuracy with Decision Tree: 0.8454722019907744\n"
     ]
    }
   ],
   "source": [
    "print(\"Accuracy with Decision Tree\", end=': ')\n",
    "y_pred_tree = fit_predict(tree, X_train_sm, X_test, y_train_sm, y_test)\n",
    "tree_accuracy = accuracy_score(y_test, y_pred_tree)\n",
    "print(tree_accuracy)"
   ]
  },
  {
   "cell_type": "code",
   "execution_count": 117,
   "metadata": {},
   "outputs": [
    {
     "data": {
      "image/png": "[encoded data removed]",
      "text/plain": [
       "<Figure size 600x300 with 2 Axes>"
      ]
     },
     "metadata": {},
     "output_type": "display_data"
    }
   ],
   "source": [
    "show_classification_rpt(tree)"
   ]
  },
  {
   "cell_type": "code",
   "execution_count": 118,
   "metadata": {},
   "outputs": [
    {
     "name": "stdout",
     "output_type": "stream",
     "text": [
      "Confusion Matrix:\n",
      "[[13330  1316]\n",
      " [ 1230   600]]\n"
     ]
    }
   ],
   "source": [
    "print(\"Confusion Matrix:\")\n",
    "print(confusion_matrix(y_test,y_pred_tree))"
   ]
  },
  {
   "cell_type": "markdown",
   "metadata": {},
   "source": [
    "### Hyper Parameter Tuning"
   ]
  },
  {
   "cell_type": "code",
   "execution_count": 119,
   "metadata": {},
   "outputs": [],
   "source": [
    "def fit_predict_dt(train, test, y_train, y_test, scaler, max_depth,\n",
    "               criterion = 'entropy', max_features=1, min_samples_split=4):\n",
    "    train_scaled = scaler.fit_transform(train)\n",
    "    test_scaled = scaler.transform(test)\n",
    "    dt = DecisionTreeClassifier(criterion = criterion, max_depth=max_depth,\n",
    "                               random_state= 101, max_features=max_features,\n",
    "                               min_samples_split=min_samples_split)\n",
    "    dt.fit(train_scaled, y_train)\n",
    "    y_pred = dt.predict(test_scaled)\n",
    "    return y_pred"
   ]
  },
  {
   "cell_type": "markdown",
   "metadata": {},
   "source": [
    "### Max depth parameter tuning"
   ]
  },
  {
   "cell_type": "code",
   "execution_count": 120,
   "metadata": {},
   "outputs": [],
   "source": [
    "list_max_depth = []"
   ]
  },
  {
   "cell_type": "code",
   "execution_count": 121,
   "metadata": {},
   "outputs": [
    {
     "name": "stdout",
     "output_type": "stream",
     "text": [
      "Accuracy score using max_depth =  5:0.8747875697984948\n",
      "Accuracy score using max_depth =  6:0.8747875697984948\n",
      "Accuracy score using max_depth =  7:0.8747268754552076\n",
      "Accuracy score using max_depth =  8:0.8174314153920854\n",
      "Accuracy score using max_depth =  9:0.817006554989075\n",
      "Accuracy score using max_depth =  10:0.8017115804806992\n",
      "Accuracy score using max_depth =  11:0.8395848506919155\n",
      "Accuracy score using max_depth =  12:0.7470259771789269\n",
      "Accuracy score using max_depth =  13:0.8114226754066521\n",
      "Accuracy score using max_depth =  14:0.8086307356154406\n",
      "Accuracy score using max_depth =  15:0.7997086671522214\n",
      "Accuracy score using max_depth =  16:0.825260985676135\n",
      "Accuracy score using max_depth =  17:0.825260985676135\n",
      "Accuracy score using max_depth =  18:0.7519422189851905\n",
      "Accuracy score using max_depth =  19:0.7966739499878611\n",
      "Accuracy score using max_depth =  20:0.7917577081815975\n",
      "Accuracy score using max_depth =  21:0.7844136926438456\n",
      "Accuracy score using max_depth =  22:0.7894513231366836\n",
      "Accuracy score using max_depth =  23:0.7730638504491382\n",
      "Accuracy score using max_depth =  24:0.7913935421218743\n",
      "Accuracy score using max_depth =  25:0.7903010439427045\n",
      "Accuracy score using max_depth =  26:0.8044428259286235\n",
      "Accuracy score using max_depth =  27:0.7947317310026706\n",
      "Accuracy score using max_depth =  28:0.7931536780772032\n",
      "Accuracy score using max_depth =  29:0.8106943432872057\n",
      "Accuracy score using max_depth =  30:0.8173707210487983\n",
      "Accuracy score using max_depth =  31:0.821437242049041\n",
      "Accuracy score using max_depth =  32:0.8224690458849235\n",
      "Accuracy score using max_depth =  33:0.8210123816460306\n",
      "Accuracy score using max_depth =  34:0.8296309783928137\n",
      "Accuracy score using max_depth =  35:0.8282957028404953\n",
      "Accuracy score using max_depth =  36:0.8304200048555475\n",
      "Accuracy score using max_depth =  37:0.8372784656470017\n",
      "Accuracy score using max_depth =  38:0.8405559601845108\n",
      "Accuracy score using max_depth =  39:0.8348506919155134\n",
      "Accuracy score using max_depth =  40:0.8301165331391115\n",
      "Accuracy score using max_depth =  41:0.8398276280650644\n",
      "Accuracy score using max_depth =  42:0.8380674921097354\n",
      "Accuracy score using max_depth =  43:0.8417091527069677\n",
      "Accuracy score using max_depth =  44:0.83709638261714\n",
      "Accuracy score using max_depth =  45:0.834425831512503\n",
      "Accuracy score using max_depth =  46:0.8334547220199078\n",
      "Accuracy score using max_depth =  47:0.8397062393784899\n",
      "Accuracy score using max_depth =  48:0.8397062393784899\n",
      "Accuracy score using max_depth =  49:0.8397062393784899\n",
      "1\n"
     ]
    }
   ],
   "source": [
    "for i in range(5,50):\n",
    "    print(\"Accuracy score using max_depth = \", i, end = ':')\n",
    "    y_pred_tree_hpt = fit_predict_dt(X_train_sm, X_test, y_train_sm, y_test, StandardScaler(), i)\n",
    "    dt_max_depth = accuracy_score(y_test, y_pred_tree_hpt)\n",
    "    print(dt_max_depth)\n",
    "    list_max_depth.append(dt_max_depth)\n",
    "    \n",
    "max_depth_tuned = list_max_depth.index(max(list_max_depth))+1\n",
    "print(max_depth_tuned)"
   ]
  },
  {
   "cell_type": "markdown",
   "metadata": {},
   "source": [
    "### Max features tuning"
   ]
  },
  {
   "cell_type": "code",
   "execution_count": 122,
   "metadata": {},
   "outputs": [],
   "source": [
    "dict_max_features = {}"
   ]
  },
  {
   "cell_type": "code",
   "execution_count": 123,
   "metadata": {},
   "outputs": [
    {
     "name": "stdout",
     "output_type": "stream",
     "text": [
      "Accuracy score using max features = 0.1:0.8742413207089099\n",
      "Accuracy score using max features = 0.2:0.8742413207089099\n",
      "Accuracy score using max features = 0.30000000000000004:0.8742413207089099\n",
      "Accuracy score using max features = 0.4:0.8742413207089099\n",
      "Accuracy score using max features = 0.5:0.8742413207089099\n",
      "Accuracy score using max features = 0.6:0.8742413207089099\n",
      "Accuracy score using max features = 0.7000000000000001:0.8742413207089099\n",
      "Accuracy score using max features = 0.8:0.8742413207089099\n",
      "Accuracy score using max features = 0.9:0.8742413207089099\n",
      "0.1\n"
     ]
    }
   ],
   "source": [
    "for i in np.arange(0.1,1.0,0.1):\n",
    "    print('Accuracy score using max features =', i, end = \":\")\n",
    "    y_pred_max_features = fit_predict_dt(X_train_sm, X_test, y_train_sm, y_test, StandardScaler(), max_depth=max_depth_tuned, max_features=i)\n",
    "    dt_max_features = accuracy_score(y_test, y_pred_max_features)\n",
    "    print(dt_max_features)\n",
    "    dict_max_features[i]=dt_max_features\n",
    "\n",
    "max_feature_tuned = max(dict_max_features, key=dict_max_features.get)\n",
    "print(max_feature_tuned)"
   ]
  },
  {
   "cell_type": "markdown",
   "metadata": {},
   "source": [
    "### Min samples split tuning"
   ]
  },
  {
   "cell_type": "code",
   "execution_count": 124,
   "metadata": {},
   "outputs": [],
   "source": [
    "dict_min_samples_split = {}"
   ]
  },
  {
   "cell_type": "code",
   "execution_count": 125,
   "metadata": {},
   "outputs": [
    {
     "name": "stdout",
     "output_type": "stream",
     "text": [
      "Accuracy score using min samples split= 2:0.8742413207089099\n",
      "Accuracy score using min samples split= 3:0.8742413207089099\n",
      "Accuracy score using min samples split= 4:0.8742413207089099\n",
      "Accuracy score using min samples split= 5:0.8742413207089099\n",
      "Accuracy score using min samples split= 6:0.8742413207089099\n",
      "Accuracy score using min samples split= 7:0.8742413207089099\n",
      "Accuracy score using min samples split= 8:0.8742413207089099\n",
      "Accuracy score using min samples split= 9:0.8742413207089099\n",
      "2\n"
     ]
    }
   ],
   "source": [
    "for i in range(2,10):\n",
    "    print('Accuracy score using min samples split=', i, end=\":\")\n",
    "    y_pred_min_split = fit_predict_dt(X_train_sm, X_test, y_train_sm, y_test, StandardScaler(), max_depth=max_depth_tuned, max_features=max_feature_tuned, min_samples_split=i)\n",
    "    dt_min_sample_split = accuracy_score(y_test, y_pred_min_split)\n",
    "    print(dt_min_sample_split)\n",
    "    dict_min_samples_split[i] = dt_min_sample_split\n",
    "    \n",
    "min_sample_split_tuned = max(dict_min_samples_split, key=dict_min_samples_split.get)\n",
    "print(min_sample_split_tuned)"
   ]
  },
  {
   "cell_type": "markdown",
   "metadata": {},
   "source": [
    "### Criterion tuning"
   ]
  },
  {
   "cell_type": "code",
   "execution_count": 126,
   "metadata": {},
   "outputs": [],
   "source": [
    "dict_index_tuned = {}"
   ]
  },
  {
   "cell_type": "code",
   "execution_count": 127,
   "metadata": {},
   "outputs": [
    {
     "name": "stdout",
     "output_type": "stream",
     "text": [
      "Accuracy score using criterion:  gini:0.8742413207089099\n",
      "Accuracy score using criterion:  entropy:0.8742413207089099\n",
      "gini\n"
     ]
    }
   ],
   "source": [
    "for i in ['gini','entropy']:\n",
    "    print(\"Accuracy score using criterion: \", i, end = ':')\n",
    "    y_pred_index_score = fit_predict_dt(X_train_sm, X_test, y_train_sm, y_test, StandardScaler(), max_depth=max_depth_tuned, max_features = max_feature_tuned, min_samples_split=min_sample_split_tuned, criterion= i)\n",
    "    dt_index_score = accuracy_score(y_test, y_pred_index_score)\n",
    "    print(dt_index_score)\n",
    "    dict_index_tuned[i] = dt_index_score\n",
    "\n",
    "dt_index_tuned = max(dict_index_tuned, key=dict_index_tuned.get)\n",
    "print(dt_index_tuned)"
   ]
  },
  {
   "cell_type": "markdown",
   "metadata": {},
   "source": [
    "### Rerunning decision tree with best parameters"
   ]
  },
  {
   "cell_type": "code",
   "execution_count": 128,
   "metadata": {},
   "outputs": [
    {
     "name": "stdout",
     "output_type": "stream",
     "text": [
      "Accuracy score for decision tree using best param: :0.8742413207089099\n"
     ]
    }
   ],
   "source": [
    "tree_best_pred  =  fit_predict_dt(X_train_sm, X_test, y_train_sm, y_test, StandardScaler(), max_depth=max_depth_tuned, max_features = max_feature_tuned, min_samples_split=min_sample_split_tuned, criterion= dt_index_tuned)\n",
    "dt_best_param_score = accuracy_score(y_test, tree_best_pred)\n",
    "print(\"Accuracy score for decision tree using best param: \", end = ':')\n",
    "print(dt_best_param_score)"
   ]
  },
  {
   "cell_type": "code",
   "execution_count": 129,
   "metadata": {},
   "outputs": [],
   "source": [
    "tree1 = DecisionTreeClassifier(criterion = dt_index_tuned, max_depth=max_depth_tuned,\n",
    "                               random_state= rand_state, max_features=max_feature_tuned,\n",
    "                               min_samples_split=min_sample_split_tuned)"
   ]
  },
  {
   "cell_type": "code",
   "execution_count": 130,
   "metadata": {},
   "outputs": [
    {
     "data": {
      "image/png": "[encoded data removed]",
      "text/plain": [
       "<Figure size 600x300 with 2 Axes>"
      ]
     },
     "metadata": {},
     "output_type": "display_data"
    }
   ],
   "source": [
    "show_classification_rpt(tree1)"
   ]
  },
  {
   "cell_type": "code",
   "execution_count": 131,
   "metadata": {},
   "outputs": [
    {
     "name": "stdout",
     "output_type": "stream",
     "text": [
      "Confusion Matrix:\n",
      "[[13567  1079]\n",
      " [  993   837]]\n"
     ]
    }
   ],
   "source": [
    "print(\"Confusion Matrix:\")\n",
    "print(confusion_matrix(y_test, tree_best_pred))"
   ]
  },
  {
   "cell_type": "markdown",
   "metadata": {},
   "source": [
    "### Using polynomial features"
   ]
  },
  {
   "cell_type": "code",
   "execution_count": 132,
   "metadata": {},
   "outputs": [],
   "source": [
    "def create_poly(train, test, degree):\n",
    "    poly = PolynomialFeatures(degree = degree)\n",
    "    train_poly = poly.fit_transform(train)\n",
    "    test_poly = poly.fit_transform(test)\n",
    "    return train_poly, test_poly"
   ]
  },
  {
   "cell_type": "code",
   "execution_count": 133,
   "metadata": {},
   "outputs": [],
   "source": [
    "## polynomial features taking a lot of time as the number of columns are more. Hence commented the following piece of code"
   ]
  },
  {
   "cell_type": "code",
   "execution_count": 134,
   "metadata": {},
   "outputs": [],
   "source": [
    "# for degree in [1,2,3,4]:\n",
    "#     train_poly, test_poly = create_poly(X_train, X_test, degree)\n",
    "#     print(\"polynomial degree\", degree)\n",
    "#     fit_predict(train_poly, test_poly, y_train, y_test, StandardScaler(), 16, max_features = 0.2,min_samples_split=4, criterion='entropy')\n",
    "#     print(10 *'-')"
   ]
  },
  {
   "cell_type": "markdown",
   "metadata": {},
   "source": [
    "## Random Forest"
   ]
  },
  {
   "cell_type": "code",
   "execution_count": 135,
   "metadata": {},
   "outputs": [],
   "source": [
    "forest = RandomForestClassifier(criterion='entropy', oob_score=True)"
   ]
  },
  {
   "cell_type": "code",
   "execution_count": 136,
   "metadata": {},
   "outputs": [
    {
     "name": "stdout",
     "output_type": "stream",
     "text": [
      "Accuracy with Random Forest: 0.8802500606943433\n"
     ]
    }
   ],
   "source": [
    "print(\"Accuracy with Random Forest\", end=': ')\n",
    "rf_pred = fit_predict(forest, X_train_sm, X_test, y_train_sm, y_test)\n",
    "rf_accuracy = accuracy_score(y_test, rf_pred)\n",
    "print(rf_accuracy)"
   ]
  },
  {
   "cell_type": "code",
   "execution_count": 137,
   "metadata": {},
   "outputs": [
    {
     "data": {
      "image/png": "[encoded data removed]",
      "text/plain": [
       "<Figure size 600x300 with 2 Axes>"
      ]
     },
     "metadata": {},
     "output_type": "display_data"
    }
   ],
   "source": [
    "show_classification_rpt(forest)"
   ]
  },
  {
   "cell_type": "code",
   "execution_count": 138,
   "metadata": {},
   "outputs": [
    {
     "name": "stdout",
     "output_type": "stream",
     "text": [
      "Confusion Matrix:\n",
      "[[13837   809]\n",
      " [ 1164   666]]\n"
     ]
    }
   ],
   "source": [
    "print(\"Confusion Matrix:\")\n",
    "print(confusion_matrix(y_test,rf_pred))"
   ]
  },
  {
   "cell_type": "markdown",
   "metadata": {},
   "source": [
    "### Parameter tuning using Grid Search"
   ]
  },
  {
   "cell_type": "code",
   "execution_count": 139,
   "metadata": {},
   "outputs": [],
   "source": [
    "params = {\n",
    "    'n_estimators': [300,500,700],\n",
    "    'max_depth': [20,25,30,35],\n",
    "    'min_samples_leaf': [3,5,7]\n",
    "}"
   ]
  },
  {
   "cell_type": "code",
   "execution_count": 140,
   "metadata": {},
   "outputs": [],
   "source": [
    "gs = GridSearchCV(forest, params, cv=cv, verbose=verbose, n_jobs=number_of_jobs)"
   ]
  },
  {
   "cell_type": "code",
   "execution_count": 141,
   "metadata": {},
   "outputs": [
    {
     "name": "stdout",
     "output_type": "stream",
     "text": [
      "Fitting 2 folds for each of 36 candidates, totalling 72 fits\n"
     ]
    },
    {
     "name": "stderr",
     "output_type": "stream",
     "text": [
      "[Parallel(n_jobs=-1)]: Using backend LokyBackend with 4 concurrent workers.\n",
      "[Parallel(n_jobs=-1)]: Done  24 tasks      | elapsed:  6.4min\n",
      "[Parallel(n_jobs=-1)]: Done  72 out of  72 | elapsed: 18.4min finished\n"
     ]
    }
   ],
   "source": [
    "if grid_search_enable == True:\n",
    "    gs.fit(X_train_sm, y_train_sm)"
   ]
  },
  {
   "cell_type": "code",
   "execution_count": 142,
   "metadata": {},
   "outputs": [
    {
     "name": "stdout",
     "output_type": "stream",
     "text": [
      "{'max_depth': 35, 'min_samples_leaf': 3, 'n_estimators': 700}\n"
     ]
    }
   ],
   "source": [
    "if grid_search_enable == True:\n",
    "    print(gs.best_params_)"
   ]
  },
  {
   "cell_type": "code",
   "execution_count": 143,
   "metadata": {},
   "outputs": [],
   "source": [
    "if grid_search_enable == True:\n",
    "    forest_best_max_depth = gs.best_params_['max_depth']\n",
    "    forest_best_min_samples = gs.best_params_['min_samples_leaf']\n",
    "    forest_best_n_estimators = gs.best_params_['n_estimators']\n",
    "    #forest_best_criterion = gs.best_params_['criterion']"
   ]
  },
  {
   "cell_type": "code",
   "execution_count": 144,
   "metadata": {},
   "outputs": [
    {
     "name": "stdout",
     "output_type": "stream",
     "text": [
      "RandomForestClassifier(criterion='entropy', max_depth=35, min_samples_leaf=3,\n",
      "                       n_estimators=700, oob_score=True)\n"
     ]
    }
   ],
   "source": [
    "if grid_search_enable == True:\n",
    "    print(gs.best_estimator_)"
   ]
  },
  {
   "cell_type": "markdown",
   "metadata": {},
   "source": [
    "### Retraining with best estimators"
   ]
  },
  {
   "cell_type": "code",
   "execution_count": 145,
   "metadata": {},
   "outputs": [],
   "source": [
    "if grid_search_enable == True:\n",
    "    forest1 = RandomForestClassifier(bootstrap=True, ccp_alpha=0.0, class_weight=None,\n",
    "                       criterion='entropy', max_depth=forest_best_max_depth, max_features='auto',\n",
    "                       max_leaf_nodes=None, max_samples=None,\n",
    "                       min_impurity_decrease=0.0, min_impurity_split=None,\n",
    "                       min_samples_leaf=forest_best_min_samples, min_samples_split=2,\n",
    "                       min_weight_fraction_leaf=0.0, n_estimators=forest_best_n_estimators,\n",
    "                       n_jobs=number_of_jobs, oob_score=True, random_state=rand_state,\n",
    "                       verbose=0, warm_start=False)"
   ]
  },
  {
   "cell_type": "code",
   "execution_count": 146,
   "metadata": {},
   "outputs": [],
   "source": [
    "if grid_search_enable == True:\n",
    "    forest1.fit(X_train_sm, y_train_sm)"
   ]
  },
  {
   "cell_type": "code",
   "execution_count": 147,
   "metadata": {},
   "outputs": [],
   "source": [
    "if grid_search_enable == True:\n",
    "    pred_forest1 = forest1.predict(X_test)"
   ]
  },
  {
   "cell_type": "code",
   "execution_count": 148,
   "metadata": {},
   "outputs": [
    {
     "name": "stdout",
     "output_type": "stream",
     "text": [
      "Accuracy with Random Forest after Hyper Parameter Tuning: 0.8807963097839281\n"
     ]
    }
   ],
   "source": [
    "if grid_search_enable == True:\n",
    "    print(\"Accuracy with Random Forest after Hyper Parameter Tuning\", end=': ')\n",
    "    rf_hyper_accuracy = accuracy_score(y_test, pred_forest1)\n",
    "    print(rf_hyper_accuracy)"
   ]
  },
  {
   "cell_type": "code",
   "execution_count": 149,
   "metadata": {},
   "outputs": [
    {
     "name": "stdout",
     "output_type": "stream",
     "text": [
      "(0.0406027511706437, 'f.recession_strength_peak')\n",
      "(0.03557772200511361, 'f.recession_strength_non-peak')\n",
      "(0.02804831090813717, 'poutcome_failure')\n",
      "(0.02767521874833575, 'f.age_to_retire_weight')\n",
      "(0.026309162666873165, 'f.year_Y2008')\n",
      "(0.02514848653065723, 'contact_telephone')\n",
      "(0.0231386195888256, 'f.age_group_35_40')\n",
      "(0.022119804043163552, 'f.emp.var.bin_gt_1')\n",
      "(0.01990581069190857, 'f.age_group_30_35')\n",
      "(0.019595834278568217, 'f.emp_var_rate_negative')\n",
      "(0.019362605642547326, 'f.emp_var_rate_positive')\n",
      "(0.01928872094473544, 'f.age_group_40_45')\n",
      "(0.017483119400743086, 'f.age_group_45_50')\n",
      "(0.01721650739594178, 'education_high.school')\n",
      "(0.016554737465638382, 'education_university.degree')\n",
      "(0.016193676515495078, 'marital_married')\n",
      "(0.015443705994349407, 'education_basic.9y')\n",
      "(0.014948229103099914, 'f.savings_intent_factor')\n",
      "(0.014143398220415366, 'month_may')\n",
      "(0.013969039114149257, 'day_of_week_thu')\n",
      "(0.013576577745124212, 'marital_single')\n",
      "(0.013409954788905049, 'f.age_group_50_55')\n",
      "(0.013383878149512756, 'f.euribor_euri_475_500')\n",
      "(0.013268877563830146, 'f.age_group_25_30')\n",
      "(0.012707136003020291, 'day_of_week_tue')\n",
      "(0.01268633574251159, 'f.week_breakup_week_mid')\n",
      "(0.012312527903077134, 'f.current_campaign_calls_twice to thrice ')\n",
      "(0.012181340581097945, 'f.year_Y2010')\n",
      "(0.01202998677371184, 'day_of_week_wed')\n",
      "(0.011908826990999693, 'job_blue-collar')\n",
      "(0.011844300375909328, 'education_professional.course')\n",
      "(0.011842475952207462, 'contact_cellular')\n",
      "(0.011673892377615755, 'f.current_campaign_calls_once')\n",
      "(0.010983410184473717, 'f.week_breakup_week_start')\n",
      "(0.010789420787450488, 'day_of_week_mon')\n",
      "(0.010779580711513697, 'job_admin.')\n",
      "(0.010749398112615743, 'education_basic.4y')\n",
      "(0.010700896199087874, 'marital_divorced')\n",
      "(0.010667310580680949, 'housing_yes')\n",
      "(0.010524017692377699, 'f.first_time_user_calls_called atleast thrice')\n",
      "(0.010513618071358559, 'housing_no')\n",
      "(0.010505333639017707, 'f.into_loans_into_loans')\n",
      "(0.010478349239577352, 'loan_no')\n",
      "(0.010202737956068008, 'f.first_time_user_calls_called atleast twice')\n",
      "(0.009921845453464778, 'f.first_time_user_calls_first time called')\n",
      "(0.009628255831232748, 'poutcome_success')\n",
      "(0.00935169800049866, 'f.current_campaign_calls_four to six times')\n",
      "(0.009327275766316796, 'day_of_week_fri')\n",
      "(0.009216143521300957, 'f.into_loans_not_into_loans')\n",
      "(0.009020712457108072, 'f.week_breakup_week_end')\n",
      "(0.008864355305766751, 'loan_yes')\n",
      "(0.00855441671868139, 'f.age_group_55_60')\n",
      "(0.008363331033874677, 'f.cons.conf.bin_gt_46_lt_41')\n",
      "(0.008035041743065054, 'job_technician')\n",
      "(0.007575584044281805, 'f.commitment_medium')\n",
      "(0.007437694936549549, 'f.year_Y2009')\n",
      "(0.007239470969705639, 'f.age_range_weightage')\n",
      "(0.006745409785392253, 'previous')\n",
      "(0.006616039638119131, 'f.user_type_new user')\n",
      "(0.006184038837714538, 'f.euribor_euri_125_150')\n",
      "(0.006099886165425687, 'f.euribor_euri_400_425')\n",
      "(0.005940242886628607, 'f.cons.conf.bin_gt_41_lt_36')\n",
      "(0.005808871168681802, 'job_services')\n",
      "(0.005623951203402481, 'f.cons.conf.bin_gt_51_lt_46')\n",
      "(0.005353901357292055, 'f.cons.price.bin_gt_93_lt_935')\n",
      "(0.005272015457822455, 'education_basic.6y')\n",
      "(0.005232049355239724, 'f.emp.var.bin_gt_min_2_lt_15')\n",
      "(0.005069665240713826, 'f.previous_campaigns_no previous')\n",
      "(0.004679143896682037, 'f.user_type_existing user')\n",
      "(0.004635958252481186, 'f.cons.price.bin_gt_935_lt_94')\n",
      "(0.004576972114887514, 'f.euribor_euri_075_100')\n",
      "(0.004549422875566474, 'f.commitment_low')\n",
      "(0.004337585997337836, 'f.festivals')\n",
      "(0.004330638282978948, 'f.euribor_euri_050_075')\n",
      "(0.004165518673617337, 'f.previous_campaigns_1_to_3')\n",
      "(0.004143829002638805, 'f.age_group_20_25')\n",
      "(0.004057109133141514, 'job_management')\n",
      "(0.0038605838046200285, 'f.cons.price.bin_gt_925_lt_93')\n",
      "(0.0037998392145500567, 'f.first_time_user_calls_returning user')\n",
      "(0.003576488649170957, 'f.emp.var.bin_gt_min_05_lt_0')\n",
      "(0.00338610430802533, 'month_jul')\n",
      "(0.0033228679986421344, 'f.euribor_euri_100_125')\n",
      "(0.003086016338379503, 'month_aug')\n",
      "(0.002723586510187984, 'f.commitment_high')\n",
      "(0.002680172037310752, 'f.current_campaign_calls_seven to ten times')\n",
      "(0.002621623093074169, 'f.cons.price.bin_gt_94_lt_94.5')\n",
      "(0.0025875713679769886, 'month_apr')\n",
      "(0.002428755140875313, 'month_nov')\n",
      "(0.0024059829674871647, 'job_retired')\n",
      "(0.0023943942741061824, 'month_jun')\n",
      "(0.00205703932561239, 'job_self-employed')\n",
      "(0.00200777820866489, 'f.pdays_within a week')\n",
      "(0.001983663992643295, 'f.cons.price.bin_gt_92_lt_92.5')\n",
      "(0.0019281131589884604, 'month_oct')\n",
      "(0.0019182790372831897, 'f.emp.var.bin_gt_min_3_lt_25')\n",
      "(0.001796480630042465, 'f.cons.conf.bin_gt_36_lt_31')\n",
      "(0.0016872630319165706, 'f.current_campaign_calls_more than ten times')\n",
      "(0.0016843102524325435, 'job_entrepreneur')\n",
      "(0.0015467918606934985, 'month_mar')\n",
      "(0.001540599259464273, 'job_housemaid')\n",
      "(0.0015381398198364867, 'f.emp.var.bin_gt_min_35_lt_3')\n",
      "(0.0015314940296193298, 'f.cons.conf.bin_gt_31_lt_26')\n",
      "(0.0013794972867836694, 'f.retired_status_not-retired')\n",
      "(0.0012630791952600688, 'job_student')\n",
      "(0.0012588754772699994, 'job_unemployed')\n",
      "(0.0010768072054137784, 'f.age_group_60_65')\n",
      "(0.001036959487012644, 'month_sep')\n",
      "(0.0008110912117944171, 'f.emp.var.bin_gt_min_15_lt_1')\n",
      "(0.0008078639574675512, 'f.retired_status_retired')\n",
      "(0.0006675791940485143, 'f.pdays_within two weeks')\n",
      "(0.0005959532645909957, 'f.euribor_euri_150_175')\n",
      "(0.0005133399029248442, 'f.age_group_65_70')\n",
      "(0.0004187504833270641, 'f.age_group_70_75')\n",
      "(0.00041465164584725955, 'f.cons.price.bin_gt_945_lt_95')\n",
      "(0.0002906095691844916, 'f.age_group_16_20')\n",
      "(0.0002194606252550249, 'month_dec')\n",
      "(0.0001421883063975166, 'f.euribor_euri_175_200')\n",
      "(0.00013883526066212588, 'f.pdays_within three weeks')\n",
      "(0.0001331824266103903, 'f.age_group_75_80')\n",
      "(0.00011113371936750633, 'f.age_group_80_85')\n",
      "(0.00010497881716789276, 'f.previous_campaigns_gt_3')\n",
      "(4.561240874535131e-05, 'f.euribor_euri_425_450')\n",
      "(3.8024669399378214e-05, 'f.euribor_euri_450_475')\n",
      "(2.694344275220751e-05, 'f.age_group_85_90')\n",
      "(3.916238923587062e-06, 'education_illiterate')\n",
      "(1.6860379397381508e-06, 'f.age_group_90_')\n",
      "(1.3110052500972432e-06, 'f.euribor_euri_350_375')\n",
      "(1.119030239404494e-08, 'f.euribor_euri_500')\n",
      "(0.0, 'f.pdays_more than three weeks')\n",
      "(0.0, 'f.euribor_euri_325_350')\n",
      "(0.0, 'f.euribor_euri_300_325')\n"
     ]
    }
   ],
   "source": [
    "if grid_search_enable == True:\n",
    "    for x in sorted(list(zip(forest1.feature_importances_, X_train.columns)), reverse=True):\n",
    "        print(x)"
   ]
  },
  {
   "cell_type": "code",
   "execution_count": 150,
   "metadata": {},
   "outputs": [
    {
     "data": {
      "image/png": "[encoded data removed]",
      "text/plain": [
       "<Figure size 600x300 with 2 Axes>"
      ]
     },
     "metadata": {},
     "output_type": "display_data"
    }
   ],
   "source": [
    "if grid_search_enable == True:\n",
    "    show_classification_rpt(forest1)"
   ]
  },
  {
   "cell_type": "code",
   "execution_count": 151,
   "metadata": {},
   "outputs": [
    {
     "name": "stdout",
     "output_type": "stream",
     "text": [
      "Confusion Matrix:\n",
      "[[13664   982]\n",
      " [  982   848]]\n"
     ]
    }
   ],
   "source": [
    "if grid_search_enable == True:\n",
    "    print(\"Confusion Matrix:\")\n",
    "    print(confusion_matrix(y_test, pred_forest1))"
   ]
  },
  {
   "cell_type": "markdown",
   "metadata": {},
   "source": [
    "## Accuracy Summary Without Boosting"
   ]
  },
  {
   "cell_type": "code",
   "execution_count": 152,
   "metadata": {},
   "outputs": [
    {
     "name": "stdout",
     "output_type": "stream",
     "text": [
      "Accuracy with Logistic Regression: 0.889900461277009\n",
      "Accuracy with Decision Tree: 0.8454722019907744\n",
      "Accuracy of Decision Tree after Hyper Parameter Tuning: :0.8742413207089099\n",
      "Accuracy with Random Forest: 0.8802500606943433\n",
      "Accuracy with Random Forest after Hyper Parameter Tuning: 0.8807963097839281\n"
     ]
    }
   ],
   "source": [
    "print(\"Accuracy with Logistic Regression\", end=': ')\n",
    "print(logit_accuracy)\n",
    "print(\"Accuracy with Decision Tree\", end=': ')\n",
    "print(tree_accuracy)\n",
    "print(\"Accuracy of Decision Tree after Hyper Parameter Tuning: \", end = ':')\n",
    "print(dt_best_param_score)\n",
    "print(\"Accuracy with Random Forest\", end=': ')\n",
    "print(rf_accuracy)\n",
    "if grid_search_enable == True:\n",
    "    print(\"Accuracy with Random Forest after Hyper Parameter Tuning\", end=': ')\n",
    "    print(rf_hyper_accuracy)"
   ]
  },
  {
   "cell_type": "markdown",
   "metadata": {},
   "source": [
    "## AdaBoost"
   ]
  },
  {
   "cell_type": "code",
   "execution_count": 153,
   "metadata": {},
   "outputs": [],
   "source": [
    "from sklearn.ensemble import AdaBoostClassifier"
   ]
  },
  {
   "cell_type": "code",
   "execution_count": 154,
   "metadata": {},
   "outputs": [],
   "source": [
    "adabst_fit = AdaBoostClassifier(base_estimator=logit, random_state=rand_state, n_estimators=100)"
   ]
  },
  {
   "cell_type": "code",
   "execution_count": 155,
   "metadata": {},
   "outputs": [
    {
     "data": {
      "text/plain": [
       "AdaBoostClassifier(base_estimator=LogisticRegression(), n_estimators=100,\n",
       "                   random_state=101)"
      ]
     },
     "execution_count": 155,
     "metadata": {},
     "output_type": "execute_result"
    }
   ],
   "source": [
    "adabst_fit.fit(X_train_sm, y_train_sm)"
   ]
  },
  {
   "cell_type": "code",
   "execution_count": 156,
   "metadata": {},
   "outputs": [
    {
     "name": "stdout",
     "output_type": "stream",
     "text": [
      "Accuracy with Ada Boost: 0.8821922796795338\n"
     ]
    }
   ],
   "source": [
    "print(\"Accuracy with Ada Boost\", end=': ')\n",
    "ada_boost_predict = adabst_fit.predict(X_test)\n",
    "ada_boost_accuracy = accuracy_score(y_test,ada_boost_predict)\n",
    "print(ada_boost_accuracy)"
   ]
  },
  {
   "cell_type": "code",
   "execution_count": 157,
   "metadata": {},
   "outputs": [
    {
     "data": {
      "image/png": "[encoded data removed]",
      "text/plain": [
       "<Figure size 600x300 with 2 Axes>"
      ]
     },
     "metadata": {},
     "output_type": "display_data"
    }
   ],
   "source": [
    "show_classification_rpt(adabst_fit)"
   ]
  },
  {
   "cell_type": "code",
   "execution_count": 158,
   "metadata": {},
   "outputs": [
    {
     "name": "stdout",
     "output_type": "stream",
     "text": [
      "Confusion Matrix:\n",
      "[[13782   864]\n",
      " [ 1077   753]]\n"
     ]
    }
   ],
   "source": [
    "print(\"Confusion Matrix:\")\n",
    "print(confusion_matrix(y_test, ada_boost_predict))"
   ]
  },
  {
   "cell_type": "markdown",
   "metadata": {},
   "source": [
    "### Adaboost with Grid Search"
   ]
  },
  {
   "cell_type": "code",
   "execution_count": 159,
   "metadata": {},
   "outputs": [],
   "source": [
    "params_adaboost = {\n",
    "    'n_estimators': [100,200,300],\n",
    "    'base_estimator': [logit, tree1],\n",
    "    'learning_rate': [0.5,0.75,1.0]\n",
    "}"
   ]
  },
  {
   "cell_type": "code",
   "execution_count": 160,
   "metadata": {},
   "outputs": [],
   "source": [
    "ada_gs = GridSearchCV(adabst_fit, params_adaboost, cv=cv, n_jobs=number_of_jobs)"
   ]
  },
  {
   "cell_type": "code",
   "execution_count": null,
   "metadata": {},
   "outputs": [],
   "source": [
    "if grid_search_enable == True:\n",
    "    ada_gs.fit(X_train_sm, y_train_sm)"
   ]
  },
  {
   "cell_type": "code",
   "execution_count": null,
   "metadata": {},
   "outputs": [],
   "source": [
    "if grid_search_enable == True:\n",
    "    adabst_best_estimator = ada_gs.best_params_['base_estimator']\n",
    "    adabst_best_learning_rate = ada_gs.best_params_['learning_rate']\n",
    "    adabst_best_n_estimators = ada_gs.best_params_['n_estimators']"
   ]
  },
  {
   "cell_type": "code",
   "execution_count": null,
   "metadata": {},
   "outputs": [],
   "source": [
    "if grid_search_enable == True:\n",
    "    ada_gs.best_params_"
   ]
  },
  {
   "cell_type": "markdown",
   "metadata": {},
   "source": [
    "## Gradient Boost"
   ]
  },
  {
   "cell_type": "code",
   "execution_count": null,
   "metadata": {},
   "outputs": [],
   "source": [
    "from sklearn.ensemble import GradientBoostingClassifier"
   ]
  },
  {
   "cell_type": "code",
   "execution_count": null,
   "metadata": {},
   "outputs": [],
   "source": [
    "gbc_fit = GradientBoostingClassifier(n_estimators=500,\n",
    "                                     min_samples_split=2,min_samples_leaf=1,max_depth=1,random_state=rand_state)"
   ]
  },
  {
   "cell_type": "code",
   "execution_count": null,
   "metadata": {},
   "outputs": [],
   "source": [
    "gbc_fit.fit(X_train_sm, y_train_sm)"
   ]
  },
  {
   "cell_type": "code",
   "execution_count": null,
   "metadata": {},
   "outputs": [],
   "source": [
    "print(\"Accuracy with Gradient Boost\", end=': ')\n",
    "y_pred_gbc = gbc_fit.predict(X_test)\n",
    "gbc_accuracy = accuracy_score(y_test, y_pred_gbc)\n",
    "print(gbc_accuracy)"
   ]
  },
  {
   "cell_type": "code",
   "execution_count": null,
   "metadata": {},
   "outputs": [],
   "source": [
    "show_classification_rpt(gbc_fit)"
   ]
  },
  {
   "cell_type": "code",
   "execution_count": null,
   "metadata": {},
   "outputs": [],
   "source": [
    "print(\"Confusion Matrix:\")\n",
    "print(confusion_matrix(y_test, y_pred_gbc))"
   ]
  },
  {
   "cell_type": "markdown",
   "metadata": {},
   "source": [
    "## LGBM"
   ]
  },
  {
   "cell_type": "code",
   "execution_count": null,
   "metadata": {},
   "outputs": [],
   "source": [
    "from lightgbm import LGBMClassifier"
   ]
  },
  {
   "cell_type": "code",
   "execution_count": null,
   "metadata": {},
   "outputs": [],
   "source": [
    "LGBM = LGBMClassifier(n_jobs=number_of_jobs, num_leaves=31)\n",
    "LGBM.fit(X_train_sm, y_train_sm)"
   ]
  },
  {
   "cell_type": "code",
   "execution_count": null,
   "metadata": {},
   "outputs": [],
   "source": [
    "LGBM_predict = LGBM.predict(X_test)"
   ]
  },
  {
   "cell_type": "code",
   "execution_count": null,
   "metadata": {},
   "outputs": [],
   "source": [
    "print(\"Accuracy with LGBM\", end=': ')\n",
    "lgbm_accuracy = accuracy_score(y_test,LGBM_predict)\n",
    "print(lgbm_accuracy)"
   ]
  },
  {
   "cell_type": "code",
   "execution_count": null,
   "metadata": {},
   "outputs": [],
   "source": [
    "show_classification_rpt(LGBM)"
   ]
  },
  {
   "cell_type": "code",
   "execution_count": null,
   "metadata": {},
   "outputs": [],
   "source": [
    "print(\"Confusion Matrix:\")\n",
    "print(confusion_matrix(y_test, LGBM_predict))"
   ]
  },
  {
   "cell_type": "markdown",
   "metadata": {},
   "source": [
    "### LGBM With Grid Search"
   ]
  },
  {
   "cell_type": "code",
   "execution_count": null,
   "metadata": {},
   "outputs": [],
   "source": [
    "lgbm_params = {\n",
    "    'num_leaves': [31,35,41,45],\n",
    "    'n_estimators': [50,75,100,150]\n",
    "}"
   ]
  },
  {
   "cell_type": "code",
   "execution_count": null,
   "metadata": {},
   "outputs": [],
   "source": [
    "if grid_search_enable == True:\n",
    "    lgbm_gs = GridSearchCV(LGBM, lgbm_params, cv=cv, n_jobs=number_of_jobs)\n",
    "    lgbm_gs.fit(X_train_sm, y_train_sm)"
   ]
  },
  {
   "cell_type": "code",
   "execution_count": null,
   "metadata": {},
   "outputs": [],
   "source": [
    "if grid_search_enable == True:\n",
    "    lgbm_best_estimator = lgbm_gs.best_params_['n_estimators']\n",
    "    lgbm_best_num_leaves = lgbm_gs.best_params_['num_leaves']\n",
    "    print(lgbm_gs.best_params_)"
   ]
  },
  {
   "cell_type": "code",
   "execution_count": null,
   "metadata": {},
   "outputs": [],
   "source": [
    "if grid_search_enable == True:\n",
    "    show_classification_rpt(lgbm_gs)"
   ]
  },
  {
   "cell_type": "markdown",
   "metadata": {},
   "source": [
    "### LGBM With Best Parameters"
   ]
  },
  {
   "cell_type": "code",
   "execution_count": null,
   "metadata": {},
   "outputs": [],
   "source": [
    "if grid_search_enable == True:\n",
    "    LGBM_best = LGBMClassifier(n_jobs=number_of_jobs, num_leaves=lgbm_best_num_leaves, \n",
    "                               n_estimators=lgbm_best_estimator)\n",
    "    LGBM_best.fit(X_train_sm, y_train_sm)"
   ]
  },
  {
   "cell_type": "code",
   "execution_count": null,
   "metadata": {},
   "outputs": [],
   "source": [
    "if grid_search_enable == True:\n",
    "    LGBM_best_predict = LGBM_best.predict(X_test)\n",
    "    LGBM_accuracy_score = accuracy_score(y_test,LGBM_best_predict)"
   ]
  },
  {
   "cell_type": "code",
   "execution_count": null,
   "metadata": {},
   "outputs": [],
   "source": [
    "if grid_search_enable == True:\n",
    "    print(\"Accuracy with LGBM with Hyper Parameter Tuning\", end=': ')\n",
    "    print(LGBM_accuracy_score)"
   ]
  },
  {
   "cell_type": "code",
   "execution_count": null,
   "metadata": {},
   "outputs": [],
   "source": [
    "if grid_search_enable == True:\n",
    "    show_classification_rpt(LGBM_best)"
   ]
  },
  {
   "cell_type": "code",
   "execution_count": null,
   "metadata": {},
   "outputs": [],
   "source": [
    "if grid_search_enable == True:\n",
    "    print(\"Confusion Matrix:\")\n",
    "    print(confusion_matrix(y_test, LGBM_best_predict))"
   ]
  },
  {
   "cell_type": "markdown",
   "metadata": {},
   "source": [
    "## XG Boost"
   ]
  },
  {
   "cell_type": "code",
   "execution_count": null,
   "metadata": {},
   "outputs": [],
   "source": [
    "from xgboost import XGBClassifier"
   ]
  },
  {
   "cell_type": "code",
   "execution_count": null,
   "metadata": {},
   "outputs": [],
   "source": [
    "xgb_fit = XGBClassifier(max_depth=2, n_estimators=5000, random_state=rand_state, n_jobs=number_of_jobs)\n",
    "xgb_fit.fit(X_train_sm, y_train_sm)"
   ]
  },
  {
   "cell_type": "code",
   "execution_count": null,
   "metadata": {},
   "outputs": [],
   "source": [
    "print(\"Accuracy with XG Boost\", end=': ')\n",
    "xgb_predict = xgb_fit.predict(X_test)\n",
    "xgb_accuracy = accuracy_score(y_test,xgb_predict)\n",
    "print(xgb_accuracy)"
   ]
  },
  {
   "cell_type": "code",
   "execution_count": null,
   "metadata": {},
   "outputs": [],
   "source": [
    "show_classification_rpt(xgb_fit)"
   ]
  },
  {
   "cell_type": "code",
   "execution_count": null,
   "metadata": {},
   "outputs": [],
   "source": [
    "print(\"Confusion Matrix:\")\n",
    "print(confusion_matrix(y_test, xgb_predict))"
   ]
  },
  {
   "cell_type": "markdown",
   "metadata": {},
   "source": [
    "## Accuracy Summary With Boosting"
   ]
  },
  {
   "cell_type": "code",
   "execution_count": null,
   "metadata": {},
   "outputs": [],
   "source": [
    "print(\"Accuracy with Logistic Regression\", end=': ')\n",
    "print(logit_accuracy)\n",
    "\n",
    "print(\"Accuracy with Decision Tree\", end=': ')\n",
    "print(tree_accuracy)\n",
    "print(\"Accuracy with Decision Tree after Hyper Parameter Tuning: \", end = ':')\n",
    "print(dt_best_param_score)\n",
    "\n",
    "print(\"Accuracy with Random Forest\", end=': ')\n",
    "print(rf_accuracy)\n",
    "if grid_search_enable == True:\n",
    "    print(\"Accuracy with Random Forest after Hyper Parameter Tuning\", end=': ')\n",
    "    print(rf_hyper_accuracy)\n",
    "\n",
    "print(\"Accuracy with Ada Boost\", end=': ')\n",
    "print(ada_boost_accuracy)\n",
    "if grid_search_enable == True:\n",
    "    print(\"Accuracy with Ada Boost after Hyper Parameter Tuning\", end=': ')\n",
    "    print(ada_best_hyper_accuracy)\n",
    "\n",
    "print(\"Accuracy with Gradient Boost\", end=': ')\n",
    "print(gbc_accuracy)\n",
    "if grid_search_enable == True:\n",
    "    print(\"Accuracy with Gradient Boost after Hyper Parameter Tuning\", end=': ')\n",
    "    print(gbc_best_hyper_accuracy)\n",
    "    \n",
    "print(\"Accuracy with LGBM\", end=': ')\n",
    "print(lgbm_accuracy)\n",
    "if grid_search_enable == True:\n",
    "    print(\"Accuracy with LGBM after Hyper Parameter Tuning\", end=': ')\n",
    "    print(LGBM_accuracy_score)\n",
    "    \n",
    "print(\"Accuracy with XG Boost\", end=': ')\n",
    "print(xgb_accuracy)\n",
    "if grid_search_enable == True:\n",
    "    print(\"Accuracy with XG Boost after Hyper Parameter Tuning\", end=': ')\n",
    "    print(xgb_best_hyper_accuracy)"
   ]
  },
  {
   "cell_type": "code",
   "execution_count": null,
   "metadata": {},
   "outputs": [],
   "source": []
  }
 ],
 "metadata": {
  "kernelspec": {
   "display_name": "Python 3",
   "language": "python",
   "name": "python3"
  },
  "language_info": {
   "codemirror_mode": {
    "name": "ipython",
    "version": 3
   },
   "file_extension": ".py",
   "mimetype": "text/x-python",
   "name": "python",
   "nbconvert_exporter": "python",
   "pygments_lexer": "ipython3",
   "version": "3.7.7"
  }
 },
 "nbformat": 4,
 "nbformat_minor": 4
}
